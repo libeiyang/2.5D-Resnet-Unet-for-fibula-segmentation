{
  "nbformat": 4,
  "nbformat_minor": 0,
  "metadata": {
    "colab": {
      "name": "segmentation.ipynb",
      "provenance": [],
      "collapsed_sections": [],
      "toc_visible": true,
      "machine_shape": "hm",
      "authorship_tag": "ABX9TyOJi94wvMxSumFu165dMAV0",
      "include_colab_link": true
    },
    "kernelspec": {
      "name": "python3",
      "display_name": "Python 3"
    },
    "language_info": {
      "name": "python"
    },
    "accelerator": "GPU"
  },
  "cells": [
    {
      "cell_type": "markdown",
      "metadata": {
        "id": "view-in-github",
        "colab_type": "text"
      },
      "source": [
        "<a href=\"https://colab.research.google.com/github/libeiyang/2.5D-Resnet-Unet-for-fibula-segmentation/blob/main/segmentation.ipynb\" target=\"_parent\"><img src=\"https://colab.research.google.com/assets/colab-badge.svg\" alt=\"Open In Colab\"/></a>"
      ]
    },
    {
      "cell_type": "markdown",
      "metadata": {
        "id": "cIulL3JsDkuL"
      },
      "source": [
        "# GPU configuration"
      ]
    },
    {
      "cell_type": "markdown",
      "metadata": {
        "id": "wF26dH3E-f4z"
      },
      "source": [
        ""
      ]
    },
    {
      "cell_type": "code",
      "metadata": {
        "colab": {
          "base_uri": "https://localhost:8080/"
        },
        "id": "0MKTdSA2q94N",
        "outputId": "97818028-df2f-411b-8a4f-a17de685f84a"
      },
      "source": [
        "!pip uninstall -y tensorflow\n",
        "\n",
        "!pip install tensorflow-gpu==1.14"
      ],
      "execution_count": null,
      "outputs": [
        {
          "output_type": "stream",
          "name": "stdout",
          "text": [
            "Found existing installation: tensorflow 2.6.0\n",
            "Uninstalling tensorflow-2.6.0:\n",
            "  Successfully uninstalled tensorflow-2.6.0\n",
            "Collecting tensorflow-gpu==1.14\n",
            "  Downloading tensorflow_gpu-1.14.0-cp37-cp37m-manylinux1_x86_64.whl (377.1 MB)\n",
            "\u001b[K     |████████████████████████████████| 377.1 MB 7.8 kB/s \n",
            "\u001b[?25hRequirement already satisfied: six>=1.10.0 in /usr/local/lib/python3.7/dist-packages (from tensorflow-gpu==1.14) (1.15.0)\n",
            "Requirement already satisfied: absl-py>=0.7.0 in /usr/local/lib/python3.7/dist-packages (from tensorflow-gpu==1.14) (0.12.0)\n",
            "Requirement already satisfied: protobuf>=3.6.1 in /usr/local/lib/python3.7/dist-packages (from tensorflow-gpu==1.14) (3.17.3)\n",
            "Collecting tensorflow-estimator<1.15.0rc0,>=1.14.0rc0\n",
            "  Downloading tensorflow_estimator-1.14.0-py2.py3-none-any.whl (488 kB)\n",
            "\u001b[K     |████████████████████████████████| 488 kB 46.0 MB/s \n",
            "\u001b[?25hRequirement already satisfied: termcolor>=1.1.0 in /usr/local/lib/python3.7/dist-packages (from tensorflow-gpu==1.14) (1.1.0)\n",
            "Requirement already satisfied: grpcio>=1.8.6 in /usr/local/lib/python3.7/dist-packages (from tensorflow-gpu==1.14) (1.41.0)\n",
            "Collecting tensorboard<1.15.0,>=1.14.0\n",
            "  Downloading tensorboard-1.14.0-py3-none-any.whl (3.1 MB)\n",
            "\u001b[K     |████████████████████████████████| 3.1 MB 52.1 MB/s \n",
            "\u001b[?25hRequirement already satisfied: google-pasta>=0.1.6 in /usr/local/lib/python3.7/dist-packages (from tensorflow-gpu==1.14) (0.2.0)\n",
            "Requirement already satisfied: astor>=0.6.0 in /usr/local/lib/python3.7/dist-packages (from tensorflow-gpu==1.14) (0.8.1)\n",
            "Requirement already satisfied: keras-preprocessing>=1.0.5 in /usr/local/lib/python3.7/dist-packages (from tensorflow-gpu==1.14) (1.1.2)\n",
            "Requirement already satisfied: numpy<2.0,>=1.14.5 in /usr/local/lib/python3.7/dist-packages (from tensorflow-gpu==1.14) (1.19.5)\n",
            "Requirement already satisfied: wrapt>=1.11.1 in /usr/local/lib/python3.7/dist-packages (from tensorflow-gpu==1.14) (1.12.1)\n",
            "Collecting keras-applications>=1.0.6\n",
            "  Downloading Keras_Applications-1.0.8-py3-none-any.whl (50 kB)\n",
            "\u001b[K     |████████████████████████████████| 50 kB 9.7 MB/s \n",
            "\u001b[?25hRequirement already satisfied: gast>=0.2.0 in /usr/local/lib/python3.7/dist-packages (from tensorflow-gpu==1.14) (0.4.0)\n",
            "Requirement already satisfied: wheel>=0.26 in /usr/local/lib/python3.7/dist-packages (from tensorflow-gpu==1.14) (0.37.0)\n",
            "Requirement already satisfied: h5py in /usr/local/lib/python3.7/dist-packages (from keras-applications>=1.0.6->tensorflow-gpu==1.14) (3.1.0)\n",
            "Requirement already satisfied: werkzeug>=0.11.15 in /usr/local/lib/python3.7/dist-packages (from tensorboard<1.15.0,>=1.14.0->tensorflow-gpu==1.14) (1.0.1)\n",
            "Requirement already satisfied: setuptools>=41.0.0 in /usr/local/lib/python3.7/dist-packages (from tensorboard<1.15.0,>=1.14.0->tensorflow-gpu==1.14) (57.4.0)\n",
            "Requirement already satisfied: markdown>=2.6.8 in /usr/local/lib/python3.7/dist-packages (from tensorboard<1.15.0,>=1.14.0->tensorflow-gpu==1.14) (3.3.4)\n",
            "Requirement already satisfied: importlib-metadata in /usr/local/lib/python3.7/dist-packages (from markdown>=2.6.8->tensorboard<1.15.0,>=1.14.0->tensorflow-gpu==1.14) (4.8.1)\n",
            "Requirement already satisfied: cached-property in /usr/local/lib/python3.7/dist-packages (from h5py->keras-applications>=1.0.6->tensorflow-gpu==1.14) (1.5.2)\n",
            "Requirement already satisfied: typing-extensions>=3.6.4 in /usr/local/lib/python3.7/dist-packages (from importlib-metadata->markdown>=2.6.8->tensorboard<1.15.0,>=1.14.0->tensorflow-gpu==1.14) (3.7.4.3)\n",
            "Requirement already satisfied: zipp>=0.5 in /usr/local/lib/python3.7/dist-packages (from importlib-metadata->markdown>=2.6.8->tensorboard<1.15.0,>=1.14.0->tensorflow-gpu==1.14) (3.6.0)\n",
            "Installing collected packages: tensorflow-estimator, tensorboard, keras-applications, tensorflow-gpu\n",
            "  Attempting uninstall: tensorflow-estimator\n",
            "    Found existing installation: tensorflow-estimator 2.6.0\n",
            "    Uninstalling tensorflow-estimator-2.6.0:\n",
            "      Successfully uninstalled tensorflow-estimator-2.6.0\n",
            "  Attempting uninstall: tensorboard\n",
            "    Found existing installation: tensorboard 2.6.0\n",
            "    Uninstalling tensorboard-2.6.0:\n",
            "      Successfully uninstalled tensorboard-2.6.0\n",
            "Successfully installed keras-applications-1.0.8 tensorboard-1.14.0 tensorflow-estimator-1.14.0 tensorflow-gpu-1.14.0\n"
          ]
        }
      ]
    },
    {
      "cell_type": "code",
      "metadata": {
        "colab": {
          "base_uri": "https://localhost:8080/"
        },
        "id": "zKXz7GUbr_L-",
        "outputId": "261b103c-b8f7-48f8-91df-1aaec1beccd5"
      },
      "source": [
        "import tensorflow as tf\n",
        "print(tf.__version__)\n",
        "device_name = tf.test.gpu_device_name()\n",
        "if device_name != '/device:GPU:0':\n",
        "  raise SystemError('GPU device not found')\n",
        "print('Found GPU at: {}'.format(device_name))"
      ],
      "execution_count": null,
      "outputs": [
        {
          "output_type": "stream",
          "name": "stderr",
          "text": [
            "/usr/local/lib/python3.7/dist-packages/tensorflow/python/framework/dtypes.py:516: FutureWarning: Passing (type, 1) or '1type' as a synonym of type is deprecated; in a future version of numpy, it will be understood as (type, (1,)) / '(1,)type'.\n",
            "  _np_qint8 = np.dtype([(\"qint8\", np.int8, 1)])\n",
            "/usr/local/lib/python3.7/dist-packages/tensorflow/python/framework/dtypes.py:517: FutureWarning: Passing (type, 1) or '1type' as a synonym of type is deprecated; in a future version of numpy, it will be understood as (type, (1,)) / '(1,)type'.\n",
            "  _np_quint8 = np.dtype([(\"quint8\", np.uint8, 1)])\n",
            "/usr/local/lib/python3.7/dist-packages/tensorflow/python/framework/dtypes.py:518: FutureWarning: Passing (type, 1) or '1type' as a synonym of type is deprecated; in a future version of numpy, it will be understood as (type, (1,)) / '(1,)type'.\n",
            "  _np_qint16 = np.dtype([(\"qint16\", np.int16, 1)])\n",
            "/usr/local/lib/python3.7/dist-packages/tensorflow/python/framework/dtypes.py:519: FutureWarning: Passing (type, 1) or '1type' as a synonym of type is deprecated; in a future version of numpy, it will be understood as (type, (1,)) / '(1,)type'.\n",
            "  _np_quint16 = np.dtype([(\"quint16\", np.uint16, 1)])\n",
            "/usr/local/lib/python3.7/dist-packages/tensorflow/python/framework/dtypes.py:520: FutureWarning: Passing (type, 1) or '1type' as a synonym of type is deprecated; in a future version of numpy, it will be understood as (type, (1,)) / '(1,)type'.\n",
            "  _np_qint32 = np.dtype([(\"qint32\", np.int32, 1)])\n",
            "/usr/local/lib/python3.7/dist-packages/tensorflow/python/framework/dtypes.py:525: FutureWarning: Passing (type, 1) or '1type' as a synonym of type is deprecated; in a future version of numpy, it will be understood as (type, (1,)) / '(1,)type'.\n",
            "  np_resource = np.dtype([(\"resource\", np.ubyte, 1)])\n",
            "/usr/local/lib/python3.7/dist-packages/tensorboard/compat/tensorflow_stub/dtypes.py:541: FutureWarning: Passing (type, 1) or '1type' as a synonym of type is deprecated; in a future version of numpy, it will be understood as (type, (1,)) / '(1,)type'.\n",
            "  _np_qint8 = np.dtype([(\"qint8\", np.int8, 1)])\n",
            "/usr/local/lib/python3.7/dist-packages/tensorboard/compat/tensorflow_stub/dtypes.py:542: FutureWarning: Passing (type, 1) or '1type' as a synonym of type is deprecated; in a future version of numpy, it will be understood as (type, (1,)) / '(1,)type'.\n",
            "  _np_quint8 = np.dtype([(\"quint8\", np.uint8, 1)])\n",
            "/usr/local/lib/python3.7/dist-packages/tensorboard/compat/tensorflow_stub/dtypes.py:543: FutureWarning: Passing (type, 1) or '1type' as a synonym of type is deprecated; in a future version of numpy, it will be understood as (type, (1,)) / '(1,)type'.\n",
            "  _np_qint16 = np.dtype([(\"qint16\", np.int16, 1)])\n",
            "/usr/local/lib/python3.7/dist-packages/tensorboard/compat/tensorflow_stub/dtypes.py:544: FutureWarning: Passing (type, 1) or '1type' as a synonym of type is deprecated; in a future version of numpy, it will be understood as (type, (1,)) / '(1,)type'.\n",
            "  _np_quint16 = np.dtype([(\"quint16\", np.uint16, 1)])\n",
            "/usr/local/lib/python3.7/dist-packages/tensorboard/compat/tensorflow_stub/dtypes.py:545: FutureWarning: Passing (type, 1) or '1type' as a synonym of type is deprecated; in a future version of numpy, it will be understood as (type, (1,)) / '(1,)type'.\n",
            "  _np_qint32 = np.dtype([(\"qint32\", np.int32, 1)])\n",
            "/usr/local/lib/python3.7/dist-packages/tensorboard/compat/tensorflow_stub/dtypes.py:550: FutureWarning: Passing (type, 1) or '1type' as a synonym of type is deprecated; in a future version of numpy, it will be understood as (type, (1,)) / '(1,)type'.\n",
            "  np_resource = np.dtype([(\"resource\", np.ubyte, 1)])\n"
          ]
        },
        {
          "output_type": "stream",
          "name": "stdout",
          "text": [
            "1.14.0\n",
            "Found GPU at: /device:GPU:0\n"
          ]
        }
      ]
    },
    {
      "cell_type": "code",
      "metadata": {
        "colab": {
          "base_uri": "https://localhost:8080/"
        },
        "id": "aLf3EW-wUl1k",
        "outputId": "cde60ca1-91c1-4d2d-da8d-351051bc50dd"
      },
      "source": [
        "!pip uninstall -y tensorflow"
      ],
      "execution_count": null,
      "outputs": [
        {
          "output_type": "stream",
          "name": "stdout",
          "text": [
            "\u001b[33mWARNING: Skipping tensorflow as it is not installed.\u001b[0m\n"
          ]
        }
      ]
    },
    {
      "cell_type": "code",
      "metadata": {
        "id": "72ynMOcfslcq",
        "colab": {
          "base_uri": "https://localhost:8080/"
        },
        "outputId": "e8de52f5-9bab-437d-88b1-cc7d2f410889"
      },
      "source": [
        "from tensorflow.python.client import device_lib\n",
        "device_lib.list_local_devices()"
      ],
      "execution_count": null,
      "outputs": [
        {
          "output_type": "execute_result",
          "data": {
            "text/plain": [
              "[name: \"/device:CPU:0\"\n",
              " device_type: \"CPU\"\n",
              " memory_limit: 268435456\n",
              " locality {\n",
              " }\n",
              " incarnation: 8521613321781595907, name: \"/device:XLA_CPU:0\"\n",
              " device_type: \"XLA_CPU\"\n",
              " memory_limit: 17179869184\n",
              " locality {\n",
              " }\n",
              " incarnation: 1172618366757629692\n",
              " physical_device_desc: \"device: XLA_CPU device\", name: \"/device:XLA_GPU:0\"\n",
              " device_type: \"XLA_GPU\"\n",
              " memory_limit: 17179869184\n",
              " locality {\n",
              " }\n",
              " incarnation: 14013348640194453660\n",
              " physical_device_desc: \"device: XLA_GPU device\", name: \"/device:GPU:0\"\n",
              " device_type: \"GPU\"\n",
              " memory_limit: 15964005991\n",
              " locality {\n",
              "   bus_id: 1\n",
              "   links {\n",
              "   }\n",
              " }\n",
              " incarnation: 18420331186029934385\n",
              " physical_device_desc: \"device: 0, name: Tesla P100-PCIE-16GB, pci bus id: 0000:00:04.0, compute capability: 6.0\"]"
            ]
          },
          "metadata": {},
          "execution_count": 4
        }
      ]
    },
    {
      "cell_type": "code",
      "metadata": {
        "id": "Lth6kF6CvBjh",
        "colab": {
          "base_uri": "https://localhost:8080/"
        },
        "outputId": "008a559c-6de2-4c05-a56d-0ed6cffec9c1"
      },
      "source": [
        "!/opt/bin/nvidia-smi"
      ],
      "execution_count": null,
      "outputs": [
        {
          "output_type": "stream",
          "name": "stdout",
          "text": [
            "Mon Oct 18 08:43:39 2021       \n",
            "+-----------------------------------------------------------------------------+\n",
            "| NVIDIA-SMI 460.32.03    Driver Version: 460.32.03    CUDA Version: 11.2     |\n",
            "|-------------------------------+----------------------+----------------------+\n",
            "| GPU  Name        Persistence-M| Bus-Id        Disp.A | Volatile Uncorr. ECC |\n",
            "| Fan  Temp  Perf  Pwr:Usage/Cap|         Memory-Usage | GPU-Util  Compute M. |\n",
            "|                               |                      |               MIG M. |\n",
            "|===============================+======================+======================|\n",
            "|   0  Tesla P100-PCIE...  Off  | 00000000:00:04.0 Off |                    0 |\n",
            "| N/A   41C    P0    32W / 250W |    257MiB / 16280MiB |      0%      Default |\n",
            "|                               |                      |                  N/A |\n",
            "+-------------------------------+----------------------+----------------------+\n",
            "                                                                               \n",
            "+-----------------------------------------------------------------------------+\n",
            "| Processes:                                                                  |\n",
            "|  GPU   GI   CI        PID   Type   Process name                  GPU Memory |\n",
            "|        ID   ID                                                   Usage      |\n",
            "|=============================================================================|\n",
            "+-----------------------------------------------------------------------------+\n"
          ]
        }
      ]
    },
    {
      "cell_type": "code",
      "metadata": {
        "id": "hqQhFwzf0vx5"
      },
      "source": [
        ""
      ],
      "execution_count": null,
      "outputs": []
    },
    {
      "cell_type": "markdown",
      "metadata": {
        "id": "iuqjMqhn0u15"
      },
      "source": [
        "# pip install and import"
      ]
    },
    {
      "cell_type": "code",
      "metadata": {
        "id": "GnyKRNz6vxU7",
        "colab": {
          "base_uri": "https://localhost:8080/",
          "height": 1000
        },
        "outputId": "bfedd890-56df-432c-8b49-6ed29da6e0b0"
      },
      "source": [
        "!pip install pydicom\n",
        "!pip install dicom2nifti\n",
        "!pip install nibabel\n",
        "!pip install niwidgets\n",
        "!pip install itkwidgets\n",
        "!pip install SimpleITK\n",
        "!pip install opencv-python\n",
        "import pydicom\n",
        "import pylab\n",
        "import numpy as np\n",
        "import struct\n",
        "import matplotlib.pyplot as plt\n",
        "import dicom2nifti\n",
        "import nibabel as nib\n",
        "import cv2\n",
        "#import niwidgets\n",
        "from nibabel.viewers import OrthoSlicer3D"
      ],
      "execution_count": null,
      "outputs": [
        {
          "output_type": "stream",
          "name": "stdout",
          "text": [
            "Collecting pydicom\n",
            "  Downloading pydicom-2.2.2-py3-none-any.whl (2.0 MB)\n",
            "\u001b[K     |████████████████████████████████| 2.0 MB 8.2 MB/s \n",
            "\u001b[?25hInstalling collected packages: pydicom\n",
            "Successfully installed pydicom-2.2.2\n",
            "Collecting dicom2nifti\n",
            "  Downloading dicom2nifti-2.3.0.tar.gz (33 kB)\n",
            "Requirement already satisfied: nibabel in /usr/local/lib/python3.7/dist-packages (from dicom2nifti) (3.0.2)\n",
            "Requirement already satisfied: numpy in /usr/local/lib/python3.7/dist-packages (from dicom2nifti) (1.19.5)\n",
            "Requirement already satisfied: scipy in /usr/local/lib/python3.7/dist-packages (from dicom2nifti) (1.4.1)\n",
            "Requirement already satisfied: pydicom>=1.3.0 in /usr/local/lib/python3.7/dist-packages (from dicom2nifti) (2.2.2)\n",
            "Building wheels for collected packages: dicom2nifti\n",
            "  Building wheel for dicom2nifti (setup.py) ... \u001b[?25l\u001b[?25hdone\n",
            "  Created wheel for dicom2nifti: filename=dicom2nifti-2.3.0-py3-none-any.whl size=42932 sha256=16de67a83fc3b66cf923e46da101a0e0c66931096b6762b36aacd4c3226d0964\n",
            "  Stored in directory: /root/.cache/pip/wheels/bf/ff/aa/f5b52fd2e9f9355a28a6f6f6994d721a13209387528b146db5\n",
            "Successfully built dicom2nifti\n",
            "Installing collected packages: dicom2nifti\n",
            "Successfully installed dicom2nifti-2.3.0\n",
            "Requirement already satisfied: nibabel in /usr/local/lib/python3.7/dist-packages (3.0.2)\n",
            "Requirement already satisfied: numpy>=1.12 in /usr/local/lib/python3.7/dist-packages (from nibabel) (1.19.5)\n",
            "Collecting niwidgets\n",
            "  Downloading niwidgets-0.2.2-py3-none-any.whl (12.5 MB)\n",
            "\u001b[K     |████████████████████████████████| 12.5 MB 6.7 MB/s \n",
            "\u001b[?25hCollecting nilearn<0.6.0,>=0.5.2\n",
            "  Downloading nilearn-0.5.2-py2.py3-none-any.whl (2.3 MB)\n",
            "\u001b[K     |████████████████████████████████| 2.3 MB 53.3 MB/s \n",
            "\u001b[?25hRequirement already satisfied: scipy<2.0,>=1.2 in /usr/local/lib/python3.7/dist-packages (from niwidgets) (1.4.1)\n",
            "Collecting ipyvolume<0.6.0,>=0.5.1\n",
            "  Downloading ipyvolume-0.5.2-py2.py3-none-any.whl (2.9 MB)\n",
            "\u001b[K     |████████████████████████████████| 2.9 MB 73.2 MB/s \n",
            "\u001b[?25hRequirement already satisfied: matplotlib<4.0,>=3.0 in /usr/local/lib/python3.7/dist-packages (from niwidgets) (3.2.2)\n",
            "Collecting nibabel<3.0,>=2.4\n",
            "  Downloading nibabel-2.5.2-py3-none-any.whl (3.3 MB)\n",
            "\u001b[K     |████████████████████████████████| 3.3 MB 60.2 MB/s \n",
            "\u001b[?25hRequirement already satisfied: ipywidgets<8.0,>=7.4 in /usr/local/lib/python3.7/dist-packages (from niwidgets) (7.6.5)\n",
            "Requirement already satisfied: numpy<2.0,>=1.16 in /usr/local/lib/python3.7/dist-packages (from niwidgets) (1.19.5)\n",
            "Collecting scikit-learn<0.21.0,>=0.20.3\n",
            "  Downloading scikit_learn-0.20.4-cp37-cp37m-manylinux1_x86_64.whl (5.4 MB)\n",
            "\u001b[K     |████████████████████████████████| 5.4 MB 32.3 MB/s \n",
            "\u001b[?25hCollecting pythreejs>=1.0.0\n",
            "  Downloading pythreejs-2.3.0-py2.py3-none-any.whl (3.4 MB)\n",
            "\u001b[K     |████████████████████████████████| 3.4 MB 69.2 MB/s \n",
            "\u001b[?25hCollecting ipywebrtc\n",
            "  Downloading ipywebrtc-0.6.0-py2.py3-none-any.whl (260 kB)\n",
            "\u001b[K     |████████████████████████████████| 260 kB 75.5 MB/s \n",
            "\u001b[?25hRequirement already satisfied: traitlets in /usr/local/lib/python3.7/dist-packages (from ipyvolume<0.6.0,>=0.5.1->niwidgets) (5.1.0)\n",
            "Requirement already satisfied: requests in /usr/local/lib/python3.7/dist-packages (from ipyvolume<0.6.0,>=0.5.1->niwidgets) (2.23.0)\n",
            "Requirement already satisfied: Pillow in /usr/local/lib/python3.7/dist-packages (from ipyvolume<0.6.0,>=0.5.1->niwidgets) (7.1.2)\n",
            "Collecting traittypes\n",
            "  Downloading traittypes-0.2.1-py2.py3-none-any.whl (8.6 kB)\n",
            "Requirement already satisfied: ipykernel>=4.5.1 in /usr/local/lib/python3.7/dist-packages (from ipywidgets<8.0,>=7.4->niwidgets) (4.10.1)\n",
            "Requirement already satisfied: widgetsnbextension~=3.5.0 in /usr/local/lib/python3.7/dist-packages (from ipywidgets<8.0,>=7.4->niwidgets) (3.5.1)\n",
            "Requirement already satisfied: jupyterlab-widgets>=1.0.0 in /usr/local/lib/python3.7/dist-packages (from ipywidgets<8.0,>=7.4->niwidgets) (1.0.2)\n",
            "Requirement already satisfied: nbformat>=4.2.0 in /usr/local/lib/python3.7/dist-packages (from ipywidgets<8.0,>=7.4->niwidgets) (5.1.3)\n",
            "Requirement already satisfied: ipython>=4.0.0 in /usr/local/lib/python3.7/dist-packages (from ipywidgets<8.0,>=7.4->niwidgets) (5.5.0)\n",
            "Requirement already satisfied: ipython-genutils~=0.2.0 in /usr/local/lib/python3.7/dist-packages (from ipywidgets<8.0,>=7.4->niwidgets) (0.2.0)\n",
            "Requirement already satisfied: tornado>=4.0 in /usr/local/lib/python3.7/dist-packages (from ipykernel>=4.5.1->ipywidgets<8.0,>=7.4->niwidgets) (5.1.1)\n",
            "Requirement already satisfied: jupyter-client in /usr/local/lib/python3.7/dist-packages (from ipykernel>=4.5.1->ipywidgets<8.0,>=7.4->niwidgets) (5.3.5)\n",
            "Requirement already satisfied: simplegeneric>0.8 in /usr/local/lib/python3.7/dist-packages (from ipython>=4.0.0->ipywidgets<8.0,>=7.4->niwidgets) (0.8.1)\n",
            "Requirement already satisfied: setuptools>=18.5 in /usr/local/lib/python3.7/dist-packages (from ipython>=4.0.0->ipywidgets<8.0,>=7.4->niwidgets) (57.4.0)\n",
            "Requirement already satisfied: pickleshare in /usr/local/lib/python3.7/dist-packages (from ipython>=4.0.0->ipywidgets<8.0,>=7.4->niwidgets) (0.7.5)\n",
            "Requirement already satisfied: prompt-toolkit<2.0.0,>=1.0.4 in /usr/local/lib/python3.7/dist-packages (from ipython>=4.0.0->ipywidgets<8.0,>=7.4->niwidgets) (1.0.18)\n",
            "Requirement already satisfied: decorator in /usr/local/lib/python3.7/dist-packages (from ipython>=4.0.0->ipywidgets<8.0,>=7.4->niwidgets) (4.4.2)\n",
            "Requirement already satisfied: pexpect in /usr/local/lib/python3.7/dist-packages (from ipython>=4.0.0->ipywidgets<8.0,>=7.4->niwidgets) (4.8.0)\n",
            "Requirement already satisfied: pygments in /usr/local/lib/python3.7/dist-packages (from ipython>=4.0.0->ipywidgets<8.0,>=7.4->niwidgets) (2.6.1)\n",
            "Requirement already satisfied: kiwisolver>=1.0.1 in /usr/local/lib/python3.7/dist-packages (from matplotlib<4.0,>=3.0->niwidgets) (1.3.2)\n",
            "Requirement already satisfied: cycler>=0.10 in /usr/local/lib/python3.7/dist-packages (from matplotlib<4.0,>=3.0->niwidgets) (0.10.0)\n",
            "Requirement already satisfied: pyparsing!=2.0.4,!=2.1.2,!=2.1.6,>=2.0.1 in /usr/local/lib/python3.7/dist-packages (from matplotlib<4.0,>=3.0->niwidgets) (2.4.7)\n",
            "Requirement already satisfied: python-dateutil>=2.1 in /usr/local/lib/python3.7/dist-packages (from matplotlib<4.0,>=3.0->niwidgets) (2.8.2)\n",
            "Requirement already satisfied: six in /usr/local/lib/python3.7/dist-packages (from cycler>=0.10->matplotlib<4.0,>=3.0->niwidgets) (1.15.0)\n",
            "Requirement already satisfied: jsonschema!=2.5.0,>=2.4 in /usr/local/lib/python3.7/dist-packages (from nbformat>=4.2.0->ipywidgets<8.0,>=7.4->niwidgets) (2.6.0)\n",
            "Requirement already satisfied: jupyter-core in /usr/local/lib/python3.7/dist-packages (from nbformat>=4.2.0->ipywidgets<8.0,>=7.4->niwidgets) (4.8.1)\n",
            "Collecting numpy<2.0,>=1.16\n",
            "  Downloading numpy-1.16.6-cp37-cp37m-manylinux1_x86_64.whl (17.3 MB)\n",
            "\u001b[K     |████████████████████████████████| 17.3 MB 48.1 MB/s \n",
            "\u001b[?25hRequirement already satisfied: wcwidth in /usr/local/lib/python3.7/dist-packages (from prompt-toolkit<2.0.0,>=1.0.4->ipython>=4.0.0->ipywidgets<8.0,>=7.4->niwidgets) (0.2.5)\n",
            "Collecting ipydatawidgets>=1.1.1\n",
            "  Downloading ipydatawidgets-4.2.0-py2.py3-none-any.whl (275 kB)\n",
            "\u001b[K     |████████████████████████████████| 275 kB 94.2 MB/s \n",
            "\u001b[?25hRequirement already satisfied: notebook>=4.4.1 in /usr/local/lib/python3.7/dist-packages (from widgetsnbextension~=3.5.0->ipywidgets<8.0,>=7.4->niwidgets) (5.3.1)\n",
            "Requirement already satisfied: Send2Trash in /usr/local/lib/python3.7/dist-packages (from notebook>=4.4.1->widgetsnbextension~=3.5.0->ipywidgets<8.0,>=7.4->niwidgets) (1.8.0)\n",
            "Requirement already satisfied: terminado>=0.8.1 in /usr/local/lib/python3.7/dist-packages (from notebook>=4.4.1->widgetsnbextension~=3.5.0->ipywidgets<8.0,>=7.4->niwidgets) (0.12.1)\n",
            "Requirement already satisfied: jinja2 in /usr/local/lib/python3.7/dist-packages (from notebook>=4.4.1->widgetsnbextension~=3.5.0->ipywidgets<8.0,>=7.4->niwidgets) (2.11.3)\n",
            "Requirement already satisfied: nbconvert in /usr/local/lib/python3.7/dist-packages (from notebook>=4.4.1->widgetsnbextension~=3.5.0->ipywidgets<8.0,>=7.4->niwidgets) (5.6.1)\n",
            "Requirement already satisfied: pyzmq>=13 in /usr/local/lib/python3.7/dist-packages (from jupyter-client->ipykernel>=4.5.1->ipywidgets<8.0,>=7.4->niwidgets) (22.3.0)\n",
            "Requirement already satisfied: ptyprocess in /usr/local/lib/python3.7/dist-packages (from terminado>=0.8.1->notebook>=4.4.1->widgetsnbextension~=3.5.0->ipywidgets<8.0,>=7.4->niwidgets) (0.7.0)\n",
            "Requirement already satisfied: MarkupSafe>=0.23 in /usr/local/lib/python3.7/dist-packages (from jinja2->notebook>=4.4.1->widgetsnbextension~=3.5.0->ipywidgets<8.0,>=7.4->niwidgets) (2.0.1)\n",
            "Requirement already satisfied: bleach in /usr/local/lib/python3.7/dist-packages (from nbconvert->notebook>=4.4.1->widgetsnbextension~=3.5.0->ipywidgets<8.0,>=7.4->niwidgets) (4.1.0)\n",
            "Requirement already satisfied: pandocfilters>=1.4.1 in /usr/local/lib/python3.7/dist-packages (from nbconvert->notebook>=4.4.1->widgetsnbextension~=3.5.0->ipywidgets<8.0,>=7.4->niwidgets) (1.5.0)\n",
            "Requirement already satisfied: entrypoints>=0.2.2 in /usr/local/lib/python3.7/dist-packages (from nbconvert->notebook>=4.4.1->widgetsnbextension~=3.5.0->ipywidgets<8.0,>=7.4->niwidgets) (0.3)\n",
            "Requirement already satisfied: testpath in /usr/local/lib/python3.7/dist-packages (from nbconvert->notebook>=4.4.1->widgetsnbextension~=3.5.0->ipywidgets<8.0,>=7.4->niwidgets) (0.5.0)\n",
            "Requirement already satisfied: defusedxml in /usr/local/lib/python3.7/dist-packages (from nbconvert->notebook>=4.4.1->widgetsnbextension~=3.5.0->ipywidgets<8.0,>=7.4->niwidgets) (0.7.1)\n",
            "Requirement already satisfied: mistune<2,>=0.8.1 in /usr/local/lib/python3.7/dist-packages (from nbconvert->notebook>=4.4.1->widgetsnbextension~=3.5.0->ipywidgets<8.0,>=7.4->niwidgets) (0.8.4)\n",
            "Requirement already satisfied: packaging in /usr/local/lib/python3.7/dist-packages (from bleach->nbconvert->notebook>=4.4.1->widgetsnbextension~=3.5.0->ipywidgets<8.0,>=7.4->niwidgets) (21.0)\n",
            "Requirement already satisfied: webencodings in /usr/local/lib/python3.7/dist-packages (from bleach->nbconvert->notebook>=4.4.1->widgetsnbextension~=3.5.0->ipywidgets<8.0,>=7.4->niwidgets) (0.5.1)\n",
            "Requirement already satisfied: urllib3!=1.25.0,!=1.25.1,<1.26,>=1.21.1 in /usr/local/lib/python3.7/dist-packages (from requests->ipyvolume<0.6.0,>=0.5.1->niwidgets) (1.24.3)\n",
            "Requirement already satisfied: idna<3,>=2.5 in /usr/local/lib/python3.7/dist-packages (from requests->ipyvolume<0.6.0,>=0.5.1->niwidgets) (2.10)\n",
            "Requirement already satisfied: chardet<4,>=3.0.2 in /usr/local/lib/python3.7/dist-packages (from requests->ipyvolume<0.6.0,>=0.5.1->niwidgets) (3.0.4)\n",
            "Requirement already satisfied: certifi>=2017.4.17 in /usr/local/lib/python3.7/dist-packages (from requests->ipyvolume<0.6.0,>=0.5.1->niwidgets) (2021.5.30)\n",
            "Installing collected packages: traittypes, numpy, ipydatawidgets, pythreejs, nibabel, ipywebrtc, scikit-learn, nilearn, ipyvolume, niwidgets\n",
            "  Attempting uninstall: numpy\n",
            "    Found existing installation: numpy 1.19.5\n",
            "    Uninstalling numpy-1.19.5:\n",
            "      Successfully uninstalled numpy-1.19.5\n",
            "  Attempting uninstall: nibabel\n",
            "    Found existing installation: nibabel 3.0.2\n",
            "    Uninstalling nibabel-3.0.2:\n",
            "      Successfully uninstalled nibabel-3.0.2\n",
            "  Attempting uninstall: scikit-learn\n",
            "    Found existing installation: scikit-learn 0.22.2.post1\n",
            "    Uninstalling scikit-learn-0.22.2.post1:\n",
            "      Successfully uninstalled scikit-learn-0.22.2.post1\n",
            "\u001b[31mERROR: pip's dependency resolver does not currently take into account all the packages that are installed. This behaviour is the source of the following dependency conflicts.\n",
            "kapre 0.3.5 requires tensorflow>=2.0.0, which is not installed.\n",
            "xarray 0.18.2 requires numpy>=1.17, but you have numpy 1.16.6 which is incompatible.\n",
            "pyerfa 2.0.0 requires numpy>=1.17, but you have numpy 1.16.6 which is incompatible.\n",
            "kapre 0.3.5 requires numpy>=1.18.5, but you have numpy 1.16.6 which is incompatible.\n",
            "jaxlib 0.1.71+cuda111 requires numpy>=1.18, but you have numpy 1.16.6 which is incompatible.\n",
            "jax 0.2.21 requires numpy>=1.18, but you have numpy 1.16.6 which is incompatible.\n",
            "datascience 0.10.6 requires folium==0.2.1, but you have folium 0.8.3 which is incompatible.\n",
            "cupy-cuda111 9.4.0 requires numpy<1.24,>=1.17, but you have numpy 1.16.6 which is incompatible.\n",
            "astropy 4.3.1 requires numpy>=1.17, but you have numpy 1.16.6 which is incompatible.\n",
            "albumentations 0.1.12 requires imgaug<0.2.7,>=0.2.5, but you have imgaug 0.2.9 which is incompatible.\u001b[0m\n",
            "Successfully installed ipydatawidgets-4.2.0 ipyvolume-0.5.2 ipywebrtc-0.6.0 nibabel-2.5.2 nilearn-0.5.2 niwidgets-0.2.2 numpy-1.16.6 pythreejs-2.3.0 scikit-learn-0.20.4 traittypes-0.2.1\n"
          ]
        },
        {
          "output_type": "display_data",
          "data": {
            "application/vnd.colab-display-data+json": {
              "pip_warning": {
                "packages": [
                  "numpy"
                ]
              }
            }
          },
          "metadata": {}
        },
        {
          "output_type": "stream",
          "name": "stdout",
          "text": [
            "Collecting itkwidgets\n",
            "  Downloading itkwidgets-0.32.1-py2.py3-none-any.whl (3.4 MB)\n",
            "\u001b[K     |████████████████████████████████| 3.4 MB 8.0 MB/s \n",
            "\u001b[?25hCollecting itk-core>=5.2.0.post2\n",
            "  Downloading itk_core-5.2.1.post1-cp37-cp37m-manylinux_2_17_x86_64.manylinux2014_x86_64.whl (70.6 MB)\n",
            "\u001b[K     |████████████████████████████████| 70.6 MB 3.8 kB/s \n",
            "\u001b[?25hCollecting zstandard\n",
            "  Downloading zstandard-0.16.0-cp37-cp37m-manylinux_2_17_x86_64.manylinux2014_x86_64.whl (2.9 MB)\n",
            "\u001b[K     |████████████████████████████████| 2.9 MB 52.5 MB/s \n",
            "\u001b[?25hRequirement already satisfied: ipywidgets>=7.5.1 in /usr/local/lib/python3.7/dist-packages (from itkwidgets) (7.6.5)\n",
            "Collecting itk-meshtopolydata>=0.7.1\n",
            "  Downloading itk_meshtopolydata-0.7.1-cp37-cp37m-manylinux2014_x86_64.whl (861 kB)\n",
            "\u001b[K     |████████████████████████████████| 861 kB 55.8 MB/s \n",
            "\u001b[?25hCollecting ipympl>=0.4.1\n",
            "  Downloading ipympl-0.8.0-py2.py3-none-any.whl (80 kB)\n",
            "\u001b[K     |████████████████████████████████| 80 kB 11.7 MB/s \n",
            "\u001b[?25hRequirement already satisfied: numpy in /usr/local/lib/python3.7/dist-packages (from itkwidgets) (1.16.6)\n",
            "Collecting itk-filtering>=5.2.0.post2\n",
            "  Downloading itk_filtering-5.2.1.post1-cp37-cp37m-manylinux_2_17_x86_64.manylinux2014_x86_64.whl (95.3 MB)\n",
            "\u001b[K     |████████████████████████████████| 95.3 MB 21 kB/s \n",
            "\u001b[?25hRequirement already satisfied: colorcet in /usr/local/lib/python3.7/dist-packages (from itkwidgets) (2.0.6)\n",
            "Requirement already satisfied: six in /usr/local/lib/python3.7/dist-packages (from itkwidgets) (1.15.0)\n",
            "Requirement already satisfied: matplotlib in /usr/local/lib/python3.7/dist-packages (from itkwidgets) (3.2.2)\n",
            "Requirement already satisfied: ipydatawidgets>=4.0.1 in /usr/local/lib/python3.7/dist-packages (from itkwidgets) (4.2.0)\n",
            "Requirement already satisfied: traittypes>=0.2.0 in /usr/local/lib/python3.7/dist-packages (from ipydatawidgets>=4.0.1->itkwidgets) (0.2.1)\n",
            "Requirement already satisfied: ipykernel>=4.7 in /usr/local/lib/python3.7/dist-packages (from ipympl>=0.4.1->itkwidgets) (4.10.1)\n",
            "Requirement already satisfied: tornado>=4.0 in /usr/local/lib/python3.7/dist-packages (from ipykernel>=4.7->ipympl>=0.4.1->itkwidgets) (5.1.1)\n",
            "Requirement already satisfied: ipython>=4.0.0 in /usr/local/lib/python3.7/dist-packages (from ipykernel>=4.7->ipympl>=0.4.1->itkwidgets) (5.5.0)\n",
            "Requirement already satisfied: jupyter-client in /usr/local/lib/python3.7/dist-packages (from ipykernel>=4.7->ipympl>=0.4.1->itkwidgets) (5.3.5)\n",
            "Requirement already satisfied: traitlets>=4.1.0 in /usr/local/lib/python3.7/dist-packages (from ipykernel>=4.7->ipympl>=0.4.1->itkwidgets) (5.1.0)\n",
            "Requirement already satisfied: pickleshare in /usr/local/lib/python3.7/dist-packages (from ipython>=4.0.0->ipykernel>=4.7->ipympl>=0.4.1->itkwidgets) (0.7.5)\n",
            "Requirement already satisfied: decorator in /usr/local/lib/python3.7/dist-packages (from ipython>=4.0.0->ipykernel>=4.7->ipympl>=0.4.1->itkwidgets) (4.4.2)\n",
            "Requirement already satisfied: simplegeneric>0.8 in /usr/local/lib/python3.7/dist-packages (from ipython>=4.0.0->ipykernel>=4.7->ipympl>=0.4.1->itkwidgets) (0.8.1)\n",
            "Requirement already satisfied: setuptools>=18.5 in /usr/local/lib/python3.7/dist-packages (from ipython>=4.0.0->ipykernel>=4.7->ipympl>=0.4.1->itkwidgets) (57.4.0)\n",
            "Requirement already satisfied: pexpect in /usr/local/lib/python3.7/dist-packages (from ipython>=4.0.0->ipykernel>=4.7->ipympl>=0.4.1->itkwidgets) (4.8.0)\n",
            "Requirement already satisfied: pygments in /usr/local/lib/python3.7/dist-packages (from ipython>=4.0.0->ipykernel>=4.7->ipympl>=0.4.1->itkwidgets) (2.6.1)\n",
            "Requirement already satisfied: prompt-toolkit<2.0.0,>=1.0.4 in /usr/local/lib/python3.7/dist-packages (from ipython>=4.0.0->ipykernel>=4.7->ipympl>=0.4.1->itkwidgets) (1.0.18)\n",
            "Requirement already satisfied: jupyterlab-widgets>=1.0.0 in /usr/local/lib/python3.7/dist-packages (from ipywidgets>=7.5.1->itkwidgets) (1.0.2)\n",
            "Requirement already satisfied: nbformat>=4.2.0 in /usr/local/lib/python3.7/dist-packages (from ipywidgets>=7.5.1->itkwidgets) (5.1.3)\n",
            "Requirement already satisfied: ipython-genutils~=0.2.0 in /usr/local/lib/python3.7/dist-packages (from ipywidgets>=7.5.1->itkwidgets) (0.2.0)\n",
            "Requirement already satisfied: widgetsnbextension~=3.5.0 in /usr/local/lib/python3.7/dist-packages (from ipywidgets>=7.5.1->itkwidgets) (3.5.1)\n",
            "Collecting itk-numerics==5.2.1.post1\n",
            "  Downloading itk_numerics-5.2.1.post1-cp37-cp37m-manylinux_2_17_x86_64.manylinux2014_x86_64.whl (54.5 MB)\n",
            "\u001b[K     |████████████████████████████████| 54.5 MB 11 kB/s \n",
            "\u001b[?25hRequirement already satisfied: cycler>=0.10 in /usr/local/lib/python3.7/dist-packages (from matplotlib->itkwidgets) (0.10.0)\n",
            "Requirement already satisfied: kiwisolver>=1.0.1 in /usr/local/lib/python3.7/dist-packages (from matplotlib->itkwidgets) (1.3.2)\n",
            "Requirement already satisfied: pyparsing!=2.0.4,!=2.1.2,!=2.1.6,>=2.0.1 in /usr/local/lib/python3.7/dist-packages (from matplotlib->itkwidgets) (2.4.7)\n",
            "Requirement already satisfied: python-dateutil>=2.1 in /usr/local/lib/python3.7/dist-packages (from matplotlib->itkwidgets) (2.8.2)\n",
            "Requirement already satisfied: jsonschema!=2.5.0,>=2.4 in /usr/local/lib/python3.7/dist-packages (from nbformat>=4.2.0->ipywidgets>=7.5.1->itkwidgets) (2.6.0)\n",
            "Requirement already satisfied: jupyter-core in /usr/local/lib/python3.7/dist-packages (from nbformat>=4.2.0->ipywidgets>=7.5.1->itkwidgets) (4.8.1)\n",
            "Requirement already satisfied: wcwidth in /usr/local/lib/python3.7/dist-packages (from prompt-toolkit<2.0.0,>=1.0.4->ipython>=4.0.0->ipykernel>=4.7->ipympl>=0.4.1->itkwidgets) (0.2.5)\n",
            "Requirement already satisfied: notebook>=4.4.1 in /usr/local/lib/python3.7/dist-packages (from widgetsnbextension~=3.5.0->ipywidgets>=7.5.1->itkwidgets) (5.3.1)\n",
            "Requirement already satisfied: jinja2 in /usr/local/lib/python3.7/dist-packages (from notebook>=4.4.1->widgetsnbextension~=3.5.0->ipywidgets>=7.5.1->itkwidgets) (2.11.3)\n",
            "Requirement already satisfied: Send2Trash in /usr/local/lib/python3.7/dist-packages (from notebook>=4.4.1->widgetsnbextension~=3.5.0->ipywidgets>=7.5.1->itkwidgets) (1.8.0)\n",
            "Requirement already satisfied: terminado>=0.8.1 in /usr/local/lib/python3.7/dist-packages (from notebook>=4.4.1->widgetsnbextension~=3.5.0->ipywidgets>=7.5.1->itkwidgets) (0.12.1)\n",
            "Requirement already satisfied: nbconvert in /usr/local/lib/python3.7/dist-packages (from notebook>=4.4.1->widgetsnbextension~=3.5.0->ipywidgets>=7.5.1->itkwidgets) (5.6.1)\n",
            "Requirement already satisfied: pyzmq>=13 in /usr/local/lib/python3.7/dist-packages (from jupyter-client->ipykernel>=4.7->ipympl>=0.4.1->itkwidgets) (22.3.0)\n",
            "Requirement already satisfied: ptyprocess in /usr/local/lib/python3.7/dist-packages (from terminado>=0.8.1->notebook>=4.4.1->widgetsnbextension~=3.5.0->ipywidgets>=7.5.1->itkwidgets) (0.7.0)\n",
            "Requirement already satisfied: param>=1.7.0 in /usr/local/lib/python3.7/dist-packages (from colorcet->itkwidgets) (1.11.1)\n",
            "Requirement already satisfied: pyct>=0.4.4 in /usr/local/lib/python3.7/dist-packages (from colorcet->itkwidgets) (0.4.8)\n",
            "Requirement already satisfied: MarkupSafe>=0.23 in /usr/local/lib/python3.7/dist-packages (from jinja2->notebook>=4.4.1->widgetsnbextension~=3.5.0->ipywidgets>=7.5.1->itkwidgets) (2.0.1)\n",
            "Requirement already satisfied: entrypoints>=0.2.2 in /usr/local/lib/python3.7/dist-packages (from nbconvert->notebook>=4.4.1->widgetsnbextension~=3.5.0->ipywidgets>=7.5.1->itkwidgets) (0.3)\n",
            "Requirement already satisfied: bleach in /usr/local/lib/python3.7/dist-packages (from nbconvert->notebook>=4.4.1->widgetsnbextension~=3.5.0->ipywidgets>=7.5.1->itkwidgets) (4.1.0)\n",
            "Requirement already satisfied: mistune<2,>=0.8.1 in /usr/local/lib/python3.7/dist-packages (from nbconvert->notebook>=4.4.1->widgetsnbextension~=3.5.0->ipywidgets>=7.5.1->itkwidgets) (0.8.4)\n",
            "Requirement already satisfied: testpath in /usr/local/lib/python3.7/dist-packages (from nbconvert->notebook>=4.4.1->widgetsnbextension~=3.5.0->ipywidgets>=7.5.1->itkwidgets) (0.5.0)\n",
            "Requirement already satisfied: defusedxml in /usr/local/lib/python3.7/dist-packages (from nbconvert->notebook>=4.4.1->widgetsnbextension~=3.5.0->ipywidgets>=7.5.1->itkwidgets) (0.7.1)\n",
            "Requirement already satisfied: pandocfilters>=1.4.1 in /usr/local/lib/python3.7/dist-packages (from nbconvert->notebook>=4.4.1->widgetsnbextension~=3.5.0->ipywidgets>=7.5.1->itkwidgets) (1.5.0)\n",
            "Requirement already satisfied: webencodings in /usr/local/lib/python3.7/dist-packages (from bleach->nbconvert->notebook>=4.4.1->widgetsnbextension~=3.5.0->ipywidgets>=7.5.1->itkwidgets) (0.5.1)\n",
            "Requirement already satisfied: packaging in /usr/local/lib/python3.7/dist-packages (from bleach->nbconvert->notebook>=4.4.1->widgetsnbextension~=3.5.0->ipywidgets>=7.5.1->itkwidgets) (21.0)\n",
            "Installing collected packages: itk-core, itk-numerics, zstandard, itk-meshtopolydata, itk-filtering, ipympl, itkwidgets\n",
            "Successfully installed ipympl-0.8.0 itk-core-5.2.1.post1 itk-filtering-5.2.1.post1 itk-meshtopolydata-0.7.1 itk-numerics-5.2.1.post1 itkwidgets-0.32.1 zstandard-0.16.0\n",
            "Collecting SimpleITK\n",
            "  Downloading SimpleITK-2.1.1-cp37-cp37m-manylinux_2_12_x86_64.manylinux2010_x86_64.whl (48.4 MB)\n",
            "\u001b[K     |████████████████████████████████| 48.4 MB 9.8 kB/s \n",
            "\u001b[?25hInstalling collected packages: SimpleITK\n",
            "Successfully installed SimpleITK-2.1.1\n",
            "Requirement already satisfied: opencv-python in /usr/local/lib/python3.7/dist-packages (4.1.2.30)\n",
            "Requirement already satisfied: numpy>=1.14.5 in /usr/local/lib/python3.7/dist-packages (from opencv-python) (1.16.6)\n"
          ]
        }
      ]
    },
    {
      "cell_type": "code",
      "metadata": {
        "id": "vO5X2NaGoMzN"
      },
      "source": [
        "#temporary\n",
        "#!pip install jupyterlab\n",
        "#!jupyter labextension install @jupyter-widgets/jupyterlab-manager itk-jupyter-widgets\n",
        "import pydicom\n",
        "import pylab\n",
        "import numpy as np\n",
        "import struct\n",
        "import matplotlib.pyplot as plt\n",
        "import dicom2nifti\n",
        "import nibabel as nib\n",
        "import cv2\n",
        "import math\n",
        "#import niwidgets\n",
        "from nibabel.viewers import OrthoSlicer3D"
      ],
      "execution_count": null,
      "outputs": []
    },
    {
      "cell_type": "code",
      "metadata": {
        "colab": {
          "base_uri": "https://localhost:8080/"
        },
        "id": "OQbHVVKLlg06",
        "outputId": "8381e2aa-8b77-45fb-96e1-629519cc11c4"
      },
      "source": [
        "from google.colab import drive\n",
        "drive.mount(\"/content/drive\")\n"
      ],
      "execution_count": null,
      "outputs": [
        {
          "output_type": "stream",
          "name": "stdout",
          "text": [
            "Mounted at /content/drive\n"
          ]
        }
      ]
    },
    {
      "cell_type": "code",
      "metadata": {
        "id": "HNvv2iuOwK7o",
        "colab": {
          "base_uri": "https://localhost:8080/"
        },
        "outputId": "bb47d73e-c0ab-45bf-b1de-4bedddff2c61"
      },
      "source": [
        "#install a Python Library in Google Drive permanently\n",
        "# import os, sys\n",
        "# nb_path = '/content/notebooks'\n",
        "# os.symlink('/content/drive/MyDrive/Colab Notebooks', nb_path)\n",
        "# sys.path.insert(0, nb_path)  # or append(nb_path)\n",
        "!pip install opencv-python"
      ],
      "execution_count": null,
      "outputs": [
        {
          "output_type": "stream",
          "name": "stdout",
          "text": [
            "Requirement already satisfied: opencv-python in /usr/local/lib/python3.7/dist-packages (4.1.2.30)\n",
            "Requirement already satisfied: numpy>=1.14.5 in /usr/local/lib/python3.7/dist-packages (from opencv-python) (1.16.6)\n"
          ]
        }
      ]
    },
    {
      "cell_type": "code",
      "metadata": {
        "id": "9Voc3y9Nwmsm",
        "colab": {
          "base_uri": "https://localhost:8080/"
        },
        "outputId": "aa7f7d85-a283-420a-d7b7-b135d9581670"
      },
      "source": [
        "#!pip install --target=$nb_path pydicom\n",
        "#!pip install --target=$nb_path dicom2nifti\n",
        "#!pip install --target=$nb_path nibabel\n",
        "#!pip install --target=$nb_path niwidgets\n",
        "#!pip install --target=$nb_path itkwidgets\n",
        "!pip install SimpleITK"
      ],
      "execution_count": null,
      "outputs": [
        {
          "output_type": "stream",
          "name": "stdout",
          "text": [
            "Requirement already satisfied: SimpleITK in /usr/local/lib/python3.7/dist-packages (2.1.1)\n"
          ]
        }
      ]
    },
    {
      "cell_type": "markdown",
      "metadata": {
        "id": "q8sWfpPO04FI"
      },
      "source": [
        "# Try to read dataset from Google drive"
      ]
    },
    {
      "cell_type": "code",
      "metadata": {
        "id": "_p2nKZ0c0A-E",
        "colab": {
          "base_uri": "https://localhost:8080/",
          "height": 355
        },
        "outputId": "fddc1874-79c7-46f9-ad66-d89881bf2468"
      },
      "source": [
        "##read dcm file\n",
        "ds = pydicom.read_file('/content/drive/MyDrive/ThesisProject/dataset/fibuladata01/test 01/test01_DTR0700.dcm')\n",
        "##\n",
        "pixel_bytes = ds.PixelData\n",
        "\n",
        "##CT值组成了一个矩阵\n",
        "pix = ds.pixel_array\n",
        "\n",
        "##读取显示图片\n",
        "pylab.imshow(ds.pixel_array, cmap=pylab.cm.bone)\n",
        "pylab.show()"
      ],
      "execution_count": null,
      "outputs": [
        {
          "output_type": "error",
          "ename": "FileNotFoundError",
          "evalue": "ignored",
          "traceback": [
            "\u001b[0;31m---------------------------------------------------------------------------\u001b[0m",
            "\u001b[0;31mFileNotFoundError\u001b[0m                         Traceback (most recent call last)",
            "\u001b[0;32m<ipython-input-4-49fbef1cc7a9>\u001b[0m in \u001b[0;36m<module>\u001b[0;34m()\u001b[0m\n\u001b[1;32m      1\u001b[0m \u001b[0;31m##read dcm file\u001b[0m\u001b[0;34m\u001b[0m\u001b[0;34m\u001b[0m\u001b[0;34m\u001b[0m\u001b[0m\n\u001b[0;32m----> 2\u001b[0;31m \u001b[0mds\u001b[0m \u001b[0;34m=\u001b[0m \u001b[0mpydicom\u001b[0m\u001b[0;34m.\u001b[0m\u001b[0mread_file\u001b[0m\u001b[0;34m(\u001b[0m\u001b[0;34m'/content/drive/MyDrive/ThesisProject/dataset/fibuladata01/test 01/test01_DTR0700.dcm'\u001b[0m\u001b[0;34m)\u001b[0m\u001b[0;34m\u001b[0m\u001b[0;34m\u001b[0m\u001b[0m\n\u001b[0m\u001b[1;32m      3\u001b[0m \u001b[0;31m##\u001b[0m\u001b[0;34m\u001b[0m\u001b[0;34m\u001b[0m\u001b[0;34m\u001b[0m\u001b[0m\n\u001b[1;32m      4\u001b[0m \u001b[0mpixel_bytes\u001b[0m \u001b[0;34m=\u001b[0m \u001b[0mds\u001b[0m\u001b[0;34m.\u001b[0m\u001b[0mPixelData\u001b[0m\u001b[0;34m\u001b[0m\u001b[0;34m\u001b[0m\u001b[0m\n\u001b[1;32m      5\u001b[0m \u001b[0;34m\u001b[0m\u001b[0m\n",
            "\u001b[0;32m/usr/local/lib/python3.7/dist-packages/pydicom/filereader.py\u001b[0m in \u001b[0;36mdcmread\u001b[0;34m(fp, defer_size, stop_before_pixels, force, specific_tags)\u001b[0m\n\u001b[1;32m    859\u001b[0m         \u001b[0mcaller_owns_file\u001b[0m \u001b[0;34m=\u001b[0m \u001b[0;32mFalse\u001b[0m\u001b[0;34m\u001b[0m\u001b[0;34m\u001b[0m\u001b[0m\n\u001b[1;32m    860\u001b[0m         \u001b[0mlogger\u001b[0m\u001b[0;34m.\u001b[0m\u001b[0mdebug\u001b[0m\u001b[0;34m(\u001b[0m\u001b[0;34m\"Reading file '{0}'\"\u001b[0m\u001b[0;34m.\u001b[0m\u001b[0mformat\u001b[0m\u001b[0;34m(\u001b[0m\u001b[0mfp\u001b[0m\u001b[0;34m)\u001b[0m\u001b[0;34m)\u001b[0m\u001b[0;34m\u001b[0m\u001b[0;34m\u001b[0m\u001b[0m\n\u001b[0;32m--> 861\u001b[0;31m         \u001b[0mfp\u001b[0m \u001b[0;34m=\u001b[0m \u001b[0mopen\u001b[0m\u001b[0;34m(\u001b[0m\u001b[0mfp\u001b[0m\u001b[0;34m,\u001b[0m \u001b[0;34m'rb'\u001b[0m\u001b[0;34m)\u001b[0m\u001b[0;34m\u001b[0m\u001b[0;34m\u001b[0m\u001b[0m\n\u001b[0m\u001b[1;32m    862\u001b[0m     \u001b[0;32melif\u001b[0m \u001b[0mfp\u001b[0m \u001b[0;32mis\u001b[0m \u001b[0;32mNone\u001b[0m \u001b[0;32mor\u001b[0m \u001b[0;32mnot\u001b[0m \u001b[0mhasattr\u001b[0m\u001b[0;34m(\u001b[0m\u001b[0mfp\u001b[0m\u001b[0;34m,\u001b[0m \u001b[0;34m\"read\"\u001b[0m\u001b[0;34m)\u001b[0m \u001b[0;32mor\u001b[0m \u001b[0;32mnot\u001b[0m \u001b[0mhasattr\u001b[0m\u001b[0;34m(\u001b[0m\u001b[0mfp\u001b[0m\u001b[0;34m,\u001b[0m \u001b[0;34m\"seek\"\u001b[0m\u001b[0;34m)\u001b[0m\u001b[0;34m:\u001b[0m\u001b[0;34m\u001b[0m\u001b[0;34m\u001b[0m\u001b[0m\n\u001b[1;32m    863\u001b[0m         raise TypeError(\"dcmread: Expected a file path or a file-like, \"\n",
            "\u001b[0;31mFileNotFoundError\u001b[0m: [Errno 2] No such file or directory: '/content/drive/MyDrive/ThesisProject/dataset/fibuladata01/test 01/test01_DTR0700.dcm'"
          ]
        }
      ]
    },
    {
      "cell_type": "code",
      "metadata": {
        "colab": {
          "base_uri": "https://localhost:8080/"
        },
        "id": "WaQZfvtsfSYo",
        "outputId": "2c030f57-8056-4bb4-f9b8-31313ef67ddd"
      },
      "source": [
        "max = np.max(bmp)\n",
        "max"
      ],
      "execution_count": null,
      "outputs": [
        {
          "output_type": "execute_result",
          "data": {
            "text/plain": [
              "255"
            ]
          },
          "metadata": {
            "tags": []
          },
          "execution_count": 28
        }
      ]
    },
    {
      "cell_type": "code",
      "metadata": {
        "id": "uogcjZkI2SDQ",
        "colab": {
          "base_uri": "https://localhost:8080/",
          "height": 269
        },
        "outputId": "f346caba-8029-4ff0-8afd-7303b41f6732"
      },
      "source": [
        "##read bmp file\n",
        "bmp_filepath = '/content/drive/MyDrive/ThesisProject/dataset/fibuladata01/test 08 bmp/_Axial+0058.8-000.bmp'\n",
        "bmp = plt.imread(bmp_filepath)\n",
        "plt.imshow(bmp)\n",
        "plt.show()\n",
        "pos = np.unravel_index(np.argmax(bmp),bmp.shape)"
      ],
      "execution_count": null,
      "outputs": [
        {
          "output_type": "display_data",
          "data": {
            "image/png": "[encoded data removed]",
            "text/plain": [
              "<Figure size 432x288 with 1 Axes>"
            ]
          },
          "metadata": {
            "needs_background": "light"
          }
        }
      ]
    },
    {
      "cell_type": "code",
      "metadata": {
        "colab": {
          "base_uri": "https://localhost:8080/"
        },
        "id": "CeQcyDSzuK09",
        "outputId": "5016e0e7-b134-41fb-bb36-bd78185a841d"
      },
      "source": [
        "whos"
      ],
      "execution_count": null,
      "outputs": [
        {
          "output_type": "stream",
          "text": [
            "Variable        Type           Data/Info\n",
            "----------------------------------------\n",
            "OrthoSlicer3D   type           <class 'nibabel.viewers.OrthoSlicer3D'>\n",
            "bmp             ndarray        512x512x3: 786432 elems, type `uint8`, 786432 bytes (768.0 kb)\n",
            "bmp_filepath    str            /content/drive/MyDrive/Th<...>/fibuladata01/test 01 bmp\n",
            "bmp_files       list           n=983\n",
            "bmp_image       ndarray        512x512x3: 786432 elems, type `uint8`, 786432 bytes (768.0 kb)\n",
            "dicom2nifti     module         <module 'dicom2nifti' fro<...>dicom2nifti/__init__.py'>\n",
            "dim             tuple          n=1\n",
            "drive           module         <module 'google.colab.dri<...>s/google/colab/drive.py'>\n",
            "ds              FileDataset    Dataset.file_meta -------<...> Array of 524288 elements\n",
            "file            str            DEPRAETERE TOM ROGER_Axial+0589.2-000.bmp\n",
            "height          int            512\n",
            "i               int            1\n",
            "img_nii         Nifti1Image    <class 'nibabel.nifti1.Ni<...>nmagic           : b'n+1'\n",
            "itkwidgets      module         <module 'itkwidgets' from<...>/itkwidgets/__init__.py'>\n",
            "label           ndarray        512x512: 262144 elems, type `float64`, 2097152 bytes (2.0 Mb)\n",
            "nib             module         <module 'nibabel' from '/<...>ges/nibabel/__init__.py'>\n",
            "np              module         <module 'numpy' from '/us<...>kages/numpy/__init__.py'>\n",
            "num_file        int            983\n",
            "os              module         <module 'os' from '/usr/lib/python3.7/os.py'>\n",
            "output_file     str            /content/drive/MyDrive/Th<...>nii/train_set/train01.nii\n",
            "pix             ndarray        512x512: 262144 elems, type `uint16`, 524288 bytes (512.0 kb)\n",
            "pixel_bytes     bytes          b'\\x00\\x00\\x00\\x00\\x00\\x0<...>\\x00\\x00\\x00\\x00\\x00\\x00'\n",
            "plt             module         <module 'matplotlib.pyplo<...>es/matplotlib/pyplot.py'>\n",
            "pos             tuple          n=3\n",
            "pydicom         module         <module 'pydicom' from '/<...>ges/pydicom/__init__.py'>\n",
            "pylab           module         <module 'pylab' from '/us<...>/dist-packages/pylab.py'>\n",
            "seg             ndarray        983x512x512: 257687552 elems, type `float64`, 2061500416 bytes (1966.0 Mb)\n",
            "seg_arr         ndarray        4x2: 8 elems, type `float64`, 64 bytes\n",
            "seg_data        ndarray        257687552: 257687552 elems, type `float64`, 2061500416 bytes (1966.0 Mb)\n",
            "struct          module         <module 'struct' from '/u<...>lib/python3.7/struct.py'>\n",
            "view            function       <function view at 0x7f3ca47fdf80>\n",
            "width           int            512\n",
            "x               int            511\n",
            "y               int            511\n"
          ],
          "name": "stdout"
        }
      ]
    },
    {
      "cell_type": "code",
      "metadata": {
        "id": "7hBCfH2G3zZq",
        "colab": {
          "base_uri": "https://localhost:8080/",
          "height": 269
        },
        "outputId": "802a2d96-d5fb-49bc-809a-8b749d9349a2"
      },
      "source": [
        "label = np.zeros([512,512])\n",
        "width = np.size(bmp,0)\n",
        "height = np.size(bmp,1)\n",
        "\n",
        "##used for green label\n",
        "for x in range(width):\n",
        "    for y in range(height):\n",
        "        if bmp[x,y,0] < bmp[x,y,1]:\n",
        "            label[x,y] = 1\n",
        "plt.imshow(label)\n",
        "plt.show()"
      ],
      "execution_count": null,
      "outputs": [
        {
          "output_type": "display_data",
          "data": {
            "image/png": "[encoded data removed]",
            "text/plain": [
              "<Figure size 432x288 with 1 Axes>"
            ]
          },
          "metadata": {
            "tags": [],
            "needs_background": "light"
          }
        }
      ]
    },
    {
      "cell_type": "code",
      "metadata": {
        "colab": {
          "base_uri": "https://localhost:8080/",
          "height": 269
        },
        "id": "dYwiCVeKf7dc",
        "outputId": "f7e54411-6fb2-4fa8-a5e5-71212ff45a98"
      },
      "source": [
        "#used for yellow label\n",
        "src=cv2.imread(bmp_filepath)\n",
        "hsv = cv2.cvtColor(src, cv2.COLOR_BGR2HSV)\n",
        "low_hsv = np.array([10,10,0])\n",
        "high_hsv = np.array([360,255,255])\n",
        "mask = cv2.inRange(hsv,lowerb=low_hsv,upperb=high_hsv)\n",
        "plt.imshow(mask)\n",
        "plt.show()"
      ],
      "execution_count": null,
      "outputs": [
        {
          "output_type": "display_data",
          "data": {
            "image/png": "[encoded data removed]",
            "text/plain": [
              "<Figure size 432x288 with 1 Axes>"
            ]
          },
          "metadata": {
            "needs_background": "light"
          }
        }
      ]
    },
    {
      "cell_type": "code",
      "metadata": {
        "id": "if5kLAgg5U44"
      },
      "source": [
        "#.nii格式的图像转化numpy格式\n",
        "# import nibabel as nib\n",
        "# import os\n",
        "# import numpy as np\n",
        "\n",
        "# img_path = '/home/lei/train/img/'\n",
        "# seg_path = '/home/lei/train/seg/'\n",
        "# saveimg_path = '/home/lei/train/npy_img/'\n",
        "# saveseg_path = '/home/lei/train/npy_seg/'\n",
        "\n",
        "# img_names = os.listdir(img_path)\n",
        "# seg_names = os.listdir(seg_path)\n",
        "\n",
        "\n",
        "# for img_name in img_names:\n",
        "#     print(img_name)\n",
        "#     img = nib.load(img_path + img_name).get_data() #载入\n",
        "#     img = np.array(img)\n",
        "#     np.save(saveimg_path + str(img_name).split('.')[0] + '.npy', img) #保存\n",
        "\n",
        "\n",
        "# for seg_name in seg_names:\n",
        "#     print(seg_name)\n",
        "#     seg = nib.load(seg_path + seg_name).get_data()\n",
        "#     seg = np.array(seg)\n",
        "#     np.save(saveseg_path + str(seg_name).split('.')[0] + '.npy’, seg)"
      ],
      "execution_count": null,
      "outputs": []
    },
    {
      "cell_type": "markdown",
      "metadata": {
        "id": "Nr-qRye87SpS"
      },
      "source": [
        "# Convert Multiple DICOM files to 3D NII files"
      ]
    },
    {
      "cell_type": "code",
      "metadata": {
        "colab": {
          "base_uri": "https://localhost:8080/"
        },
        "id": "z4HbbIsR71T6",
        "outputId": "458ef86e-9d1e-4c78-b6e0-29db95ccec15"
      },
      "source": [
        "#just run once!!!!!\n",
        "original_dicom_directory = '/content/drive/MyDrive/ThesisProject/dataset/fibuladata01/test 06'\n",
        "# named test01\n",
        "output_file = '/content/drive/MyDrive/ThesisProject/dataset/leg_nii/train06'\n",
        "dicom2nifti.dicom_series_to_nifti(original_dicom_directory, output_file, reorient_nifti=True)"
      ],
      "execution_count": null,
      "outputs": [
        {
          "output_type": "execute_result",
          "data": {
            "text/plain": [
              "{'MAX_SLICE_INCREMENT': 0.6000000000000002,\n",
              " 'NII': <nibabel.nifti1.Nifti1Image at 0x7f8bf5ed9dd0>,\n",
              " 'NII_FILE': '/content/drive/MyDrive/ThesisProject/dataset/leg_nii/train06'}"
            ]
          },
          "metadata": {
            "tags": []
          },
          "execution_count": 18
        }
      ]
    },
    {
      "cell_type": "code",
      "metadata": {
        "id": "mju_vsLF5KLz"
      },
      "source": [
        "import SimpleITK as sitk\n",
        "mask = np.load('/content/drive/MyDrive/ThesisProject/dataset/leg_nii/train_set/seg_npy/seg06.npy')\n",
        "mask = mask.astype(np.int)\n",
        "mask = sitk.GetImageFromArray(mask)\n",
        "sitk.WriteImage(mask, '/content/drive/MyDrive/ThesisProject/dataset/leg_nii/train_set/nii/mask06.nii')"
      ],
      "execution_count": null,
      "outputs": []
    },
    {
      "cell_type": "code",
      "metadata": {
        "colab": {
          "base_uri": "https://localhost:8080/",
          "height": 393
        },
        "id": "mE1J9LoH9EpH",
        "outputId": "8999575f-d3ad-4d13-aa6a-49eca33678bb"
      },
      "source": [
        "max = np.max(mask)\n",
        "max"
      ],
      "execution_count": null,
      "outputs": [
        {
          "output_type": "error",
          "ename": "KeyboardInterrupt",
          "evalue": "ignored",
          "traceback": [
            "\u001b[0;31m---------------------------------------------------------------------------\u001b[0m",
            "\u001b[0;31mKeyboardInterrupt\u001b[0m                         Traceback (most recent call last)",
            "\u001b[0;32m<ipython-input-27-b13966cf910a>\u001b[0m in \u001b[0;36m<module>\u001b[0;34m()\u001b[0m\n\u001b[0;32m----> 1\u001b[0;31m \u001b[0mmax\u001b[0m \u001b[0;34m=\u001b[0m \u001b[0mnp\u001b[0m\u001b[0;34m.\u001b[0m\u001b[0mmax\u001b[0m\u001b[0;34m(\u001b[0m\u001b[0mmask\u001b[0m\u001b[0;34m)\u001b[0m\u001b[0;34m\u001b[0m\u001b[0;34m\u001b[0m\u001b[0m\n\u001b[0m\u001b[1;32m      2\u001b[0m \u001b[0mmax\u001b[0m\u001b[0;34m\u001b[0m\u001b[0;34m\u001b[0m\u001b[0m\n",
            "\u001b[0;32m<__array_function__ internals>\u001b[0m in \u001b[0;36mamax\u001b[0;34m(*args, **kwargs)\u001b[0m\n",
            "\u001b[0;32m/usr/local/lib/python3.7/dist-packages/numpy/core/fromnumeric.py\u001b[0m in \u001b[0;36mamax\u001b[0;34m(a, axis, out, keepdims, initial, where)\u001b[0m\n\u001b[1;32m   2704\u001b[0m     \"\"\"\n\u001b[1;32m   2705\u001b[0m     return _wrapreduction(a, np.maximum, 'max', axis, None, out,\n\u001b[0;32m-> 2706\u001b[0;31m                           keepdims=keepdims, initial=initial, where=where)\n\u001b[0m\u001b[1;32m   2707\u001b[0m \u001b[0;34m\u001b[0m\u001b[0m\n\u001b[1;32m   2708\u001b[0m \u001b[0;34m\u001b[0m\u001b[0m\n",
            "\u001b[0;32m/usr/local/lib/python3.7/dist-packages/numpy/core/fromnumeric.py\u001b[0m in \u001b[0;36m_wrapreduction\u001b[0;34m(obj, ufunc, method, axis, dtype, out, **kwargs)\u001b[0m\n\u001b[1;32m     85\u001b[0m                 \u001b[0;32mreturn\u001b[0m \u001b[0mreduction\u001b[0m\u001b[0;34m(\u001b[0m\u001b[0maxis\u001b[0m\u001b[0;34m=\u001b[0m\u001b[0maxis\u001b[0m\u001b[0;34m,\u001b[0m \u001b[0mout\u001b[0m\u001b[0;34m=\u001b[0m\u001b[0mout\u001b[0m\u001b[0;34m,\u001b[0m \u001b[0;34m**\u001b[0m\u001b[0mpasskwargs\u001b[0m\u001b[0;34m)\u001b[0m\u001b[0;34m\u001b[0m\u001b[0;34m\u001b[0m\u001b[0m\n\u001b[1;32m     86\u001b[0m \u001b[0;34m\u001b[0m\u001b[0m\n\u001b[0;32m---> 87\u001b[0;31m     \u001b[0;32mreturn\u001b[0m \u001b[0mufunc\u001b[0m\u001b[0;34m.\u001b[0m\u001b[0mreduce\u001b[0m\u001b[0;34m(\u001b[0m\u001b[0mobj\u001b[0m\u001b[0;34m,\u001b[0m \u001b[0maxis\u001b[0m\u001b[0;34m,\u001b[0m \u001b[0mdtype\u001b[0m\u001b[0;34m,\u001b[0m \u001b[0mout\u001b[0m\u001b[0;34m,\u001b[0m \u001b[0;34m**\u001b[0m\u001b[0mpasskwargs\u001b[0m\u001b[0;34m)\u001b[0m\u001b[0;34m\u001b[0m\u001b[0;34m\u001b[0m\u001b[0m\n\u001b[0m\u001b[1;32m     88\u001b[0m \u001b[0;34m\u001b[0m\u001b[0m\n\u001b[1;32m     89\u001b[0m \u001b[0;34m\u001b[0m\u001b[0m\n",
            "\u001b[0;32m/usr/local/lib/python3.7/dist-packages/SimpleITK/SimpleITK.py\u001b[0m in \u001b[0;36m__iter__\u001b[0;34m(self)\u001b[0m\n\u001b[1;32m   3660\u001b[0m         \u001b[0;32mwhile\u001b[0m \u001b[0midx\u001b[0m\u001b[0;34m[\u001b[0m\u001b[0mdim\u001b[0m\u001b[0;34m-\u001b[0m\u001b[0;36m1\u001b[0m\u001b[0;34m]\u001b[0m \u001b[0;34m<\u001b[0m \u001b[0msize\u001b[0m\u001b[0;34m[\u001b[0m\u001b[0mdim\u001b[0m\u001b[0;34m-\u001b[0m\u001b[0;36m1\u001b[0m\u001b[0;34m]\u001b[0m\u001b[0;34m:\u001b[0m\u001b[0;34m\u001b[0m\u001b[0;34m\u001b[0m\u001b[0m\n\u001b[1;32m   3661\u001b[0m \u001b[0;34m\u001b[0m\u001b[0m\n\u001b[0;32m-> 3662\u001b[0;31m           \u001b[0;32myield\u001b[0m \u001b[0mself\u001b[0m\u001b[0;34m[\u001b[0m \u001b[0midx\u001b[0m \u001b[0;34m]\u001b[0m\u001b[0;34m\u001b[0m\u001b[0;34m\u001b[0m\u001b[0m\n\u001b[0m\u001b[1;32m   3663\u001b[0m \u001b[0;34m\u001b[0m\u001b[0m\n\u001b[1;32m   3664\u001b[0m     \u001b[0;31m# increment the idx\u001b[0m\u001b[0;34m\u001b[0m\u001b[0;34m\u001b[0m\u001b[0;34m\u001b[0m\u001b[0m\n",
            "\u001b[0;32m/usr/local/lib/python3.7/dist-packages/SimpleITK/SimpleITK.py\u001b[0m in \u001b[0;36m__getitem__\u001b[0;34m(self, idx)\u001b[0m\n\u001b[1;32m   3732\u001b[0m \u001b[0;34m\u001b[0m\u001b[0m\n\u001b[1;32m   3733\u001b[0m           \u001b[0;32mfor\u001b[0m \u001b[0mi\u001b[0m \u001b[0;32min\u001b[0m \u001b[0mrange\u001b[0m\u001b[0;34m(\u001b[0m\u001b[0mlen\u001b[0m\u001b[0;34m(\u001b[0m\u001b[0midx\u001b[0m\u001b[0;34m)\u001b[0m\u001b[0;34m)\u001b[0m\u001b[0;34m:\u001b[0m\u001b[0;34m\u001b[0m\u001b[0;34m\u001b[0m\u001b[0m\n\u001b[0;32m-> 3734\u001b[0;31m             \u001b[0;32mif\u001b[0m \u001b[0midx\u001b[0m\u001b[0;34m[\u001b[0m\u001b[0mi\u001b[0m\u001b[0;34m]\u001b[0m \u001b[0;34m<\u001b[0m \u001b[0;36m0\u001b[0m \u001b[0;32mor\u001b[0m \u001b[0midx\u001b[0m\u001b[0;34m[\u001b[0m\u001b[0mi\u001b[0m\u001b[0;34m]\u001b[0m \u001b[0;34m>=\u001b[0m \u001b[0msize\u001b[0m\u001b[0;34m[\u001b[0m\u001b[0mi\u001b[0m\u001b[0;34m]\u001b[0m\u001b[0;34m:\u001b[0m\u001b[0;34m\u001b[0m\u001b[0;34m\u001b[0m\u001b[0m\n\u001b[0m\u001b[1;32m   3735\u001b[0m               \u001b[0;32mraise\u001b[0m \u001b[0mIndexError\u001b[0m\u001b[0;34m(\u001b[0m\u001b[0;34m\"index {0} is outside the extent for dimension {1} with size {2}\"\u001b[0m\u001b[0;34m.\u001b[0m\u001b[0mformat\u001b[0m\u001b[0;34m(\u001b[0m \u001b[0midx\u001b[0m\u001b[0;34m[\u001b[0m\u001b[0mi\u001b[0m\u001b[0;34m]\u001b[0m\u001b[0;34m,\u001b[0m \u001b[0mi\u001b[0m\u001b[0;34m,\u001b[0m \u001b[0msize\u001b[0m\u001b[0;34m[\u001b[0m\u001b[0mi\u001b[0m\u001b[0;34m]\u001b[0m\u001b[0;34m)\u001b[0m\u001b[0;34m)\u001b[0m\u001b[0;34m\u001b[0m\u001b[0;34m\u001b[0m\u001b[0m\n\u001b[1;32m   3736\u001b[0m \u001b[0;34m\u001b[0m\u001b[0m\n",
            "\u001b[0;31mKeyboardInterrupt\u001b[0m: "
          ]
        }
      ]
    },
    {
      "cell_type": "markdown",
      "metadata": {
        "id": "ty4mRz1Z0Gz-"
      },
      "source": [
        "# try visualizaiton"
      ]
    },
    {
      "cell_type": "code",
      "metadata": {
        "id": "6GOtaC9V-i3W",
        "colab": {
          "base_uri": "https://localhost:8080/",
          "height": 599
        },
        "outputId": "ec4b2a37-fd80-45c1-f345-89bba1b12d6d"
      },
      "source": [
        "\n",
        "from itkwidgets import view\n",
        "from nibabel.viewers import OrthoSlicer3D\n",
        "import itkwidgets\n",
        "import nibabel as nib\n",
        "output_file = '/content/drive/MyDrive/ThesisProject/dataset/leg_nii/train_set/train01.nii'\n",
        "img_nii = nib.load(output_file)\n",
        "# img = img_nii.get_data()\n",
        "# viewer = view(img,cmap=itkwidgets.cm.grayscale)\n",
        "# viewer\n",
        "#img = nib.load(output_file)\n",
        "OrthoSlicer3D(img_nii.dataobj).show()\n",
        "\n",
        "# from niwidgets import NiftiWidget\n",
        "# test01_img = NiftiWidget(output_file)\n",
        "# test01_img.nifti_plotter()"
      ],
      "execution_count": null,
      "outputs": [
        {
          "output_type": "display_data",
          "data": {
            "image/png": "[encoded data removed]",
            "text/plain": [
              "<Figure size 576x576 with 3 Axes>"
            ]
          },
          "metadata": {
            "tags": [],
            "needs_background": "light"
          }
        }
      ]
    },
    {
      "cell_type": "code",
      "metadata": {
        "colab": {
          "base_uri": "https://localhost:8080/"
        },
        "id": "pBKne17IwKSt",
        "outputId": "a5519f27-2f4c-487a-ee61-d84473345e2a"
      },
      "source": [
        "img_nii"
      ],
      "execution_count": null,
      "outputs": [
        {
          "output_type": "execute_result",
          "data": {
            "text/plain": [
              "<nibabel.nifti1.Nifti1Image at 0x7f3ca478ca90>"
            ]
          },
          "metadata": {
            "tags": []
          },
          "execution_count": 15
        }
      ]
    },
    {
      "cell_type": "markdown",
      "metadata": {
        "id": "ZbsL1sRJWn_T"
      },
      "source": [
        "we don't need to visualize in the jupyter, just use ITK-SNAP to visulize the nii file"
      ]
    },
    {
      "cell_type": "markdown",
      "metadata": {
        "id": "B_mHoFPxe2UB"
      },
      "source": [
        "# Data preprocessing"
      ]
    },
    {
      "cell_type": "markdown",
      "metadata": {
        "id": "gLTs6D_whMkE"
      },
      "source": [
        "1. Convert Multiple DICOM files to 3D NII files"
      ]
    },
    {
      "cell_type": "code",
      "metadata": {
        "id": "Oo4Stk3ne6Wx"
      },
      "source": [
        "for i in [x for x in range(12,17) if (x != 13)]:\n",
        "  original_dicom_directory = '/content/drive/MyDrive/ThesisProject/dataset/fibuladata01/test 0'+str(i)\n",
        "  #named train0i\n",
        "  output_file = '/content/drive/MyDrive/ThesisProject/dataset/leg_nii/train_set/nii/train0'+str(i)\n",
        "  dicom2nifti.dicom_series_to_nifti(original_dicom_directory, output_file, reorient_nifti=True)\n",
        "\n",
        "%whos\n"
      ],
      "execution_count": null,
      "outputs": []
    },
    {
      "cell_type": "code",
      "metadata": {
        "id": "aTIMem5U1Mf8"
      },
      "source": [
        "for i in [x for x in range(7,10)]:\n",
        "  original_dicom_directory = '/content/drive/MyDrive/ThesisProject/dataset/fibuladata01/test 0'+str(i)\n",
        "  #named train0i\n",
        "  output_file = '/content/drive/MyDrive/ThesisProject/dataset/leg_nii/train_set/nii/train0'+str(i)\n",
        "  dicom2nifti.dicom_series_to_nifti(original_dicom_directory, output_file, reorient_nifti=True)\n",
        "\n"
      ],
      "execution_count": null,
      "outputs": []
    },
    {
      "cell_type": "code",
      "metadata": {
        "id": "3iec8J4j2po_",
        "colab": {
          "base_uri": "https://localhost:8080/",
          "height": 365
        },
        "outputId": "23bfd5f1-4d07-48d1-ebb4-dbd4b6a1353a"
      },
      "source": [
        "#run only once\n",
        "for i in range(3,4):\n",
        "  original_dicom_directory = '/content/drive/MyDrive/ThesisProject/dataset/fibuladata01/test 0'+str(i)+' bmp'\n",
        "  #named train0i_seg\n",
        "  output_file = '/content/drive/MyDrive/ThesisProject/dataset/leg_nii/train_set/train0'+str(i)\n",
        "  dicom2nifti.dicom_series_to_nifti(original_dicom_directory, output_file, reorient_nifti=True)"
      ],
      "execution_count": null,
      "outputs": [
        {
          "output_type": "error",
          "ename": "IndexError",
          "evalue": "ignored",
          "traceback": [
            "\u001b[0;31m---------------------------------------------------------------------------\u001b[0m",
            "\u001b[0;31mIndexError\u001b[0m                                Traceback (most recent call last)",
            "\u001b[0;32m<ipython-input-10-68701f912cfc>\u001b[0m in \u001b[0;36m<module>\u001b[0;34m()\u001b[0m\n\u001b[1;32m      4\u001b[0m   \u001b[0;31m#named train0i_seg\u001b[0m\u001b[0;34m\u001b[0m\u001b[0;34m\u001b[0m\u001b[0;34m\u001b[0m\u001b[0m\n\u001b[1;32m      5\u001b[0m   \u001b[0moutput_file\u001b[0m \u001b[0;34m=\u001b[0m \u001b[0;34m'/content/drive/MyDrive/ThesisProject/dataset/leg_nii/train_set/train0'\u001b[0m\u001b[0;34m+\u001b[0m\u001b[0mstr\u001b[0m\u001b[0;34m(\u001b[0m\u001b[0mi\u001b[0m\u001b[0;34m)\u001b[0m\u001b[0;34m\u001b[0m\u001b[0;34m\u001b[0m\u001b[0m\n\u001b[0;32m----> 6\u001b[0;31m   \u001b[0mdicom2nifti\u001b[0m\u001b[0;34m.\u001b[0m\u001b[0mdicom_series_to_nifti\u001b[0m\u001b[0;34m(\u001b[0m\u001b[0moriginal_dicom_directory\u001b[0m\u001b[0;34m,\u001b[0m \u001b[0moutput_file\u001b[0m\u001b[0;34m,\u001b[0m \u001b[0mreorient_nifti\u001b[0m\u001b[0;34m=\u001b[0m\u001b[0;32mTrue\u001b[0m\u001b[0;34m)\u001b[0m\u001b[0;34m\u001b[0m\u001b[0;34m\u001b[0m\u001b[0m\n\u001b[0m",
            "\u001b[0;32m/usr/local/lib/python3.7/dist-packages/dicom2nifti/convert_dicom.py\u001b[0m in \u001b[0;36mdicom_series_to_nifti\u001b[0;34m(original_dicom_directory, output_file, reorient_nifti)\u001b[0m\n\u001b[1;32m     76\u001b[0m         \u001b[0mdicom_input\u001b[0m \u001b[0;34m=\u001b[0m \u001b[0mcommon\u001b[0m\u001b[0;34m.\u001b[0m\u001b[0mread_dicom_directory\u001b[0m\u001b[0;34m(\u001b[0m\u001b[0mdicom_directory\u001b[0m\u001b[0;34m)\u001b[0m\u001b[0;34m\u001b[0m\u001b[0;34m\u001b[0m\u001b[0m\n\u001b[1;32m     77\u001b[0m \u001b[0;34m\u001b[0m\u001b[0m\n\u001b[0;32m---> 78\u001b[0;31m         \u001b[0;32mreturn\u001b[0m \u001b[0mdicom_array_to_nifti\u001b[0m\u001b[0;34m(\u001b[0m\u001b[0mdicom_input\u001b[0m\u001b[0;34m,\u001b[0m \u001b[0moutput_file\u001b[0m\u001b[0;34m,\u001b[0m \u001b[0mreorient_nifti\u001b[0m\u001b[0;34m)\u001b[0m\u001b[0;34m\u001b[0m\u001b[0;34m\u001b[0m\u001b[0m\n\u001b[0m\u001b[1;32m     79\u001b[0m \u001b[0;34m\u001b[0m\u001b[0m\n\u001b[1;32m     80\u001b[0m     \u001b[0;32mexcept\u001b[0m \u001b[0mAttributeError\u001b[0m \u001b[0;32mas\u001b[0m \u001b[0mexception\u001b[0m\u001b[0;34m:\u001b[0m\u001b[0;34m\u001b[0m\u001b[0;34m\u001b[0m\u001b[0m\n",
            "\u001b[0;32m/usr/local/lib/python3.7/dist-packages/dicom2nifti/convert_dicom.py\u001b[0m in \u001b[0;36mdicom_array_to_nifti\u001b[0;34m(dicom_list, output_file, reorient_nifti)\u001b[0m\n\u001b[1;32m    110\u001b[0m     \"\"\"\n\u001b[1;32m    111\u001b[0m     \u001b[0;31m# copy files so we can can modify without altering the original\u001b[0m\u001b[0;34m\u001b[0m\u001b[0;34m\u001b[0m\u001b[0;34m\u001b[0m\u001b[0m\n\u001b[0;32m--> 112\u001b[0;31m     \u001b[0;32mif\u001b[0m \u001b[0;32mnot\u001b[0m \u001b[0mare_imaging_dicoms\u001b[0m\u001b[0;34m(\u001b[0m\u001b[0mdicom_list\u001b[0m\u001b[0;34m)\u001b[0m\u001b[0;34m:\u001b[0m\u001b[0;34m\u001b[0m\u001b[0;34m\u001b[0m\u001b[0m\n\u001b[0m\u001b[1;32m    113\u001b[0m         \u001b[0;32mraise\u001b[0m \u001b[0mConversionValidationError\u001b[0m\u001b[0;34m(\u001b[0m\u001b[0;34m'NON_IMAGING_DICOM_FILES'\u001b[0m\u001b[0;34m)\u001b[0m\u001b[0;34m\u001b[0m\u001b[0;34m\u001b[0m\u001b[0m\n\u001b[1;32m    114\u001b[0m \u001b[0;34m\u001b[0m\u001b[0m\n",
            "\u001b[0;32m/usr/local/lib/python3.7/dist-packages/dicom2nifti/convert_dicom.py\u001b[0m in \u001b[0;36mare_imaging_dicoms\u001b[0;34m(dicom_input)\u001b[0m\n\u001b[1;32m    149\u001b[0m \u001b[0;34m\u001b[0m\u001b[0m\n\u001b[1;32m    150\u001b[0m     \u001b[0;31m# if it is philips and multiframe dicom then we assume it is ok\u001b[0m\u001b[0;34m\u001b[0m\u001b[0;34m\u001b[0m\u001b[0;34m\u001b[0m\u001b[0m\n\u001b[0;32m--> 151\u001b[0;31m     \u001b[0;32mif\u001b[0m \u001b[0mcommon\u001b[0m\u001b[0;34m.\u001b[0m\u001b[0mis_philips\u001b[0m\u001b[0;34m(\u001b[0m\u001b[0mdicom_input\u001b[0m\u001b[0;34m)\u001b[0m\u001b[0;34m:\u001b[0m\u001b[0;34m\u001b[0m\u001b[0;34m\u001b[0m\u001b[0m\n\u001b[0m\u001b[1;32m    152\u001b[0m         \u001b[0;32mif\u001b[0m \u001b[0mcommon\u001b[0m\u001b[0;34m.\u001b[0m\u001b[0mis_multiframe_dicom\u001b[0m\u001b[0;34m(\u001b[0m\u001b[0mdicom_input\u001b[0m\u001b[0;34m)\u001b[0m\u001b[0;34m:\u001b[0m\u001b[0;34m\u001b[0m\u001b[0;34m\u001b[0m\u001b[0m\n\u001b[1;32m    153\u001b[0m             \u001b[0;32mreturn\u001b[0m \u001b[0;32mTrue\u001b[0m\u001b[0;34m\u001b[0m\u001b[0;34m\u001b[0m\u001b[0m\n",
            "\u001b[0;32m/usr/local/lib/python3.7/dist-packages/dicom2nifti/common.py\u001b[0m in \u001b[0;36mis_philips\u001b[0;34m(dicom_input)\u001b[0m\n\u001b[1;32m    100\u001b[0m     \"\"\"\n\u001b[1;32m    101\u001b[0m     \u001b[0;31m# read dicom header\u001b[0m\u001b[0;34m\u001b[0m\u001b[0;34m\u001b[0m\u001b[0;34m\u001b[0m\u001b[0m\n\u001b[0;32m--> 102\u001b[0;31m     \u001b[0mheader\u001b[0m \u001b[0;34m=\u001b[0m \u001b[0mdicom_input\u001b[0m\u001b[0;34m[\u001b[0m\u001b[0;36m0\u001b[0m\u001b[0;34m]\u001b[0m\u001b[0;34m\u001b[0m\u001b[0;34m\u001b[0m\u001b[0m\n\u001b[0m\u001b[1;32m    103\u001b[0m \u001b[0;34m\u001b[0m\u001b[0m\n\u001b[1;32m    104\u001b[0m     \u001b[0;32mif\u001b[0m \u001b[0;34m'Manufacturer'\u001b[0m \u001b[0;32mnot\u001b[0m \u001b[0;32min\u001b[0m \u001b[0mheader\u001b[0m \u001b[0;32mor\u001b[0m \u001b[0;34m'Modality'\u001b[0m \u001b[0;32mnot\u001b[0m \u001b[0;32min\u001b[0m \u001b[0mheader\u001b[0m\u001b[0;34m:\u001b[0m\u001b[0;34m\u001b[0m\u001b[0;34m\u001b[0m\u001b[0m\n",
            "\u001b[0;31mIndexError\u001b[0m: list index out of range"
          ]
        }
      ]
    },
    {
      "cell_type": "code",
      "metadata": {
        "id": "iSF_0_lje1xc"
      },
      "source": [
        "##read bmp file\n",
        "##transfer label bmp to npy file\n",
        "\n",
        "##run only once!!!!!!!!!!!!!!!!!!!!!!!!\n",
        "import os\n",
        "for i in [x for x in range(10,21) if (x != 12 or x != 14 or x !=15 or x != 16)]:\n",
        "  bmp_filepath = '/content/drive/MyDrive/ThesisProject/dataset/fibuladata01/test 0'+str(i)+' bmp'\n",
        "  bmp_files = os.listdir(bmp_filepath)\n",
        "  num_file = len(bmp_files)\n",
        "  seg_data = np.zeros((0,512,512))\n",
        "  for file in bmp_files:\n",
        "    #traverse all files\n",
        "    bmp_image = plt.imread('/content/drive/MyDrive/ThesisProject/dataset/fibuladata01/test 0'+str(i)+' bmp/'+file)\n",
        "    label = np.zeros([512,512])\n",
        "    width = np.size(bmp_image,0)\n",
        "    height = np.size(bmp_image,1)\n",
        "    for x in range(width):\n",
        "      for y in range(height):\n",
        "        if bmp_image[x,y,0] < bmp_image[x,y,1]:\n",
        "          label[x,y] = 255\n",
        "    seg_data = np.append(seg_data, label)#先拼接成一个行向量\n",
        "\n",
        "  seg_npy = seg_data.reshape(num_file,512,512)#recombination\n",
        "\n",
        "  np.save('/content/drive/MyDrive/ThesisProject/dataset/leg_nii/train_set/seg0'+str(i)+'.npy',seg_npy)\n",
        "  \n"
      ],
      "execution_count": null,
      "outputs": []
    },
    {
      "cell_type": "code",
      "metadata": {
        "id": "vUO9iVVtddfd"
      },
      "source": [
        "##this part is used to deal with bmp yellow label\n",
        "import os\n",
        "for i in[x for x in range(12,15) if (x!=13)]:\n",
        "  bmp_filepath = '/content/drive/MyDrive/ThesisProject/dataset/fibuladata01/test 0'+str(i)+' bmp'\n",
        "  bmp_files = os.listdir(bmp_filepath)\n",
        "  num_file = len(bmp_files)\n",
        "  seg_data = np.zeros((0,512,512))\n",
        "  for file in bmp_files:\n",
        "    #traverse all files\n",
        "    src=cv2.imread('/content/drive/MyDrive/ThesisProject/dataset/fibuladata01/test 0'+str(i)+' bmp/'+file)\n",
        "    hsv = cv2.cvtColor(src, cv2.COLOR_BGR2HSV)\n",
        "    low_hsv = np.array([10,10,0])\n",
        "    high_hsv = np.array([60,255,255])\n",
        "    mask = cv2.inRange(hsv,lowerb=low_hsv,upperb=high_hsv)\n",
        "    seg_data = np.append(seg_data, mask)#先拼接成一个行\n",
        "  seg_npy = seg_data.reshape(num_file,512,512)#recombination\n",
        "  np.save('/content/drive/MyDrive/ThesisProject/dataset/leg_nii/train_set/seg_npy/seg0'+str(i)+'.npy',seg_npy)"
      ],
      "execution_count": null,
      "outputs": []
    },
    {
      "cell_type": "code",
      "metadata": {
        "id": "ZY7AQtZxweIv"
      },
      "source": [
        "##this part is used to deal with bmp purple label\n",
        "import os\n",
        "for i in[x for x in range(15,17)]:\n",
        "  bmp_filepath = '/content/drive/MyDrive/ThesisProject/dataset/fibuladata01/test 0'+str(i)+' bmp'\n",
        "  bmp_files = os.listdir(bmp_filepath)\n",
        "  num_file = len(bmp_files)\n",
        "  seg_data = np.zeros((0,512,512))\n",
        "  for file in bmp_files:\n",
        "    #traverse all files\n",
        "    src=cv2.imread('/content/drive/MyDrive/ThesisProject/dataset/fibuladata01/test 0'+str(i)+' bmp/'+file)\n",
        "    hsv = cv2.cvtColor(src, cv2.COLOR_BGR2HSV)\n",
        "    low_hsv = np.array([10,10,0])\n",
        "    high_hsv = np.array([330,255,255])\n",
        "    mask = cv2.inRange(hsv,lowerb=low_hsv,upperb=high_hsv)\n",
        "    seg_data = np.append(seg_data, mask)#先拼接成一个行\n",
        "  seg_npy = seg_data.reshape(num_file,512,512)#recombination\n",
        "  np.save('/content/drive/MyDrive/ThesisProject/dataset/leg_nii/train_set/seg_npy/seg0'+str(i)+'.npy',seg_npy)"
      ],
      "execution_count": null,
      "outputs": []
    },
    {
      "cell_type": "code",
      "metadata": {
        "id": "hg2wojoD8HFK"
      },
      "source": [
        "##this part is used to deal with bmp green label for 7,8,9\n",
        "##new for 3\n",
        "import os\n",
        "for i in[x for x in range(3,4)]:\n",
        "  bmp_filepath = '/content/drive/MyDrive/ThesisProject/dataset/fibuladata01/test 0'+str(i)+' bmp'\n",
        "  bmp_files = os.listdir(bmp_filepath)\n",
        "  num_file = len(bmp_files)\n",
        "  seg_data = np.zeros((0,512,512))\n",
        "  for file in bmp_files:\n",
        "    #traverse all files\n",
        "    src=cv2.imread('/content/drive/MyDrive/ThesisProject/dataset/fibuladata01/test 0'+str(i)+' bmp/'+file)\n",
        "    hsv = cv2.cvtColor(src, cv2.COLOR_BGR2HSV)\n",
        "    low_hsv = np.array([10,10,0])\n",
        "    high_hsv = np.array([360,255,255])\n",
        "    mask = cv2.inRange(hsv,lowerb=low_hsv,upperb=high_hsv)\n",
        "    seg_data = np.append(seg_data, mask)#先拼接成一个行\n",
        "  seg_npy = seg_data.reshape(num_file,512,512)#recombination\n",
        "  np.save('/content/drive/MyDrive/ThesisProject/dataset/leg_nii/train_set/seg_npy/seg0'+str(i)+'.npy',seg_npy)"
      ],
      "execution_count": null,
      "outputs": []
    },
    {
      "cell_type": "code",
      "metadata": {
        "id": "ZFTAAa0JqJkg"
      },
      "source": [
        ""
      ],
      "execution_count": null,
      "outputs": []
    },
    {
      "cell_type": "code",
      "metadata": {
        "id": "fgzGwEEEqKGK"
      },
      "source": [
        "##run only once!!!!!!!!!!!!!!!!!!!!!!!!!!!!!!!!!!!!!!!!!!\n",
        "##nii to npy\n",
        "import os\n",
        "\n",
        "img_path = '/content/drive/MyDrive/ThesisProject/dataset/leg_nii/train_set/nii/'\n",
        "\n",
        "saveimg_path = '/content/drive/MyDrive/ThesisProject/dataset/leg_nii/train_set/img_npy/'\n",
        "\n",
        "img_names = os.listdir(img_path)\n",
        "for i in [x for x in range(12,17) if (x != 13)]:\n",
        "  img_filepath = '/content/drive/MyDrive/ThesisProject/dataset/leg_nii/train_set/nii/train0'+str(i)+'.nii'\n",
        "  img = nib.load(img_filepath).get_data() \n",
        "  img = np.array(img)\n",
        "  np.save(saveimg_path + 'train0'+str(i) + '.npy', img) \n",
        "\n"
      ],
      "execution_count": null,
      "outputs": []
    },
    {
      "cell_type": "code",
      "metadata": {
        "id": "G8j-i72f0aRP"
      },
      "source": [
        "##nii to npy\n",
        "import os\n",
        "\n",
        "img_path = '/content/drive/MyDrive/ThesisProject/dataset/leg_nii/train_set/nii/'\n",
        "\n",
        "saveimg_path = '/content/drive/MyDrive/ThesisProject/dataset/leg_nii/train_set/img_npy/'\n",
        "\n",
        "img_names = os.listdir(img_path)\n",
        "for i in [x for x in range(7,10)]:\n",
        "  img_filepath = '/content/drive/MyDrive/ThesisProject/dataset/leg_nii/train_set/nii/train0'+str(i)+'.nii'\n",
        "  img = nib.load(img_filepath).get_data() \n",
        "  img = np.array(img)\n",
        "  np.save(saveimg_path + 'train0'+str(i) + '.npy', img) \n"
      ],
      "execution_count": null,
      "outputs": []
    },
    {
      "cell_type": "code",
      "metadata": {
        "id": "5DiArLLwF_Gf",
        "colab": {
          "base_uri": "https://localhost:8080/",
          "height": 412
        },
        "outputId": "ad056685-7fb3-4480-ed25-b778ed928085"
      },
      "source": [
        "#just for try\n",
        "# import os\n",
        "# seg_path = '/content/drive/MyDrive/ThesisProject/dataset/leg_nii/train_set/seg_npy/'\n",
        "# try1 = np.load(seg_path+'seg06.npy')\n",
        "# try1.shape\n",
        "# plt.imshow(try1[500,:,:])\n",
        "# plt.show()\n",
        "# for i in [x for x in range(1,7) if x != 2]:\n",
        "#   print(i)\n",
        "#%whos\n",
        "\n",
        "img_path = '/content/drive/MyDrive/ThesisProject/dataset/leg_nii/train_set/img_npy/'\n",
        "img = np.load(img_path+'img_zxy0'+str(4)+'.npy')\n",
        "plt.imshow(img[600])\n",
        "plt.show()\n"
      ],
      "execution_count": null,
      "outputs": [
        {
          "output_type": "error",
          "ename": "KeyboardInterrupt",
          "evalue": "ignored",
          "traceback": [
            "\u001b[0;31m---------------------------------------------------------------------------\u001b[0m",
            "\u001b[0;31mKeyboardInterrupt\u001b[0m                         Traceback (most recent call last)",
            "\u001b[0;32m<ipython-input-4-35749268c1da>\u001b[0m in \u001b[0;36m<module>\u001b[0;34m()\u001b[0m\n\u001b[1;32m     11\u001b[0m \u001b[0;34m\u001b[0m\u001b[0m\n\u001b[1;32m     12\u001b[0m \u001b[0mimg_path\u001b[0m \u001b[0;34m=\u001b[0m \u001b[0;34m'/content/drive/MyDrive/ThesisProject/dataset/leg_nii/train_set/img_npy/'\u001b[0m\u001b[0;34m\u001b[0m\u001b[0;34m\u001b[0m\u001b[0m\n\u001b[0;32m---> 13\u001b[0;31m \u001b[0mimg\u001b[0m \u001b[0;34m=\u001b[0m \u001b[0mnp\u001b[0m\u001b[0;34m.\u001b[0m\u001b[0mload\u001b[0m\u001b[0;34m(\u001b[0m\u001b[0mimg_path\u001b[0m\u001b[0;34m+\u001b[0m\u001b[0;34m'img_zxy0'\u001b[0m\u001b[0;34m+\u001b[0m\u001b[0mstr\u001b[0m\u001b[0;34m(\u001b[0m\u001b[0;36m4\u001b[0m\u001b[0;34m)\u001b[0m\u001b[0;34m+\u001b[0m\u001b[0;34m'.npy'\u001b[0m\u001b[0;34m)\u001b[0m\u001b[0;34m\u001b[0m\u001b[0;34m\u001b[0m\u001b[0m\n\u001b[0m\u001b[1;32m     14\u001b[0m \u001b[0mplt\u001b[0m\u001b[0;34m.\u001b[0m\u001b[0mimshow\u001b[0m\u001b[0;34m(\u001b[0m\u001b[0mimg\u001b[0m\u001b[0;34m[\u001b[0m\u001b[0;36m600\u001b[0m\u001b[0;34m]\u001b[0m\u001b[0;34m)\u001b[0m\u001b[0;34m\u001b[0m\u001b[0;34m\u001b[0m\u001b[0m\n\u001b[1;32m     15\u001b[0m \u001b[0mplt\u001b[0m\u001b[0;34m.\u001b[0m\u001b[0mshow\u001b[0m\u001b[0;34m(\u001b[0m\u001b[0;34m)\u001b[0m\u001b[0;34m\u001b[0m\u001b[0;34m\u001b[0m\u001b[0m\n",
            "\u001b[0;32m/usr/local/lib/python3.7/dist-packages/numpy/lib/npyio.py\u001b[0m in \u001b[0;36mload\u001b[0;34m(file, mmap_mode, allow_pickle, fix_imports, encoding)\u001b[0m\n\u001b[1;32m    438\u001b[0m             \u001b[0;32melse\u001b[0m\u001b[0;34m:\u001b[0m\u001b[0;34m\u001b[0m\u001b[0;34m\u001b[0m\u001b[0m\n\u001b[1;32m    439\u001b[0m                 return format.read_array(fid, allow_pickle=allow_pickle,\n\u001b[0;32m--> 440\u001b[0;31m                                          pickle_kwargs=pickle_kwargs)\n\u001b[0m\u001b[1;32m    441\u001b[0m         \u001b[0;32melse\u001b[0m\u001b[0;34m:\u001b[0m\u001b[0;34m\u001b[0m\u001b[0;34m\u001b[0m\u001b[0m\n\u001b[1;32m    442\u001b[0m             \u001b[0;31m# Try a pickle\u001b[0m\u001b[0;34m\u001b[0m\u001b[0;34m\u001b[0m\u001b[0;34m\u001b[0m\u001b[0m\n",
            "\u001b[0;32m/usr/local/lib/python3.7/dist-packages/numpy/lib/format.py\u001b[0m in \u001b[0;36mread_array\u001b[0;34m(fp, allow_pickle, pickle_kwargs)\u001b[0m\n\u001b[1;32m    739\u001b[0m         \u001b[0;32mif\u001b[0m \u001b[0misfileobj\u001b[0m\u001b[0;34m(\u001b[0m\u001b[0mfp\u001b[0m\u001b[0;34m)\u001b[0m\u001b[0;34m:\u001b[0m\u001b[0;34m\u001b[0m\u001b[0;34m\u001b[0m\u001b[0m\n\u001b[1;32m    740\u001b[0m             \u001b[0;31m# We can use the fast fromfile() function.\u001b[0m\u001b[0;34m\u001b[0m\u001b[0;34m\u001b[0m\u001b[0;34m\u001b[0m\u001b[0m\n\u001b[0;32m--> 741\u001b[0;31m             \u001b[0marray\u001b[0m \u001b[0;34m=\u001b[0m \u001b[0mnumpy\u001b[0m\u001b[0;34m.\u001b[0m\u001b[0mfromfile\u001b[0m\u001b[0;34m(\u001b[0m\u001b[0mfp\u001b[0m\u001b[0;34m,\u001b[0m \u001b[0mdtype\u001b[0m\u001b[0;34m=\u001b[0m\u001b[0mdtype\u001b[0m\u001b[0;34m,\u001b[0m \u001b[0mcount\u001b[0m\u001b[0;34m=\u001b[0m\u001b[0mcount\u001b[0m\u001b[0;34m)\u001b[0m\u001b[0;34m\u001b[0m\u001b[0;34m\u001b[0m\u001b[0m\n\u001b[0m\u001b[1;32m    742\u001b[0m         \u001b[0;32melse\u001b[0m\u001b[0;34m:\u001b[0m\u001b[0;34m\u001b[0m\u001b[0;34m\u001b[0m\u001b[0m\n\u001b[1;32m    743\u001b[0m             \u001b[0;31m# This is not a real file. We have to read it the\u001b[0m\u001b[0;34m\u001b[0m\u001b[0;34m\u001b[0m\u001b[0;34m\u001b[0m\u001b[0m\n",
            "\u001b[0;31mKeyboardInterrupt\u001b[0m: "
          ]
        }
      ]
    },
    {
      "cell_type": "code",
      "metadata": {
        "id": "lyG_Ny6krgR6",
        "colab": {
          "base_uri": "https://localhost:8080/"
        },
        "outputId": "c729bda9-c14a-4701-e5a6-3e7834f8e7c3"
      },
      "source": [
        "#used as reference\n",
        "# import os\n",
        "# img_filepath = '/content/drive/MyDrive/ThesisProject/dataset/leg_nii/train_set/img_npy/img01.npy'\n",
        "# img_before = np.load(img_filepath)\n",
        "# img_before = img_before.transpose(2,1,0)\n",
        "# plt.imshow(img_before[600][::-1])\n",
        "# plt.show()\n",
        "# del training_img \n",
        "# del training_img_int\n",
        "# del training_seg\n",
        "# del training_seg_int\n",
        "# pos = np.unravel_index(np.argmax(img[300]),img[300].shape)\n",
        "# pos\n",
        "max = np.max(img[600])\n",
        "max"
      ],
      "execution_count": null,
      "outputs": [
        {
          "output_type": "execute_result",
          "data": {
            "text/plain": [
              "2060.0"
            ]
          },
          "metadata": {
            "tags": []
          },
          "execution_count": 12
        }
      ]
    },
    {
      "cell_type": "code",
      "metadata": {
        "colab": {
          "base_uri": "https://localhost:8080/",
          "height": 269
        },
        "id": "JC2om_2Dzw6y",
        "outputId": "fe0a3984-bdad-4a79-c07c-480b86059553"
      },
      "source": [
        "training_seg = np.load('/content/drive/MyDrive/ThesisProject/dataset/leg_nii/train_set/npz/crop_test_equal_halfmirror_test_uint020.npz')['img_crop']\n",
        "seg_test = training_seg[15][0]\n",
        "plt.imshow(seg_test)\n",
        "plt.show()"
      ],
      "execution_count": null,
      "outputs": [
        {
          "output_type": "display_data",
          "data": {
            "image/png": "[encoded data removed]",
            "text/plain": [
              "<Figure size 432x288 with 1 Axes>"
            ]
          },
          "metadata": {
            "tags": [],
            "needs_background": "light"
          }
        }
      ]
    },
    {
      "cell_type": "code",
      "metadata": {
        "id": "aNTH7TvK9gRg"
      },
      "source": [
        "plt.imshow(training_img[])"
      ],
      "execution_count": null,
      "outputs": []
    },
    {
      "cell_type": "code",
      "metadata": {
        "colab": {
          "base_uri": "https://localhost:8080/",
          "height": 269
        },
        "id": "QLibyKXIWNXR",
        "outputId": "419a65af-d45a-437e-cc48-767c17d0ac8e"
      },
      "source": [
        "training_img = np.load('/content/drive/MyDrive/ThesisProject/dataset/leg_nii/train_set/npz/crop_test_equal_halfmirror_test_uint.npz')['img_crop']\n",
        "img_test = training_img[8][1]\n",
        "\n",
        "plt.imshow(img_test,cmap='gray')\n",
        "plt.show()\n"
      ],
      "execution_count": null,
      "outputs": [
        {
          "output_type": "display_data",
          "data": {
            "image/png": "[encoded data removed]",
            "text/plain": [
              "<Figure size 432x288 with 1 Axes>"
            ]
          },
          "metadata": {
            "tags": [],
            "needs_background": "light"
          }
        }
      ]
    },
    {
      "cell_type": "code",
      "metadata": {
        "colab": {
          "base_uri": "https://localhost:8080/"
        },
        "id": "ZCcObbuYps8L",
        "outputId": "89fac09f-c8fd-434d-b218-f457f8bc74ac"
      },
      "source": [
        "max = np.max(training_img)\n",
        "max"
      ],
      "execution_count": null,
      "outputs": [
        {
          "output_type": "execute_result",
          "data": {
            "text/plain": [
              "254"
            ]
          },
          "metadata": {
            "tags": []
          },
          "execution_count": 31
        }
      ]
    },
    {
      "cell_type": "code",
      "metadata": {
        "id": "60vUXoAnG6hC"
      },
      "source": [
        "#just run once!!!!!!!!!!\n",
        "#this is used for transfer the img file from xyz to zxy\n",
        "import os\n",
        "saveimg_path = '/content/drive/MyDrive/ThesisProject/dataset/leg_nii/train_set/img_npy/'\n",
        "for i in range(10,12):\n",
        "  img_filepath = '/content/drive/MyDrive/ThesisProject/dataset/leg_nii/train_set/img_npy/train0'+str(i)+'.npy'\n",
        "  img_before = np.load(img_filepath)\n",
        "  \n",
        "  img_before = img_before.transpose(2,1,0)\n",
        "  z_num = img_before.shape[0]\n",
        "  img = np.zeros((z_num,512,512))\n",
        "\n",
        "  for n in range(0,img_before.shape[0]):\n",
        "    img[n] = img_before[n][::-1]\n",
        "    \n",
        "  np.save(saveimg_path + 'img_zxy0' + str(i) + '.npy', img) \n",
        "for i in range(13,14):\n",
        "  img_filepath = '/content/drive/MyDrive/ThesisProject/dataset/leg_nii/train_set/img_npy/train0'+str(i)+'.npy'\n",
        "  img_before = np.load(img_filepath)\n",
        "  \n",
        "  img_before = img_before.transpose(2,1,0)\n",
        "  z_num = img_before.shape[0]\n",
        "  img = np.zeros((z_num,512,512))\n",
        "\n",
        "  for n in range(0,img_before.shape[0]):\n",
        "    img[n] = img_before[n][::-1]\n",
        "    \n",
        "  np.save(saveimg_path + 'img_zxy0' + str(i) + '.npy', img) \n",
        "for i in range(17,21):\n",
        "  img_filepath = '/content/drive/MyDrive/ThesisProject/dataset/leg_nii/train_set/img_npy/train0'+str(i)+'.npy'\n",
        "  img_before = np.load(img_filepath)\n",
        "  \n",
        "  img_before = img_before.transpose(2,1,0)\n",
        "  z_num = img_before.shape[0]\n",
        "  img = np.zeros((z_num,512,512))\n",
        "\n",
        "  for n in range(0,img_before.shape[0]):\n",
        "    img[n] = img_before[n][::-1]\n",
        "    \n",
        "  np.save(saveimg_path + 'img_zxy0' + str(i) + '.npy', img) "
      ],
      "execution_count": null,
      "outputs": []
    },
    {
      "cell_type": "code",
      "metadata": {
        "id": "x75THOrARi1p"
      },
      "source": [
        "#this is used for transfer the img file from xyz to zxy\n",
        "import os\n",
        "saveimg_path = '/content/drive/MyDrive/ThesisProject/dataset/leg_nii/train_set/img_npy/'\n",
        "for i in [x for x in range(12,17) if (x != 13)]:\n",
        "  img_filepath = '/content/drive/MyDrive/ThesisProject/dataset/leg_nii/train_set/img_npy/train0'+str(i)+'.npy'\n",
        "  img_before = np.load(img_filepath)\n",
        "  \n",
        "  img_before = img_before.transpose(2,1,0)\n",
        "  z_num = img_before.shape[0]\n",
        "  img = np.zeros((z_num,512,512))\n",
        "\n",
        "  for n in range(0,img_before.shape[0]):\n",
        "    img[n] = img_before[n][::-1]\n",
        "    \n",
        "  np.save(saveimg_path + 'img_zxy0' + str(i) + '.npy', img) "
      ],
      "execution_count": null,
      "outputs": []
    },
    {
      "cell_type": "code",
      "metadata": {
        "id": "iRIiDjqjx21f"
      },
      "source": [
        "#this is used for transfer the img file from xyz to zxy\n",
        "import os\n",
        "saveimg_path = '/content/drive/MyDrive/ThesisProject/dataset/leg_nii/train_set/img_npy/'\n",
        "for i in [x for x in range(1,7) if (x!=2)]:\n",
        "  img_filepath = '/content/drive/MyDrive/ThesisProject/dataset/leg_nii/train_set/img_npy/train0'+str(i)+'.npy'\n",
        "  img_before = np.load(img_filepath)\n",
        "  \n",
        "  img_before = img_before.transpose(2,1,0)\n",
        "  z_num = img_before.shape[0]\n",
        "  img = np.zeros((z_num,512,512))\n",
        "\n",
        "  for n in range(0,img_before.shape[0]):\n",
        "    img[n] = img_before[n][::-1]\n",
        "    \n",
        "  np.save(saveimg_path + 'img_zxy0' + str(i) + '.npy', img) "
      ],
      "execution_count": null,
      "outputs": []
    },
    {
      "cell_type": "code",
      "metadata": {
        "id": "l9dseREP9Gus"
      },
      "source": [
        "#this is used for transfer the img file from xyz to zxy\n",
        "import os\n",
        "saveimg_path = '/content/drive/MyDrive/ThesisProject/dataset/leg_nii/train_set/img_npy/'\n",
        "for i in [x for x in range(7,10)]:\n",
        "  img_filepath = '/content/drive/MyDrive/ThesisProject/dataset/leg_nii/train_set/img_npy/train0'+str(i)+'.npy'\n",
        "  img_before = np.load(img_filepath)\n",
        "  \n",
        "  img_before = img_before.transpose(2,1,0)\n",
        "  z_num = img_before.shape[0]\n",
        "  img = np.zeros((z_num,512,512))\n",
        "\n",
        "  for n in range(0,img_before.shape[0]):\n",
        "    img[n] = img_before[n][::-1]\n",
        "    \n",
        "  np.save(saveimg_path + 'img_zxy0' + str(i) + '.npy', img) "
      ],
      "execution_count": null,
      "outputs": []
    },
    {
      "cell_type": "code",
      "metadata": {
        "id": "sGMTU4ne7P6P"
      },
      "source": [
        "#just run once!!!!!!!!!!\n",
        "#this is used for transfer the img file from 4095 to 255 in order to use uint\n",
        "import os\n",
        "saveimg_path = '/content/drive/MyDrive/ThesisProject/dataset/leg_nii/train_set/img_npy/'\n",
        "max = 255\n",
        "for i in range(10,12):\n",
        "  img_filepath = '/content/drive/MyDrive/ThesisProject/dataset/leg_nii/train_set/img_npy/img_zxy0'+str(i)+'.npy'\n",
        "  img_before = np.load(img_filepath)\n",
        "  z_num = img_before.shape[0]\n",
        "  img = np.zeros((z_num,512,512))\n",
        "  for n in range(0,z_num):\n",
        "    img[n] = (img_before[n]/4095)*255\n",
        "  img = img.astype(np.uint8)\n",
        "  np.save(saveimg_path + 'img_zxy_uint0' + str(i) + '.npy', img) \n",
        "for i in range(13,14):\n",
        "  img_filepath = '/content/drive/MyDrive/ThesisProject/dataset/leg_nii/train_set/img_npy/img_zxy0'+str(i)+'.npy'\n",
        "  img_before = np.load(img_filepath)\n",
        "  z_num = img_before.shape[0]\n",
        "  img = np.zeros((z_num,512,512))\n",
        "  for n in range(0,z_num):\n",
        "    img[n] = (img_before[n]/4095)*255\n",
        "  img = img.astype(np.uint8)\n",
        "  np.save(saveimg_path + 'img_zxy_uint0' + str(i) + '.npy', img)\n",
        "for i in range(17,21):\n",
        "  img_filepath = '/content/drive/MyDrive/ThesisProject/dataset/leg_nii/train_set/img_npy/img_zxy0'+str(i)+'.npy'\n",
        "  img_before = np.load(img_filepath)\n",
        "  z_num = img_before.shape[0]\n",
        "  img = np.zeros((z_num,512,512))\n",
        "  for n in range(0,z_num):\n",
        "    img[n] = (img_before[n]/4095)*255\n",
        "  img = img.astype(np.uint8)\n",
        "  np.save(saveimg_path + 'img_zxy_uint0' + str(i) + '.npy', img)\n",
        "\n",
        "\n",
        "# training_img_int = training_img.astype(np.uint8)\n",
        "# training_seg_int = training_img.astype(np.uint8)"
      ],
      "execution_count": null,
      "outputs": []
    },
    {
      "cell_type": "code",
      "metadata": {
        "id": "8L9B8LozT1pz"
      },
      "source": [
        "#this is used for transfer the img file from 4095 to 255 in order to use uint\n",
        "import os\n",
        "saveimg_path = '/content/drive/MyDrive/ThesisProject/dataset/leg_nii/train_set/img_npy/'\n",
        "for i in [x for x in range(12,14) if (x != 13)]:\n",
        "  img_filepath = '/content/drive/MyDrive/ThesisProject/dataset/leg_nii/train_set/img_npy/img_zxy0'+str(i)+'.npy'\n",
        "  img_before = np.load(img_filepath)\n",
        "  z_num = img_before.shape[0]\n",
        "  img = np.zeros((z_num,512,512))\n",
        "  for n in range(0,z_num):\n",
        "    img[n] = (img_before[n]/4095)*255\n",
        "  img = img.astype(np.uint8)\n",
        "  np.save(saveimg_path + 'img_zxy_uint0' + str(i) + '.npy', img)"
      ],
      "execution_count": null,
      "outputs": []
    },
    {
      "cell_type": "code",
      "metadata": {
        "id": "TUb-wmjAWhfG"
      },
      "source": [
        "#this is used for transfer the img file from 4095 to 255 in order to use uint\n",
        "#because the min of 14,15,16 is -1024, so these need to an extra transfer\n",
        "import os\n",
        "saveimg_path = '/content/drive/MyDrive/ThesisProject/dataset/leg_nii/train_set/img_npy/'\n",
        "for i in [x for x in range(14,17)]:\n",
        "  img_filepath = '/content/drive/MyDrive/ThesisProject/dataset/leg_nii/train_set/img_npy/img_zxy0'+str(i)+'.npy'\n",
        "  img_before = np.load(img_filepath)\n",
        "  z_num = img_before.shape[0]\n",
        "  img = np.zeros((z_num,512,512))\n",
        "  for n in range(0,z_num):\n",
        "    img[n] = ((img_before[n]+1024)/4095)*255\n",
        "  img = img.astype(np.uint8)\n",
        "  np.save(saveimg_path + 'img_zxy_uint0' + str(i) + '.npy', img)"
      ],
      "execution_count": null,
      "outputs": []
    },
    {
      "cell_type": "code",
      "metadata": {
        "id": "dBKguQ68_dbC"
      },
      "source": [
        "#this is used for transfer the img file from 4095 to 255 in order to use uint\n",
        "#because the min of 17 is -1024, so these need to an extra transfer\n",
        "import os\n",
        "saveimg_path = '/content/drive/MyDrive/ThesisProject/dataset/leg_nii/train_set/img_npy/'\n",
        "for i in [x for x in range(17,18)]:\n",
        "  img_filepath = '/content/drive/MyDrive/ThesisProject/dataset/leg_nii/train_set/img_npy/img_zxy0'+str(i)+'.npy'\n",
        "  img_before = np.load(img_filepath)\n",
        "  z_num = img_before.shape[0]\n",
        "  img = np.zeros((z_num,512,512))\n",
        "  for n in range(0,z_num):\n",
        "    img[n] = ((img_before[n]+1024)/4095)*255\n",
        "  img = img.astype(np.uint8)\n",
        "  np.save(saveimg_path + 'img_zxy_uint0' + str(i) + '.npy', img)"
      ],
      "execution_count": null,
      "outputs": []
    },
    {
      "cell_type": "code",
      "metadata": {
        "id": "YI-d-w8MAffK"
      },
      "source": [
        "#this is used for transfer the img file from 4095 to 255 in order to use uint\n",
        "import os\n",
        "saveimg_path = '/content/drive/MyDrive/ThesisProject/dataset/leg_nii/train_set/img_npy/'\n",
        "for i in [x for x in range(7,10)]:\n",
        "  img_filepath = '/content/drive/MyDrive/ThesisProject/dataset/leg_nii/train_set/img_npy/img_zxy0'+str(i)+'.npy'\n",
        "  img_before = np.load(img_filepath)\n",
        "  z_num = img_before.shape[0]\n",
        "  img = np.zeros((z_num,512,512))\n",
        "  for n in range(0,z_num):\n",
        "    img[n] = (img_before[n]/4095)*255\n",
        "  img = img.astype(np.uint8)\n",
        "  np.save(saveimg_path + 'img_zxy_uint0' + str(i) + '.npy', img)"
      ],
      "execution_count": null,
      "outputs": []
    },
    {
      "cell_type": "code",
      "metadata": {
        "id": "1tMUxkDayoRQ"
      },
      "source": [
        "#this is used for transfer the img file from 4095 to 255 in order to use uint\n",
        "import os\n",
        "saveimg_path = '/content/drive/MyDrive/ThesisProject/dataset/leg_nii/train_set/img_npy/'\n",
        "for i in [x for x in range(1,7) if (x != 2)]:\n",
        "  img_filepath = '/content/drive/MyDrive/ThesisProject/dataset/leg_nii/train_set/img_npy/img_zxy0'+str(i)+'.npy'\n",
        "  img_before = np.load(img_filepath)\n",
        "  z_num = img_before.shape[0]\n",
        "  img = np.zeros((z_num,512,512))\n",
        "  for n in range(0,z_num):\n",
        "    img[n] = (img_before[n]/4095)*255\n",
        "  img = img.astype(np.uint8)\n",
        "  np.save(saveimg_path + 'img_zxy_uint0' + str(i) + '.npy', img)"
      ],
      "execution_count": null,
      "outputs": []
    },
    {
      "cell_type": "code",
      "metadata": {
        "id": "tSwC5vdKvLRc"
      },
      "source": [
        "##because the No.15 has 1543 slides which is too large. We crop the last 350 slides which are useless\n",
        "img_filepath = '/content/drive/MyDrive/ThesisProject/dataset/leg_nii/train_set/img_npy/img_zxy_uint020.npy'\n",
        "img_before = np.load(img_filepath)\n",
        "#x[:2,-2:]\n",
        "#img_before = img_before[:1200,:,:]"
      ],
      "execution_count": null,
      "outputs": []
    },
    {
      "cell_type": "code",
      "metadata": {
        "colab": {
          "base_uri": "https://localhost:8080/",
          "height": 269
        },
        "id": "TXkqcukeFRN8",
        "outputId": "3221cc9d-2f26-4b2b-9ead-25755f2e8748"
      },
      "source": [
        "img_test = img_before[:,:,210]\n",
        "min = np.min(img_before)\n",
        "plt.imshow(img_test,cmap='gray')\n",
        "plt.show()\n"
      ],
      "execution_count": null,
      "outputs": [
        {
          "output_type": "display_data",
          "data": {
            "image/png": "[encoded data removed]",
            "text/plain": [
              "<Figure size 432x288 with 1 Axes>"
            ]
          },
          "metadata": {
            "needs_background": "light"
          }
        }
      ]
    },
    {
      "cell_type": "code",
      "metadata": {
        "colab": {
          "base_uri": "https://localhost:8080/",
          "height": 269
        },
        "id": "mLHW5fAe_2K3",
        "outputId": "e47d82e6-e0f5-4f51-9936-184cf1a76cc1"
      },
      "source": [
        "#have a look at the uint img\n",
        "saveimg_path = '/content/drive/MyDrive/ThesisProject/dataset/leg_nii/train_set/seg_npy/seg020.npy'\n",
        "seg = np.load(saveimg_path).astype(np.uint8)\n",
        "plt.imshow(crop_img_axial(seg)[300],cmap='gray')\n",
        "plt.show()"
      ],
      "execution_count": null,
      "outputs": [
        {
          "output_type": "display_data",
          "data": {
            "image/png": "[encoded data removed]",
            "text/plain": [
              "<Figure size 432x288 with 1 Axes>"
            ]
          },
          "metadata": {
            "needs_background": "light"
          }
        }
      ]
    },
    {
      "cell_type": "code",
      "metadata": {
        "id": "d3LsRktdgcpq"
      },
      "source": [
        "test = crop_img_axial(seg)[300]"
      ],
      "execution_count": null,
      "outputs": []
    },
    {
      "cell_type": "code",
      "metadata": {
        "colab": {
          "base_uri": "https://localhost:8080/"
        },
        "id": "IKY2J0vdHwgr",
        "outputId": "a2e57210-a406-4ef4-cd8e-06518c7ba065"
      },
      "source": [
        "%whos"
      ],
      "execution_count": null,
      "outputs": [
        {
          "output_type": "stream",
          "name": "stdout",
          "text": [
            "Variable         Type                  Data/Info\n",
            "------------------------------------------------\n",
            "OrthoSlicer3D    type                  <class 'nibabel.viewers.OrthoSlicer3D'>\n",
            "crop_img_axial   function              <function crop_img_axial at 0x7f4bf0191a70>\n",
            "cv2              module                <module 'cv2.cv2' from '/<...>37m-x86_64-linux-gnu.so'>\n",
            "device_lib       module                <module 'tensorflow.pytho<...>on/client/device_lib.py'>\n",
            "device_name      str                   /device:GPU:0\n",
            "dicom2nifti      module                <module 'dicom2nifti' fro<...>dicom2nifti/__init__.py'>\n",
            "drive            module                <module 'google.colab.dri<...>s/google/colab/drive.py'>\n",
            "math             module                <module 'math' (built-in)>\n",
            "nib              module                <module 'nibabel' from '/<...>ges/nibabel/__init__.py'>\n",
            "np               module                <module 'numpy' from '/us<...>kages/numpy/__init__.py'>\n",
            "plt              module                <module 'matplotlib.pyplo<...>es/matplotlib/pyplot.py'>\n",
            "pydicom          module                <module 'pydicom' from '/<...>ges/pydicom/__init__.py'>\n",
            "pylab            module                <module 'pylab' from '/us<...>/dist-packages/pylab.py'>\n",
            "saveimg_path     str                   /content/drive/MyDrive/Th<...>in_set/seg_npy/seg020.npy\n",
            "seg              ndarray               409x512x512: 107216896 elems, type `uint8`, 107216896 bytes (102.25 Mb)\n",
            "struct           module                <module 'struct' from '/u<...>lib/python3.7/struct.py'>\n",
            "test             ndarray               384x384: 147456 elems, type `uint8`, 147456 bytes (144.0 kb)\n",
            "tf               DeprecationWrapper    <module 'tensorflow' from<...>/tensorflow/__init__.py'>\n"
          ]
        }
      ]
    },
    {
      "cell_type": "code",
      "metadata": {
        "colab": {
          "base_uri": "https://localhost:8080/",
          "height": 269
        },
        "id": "GZjO9UznRBNi",
        "outputId": "d7fb830e-14bd-4842-a160-6799887ddc1d"
      },
      "source": [
        "#compare to the float64 img, we can see that there is no difference, so it is successful.\n",
        "saveimg_path = '/content/drive/MyDrive/ThesisProject/dataset/leg_nii/train_set/img_npy/'\n",
        "img = np.load(saveimg_path+'img_zxy03.npy')\n",
        "plt.imshow(img[600])\n",
        "plt.show()"
      ],
      "execution_count": null,
      "outputs": [
        {
          "output_type": "display_data",
          "data": {
            "image/png": "[encoded data removed]",
            "text/plain": [
              "<Figure size 432x288 with 1 Axes>"
            ]
          },
          "metadata": {
            "tags": [],
            "needs_background": "light"
          }
        }
      ]
    },
    {
      "cell_type": "code",
      "metadata": {
        "colab": {
          "base_uri": "https://localhost:8080/",
          "height": 288
        },
        "id": "JpwRNglSMPdx",
        "outputId": "649d9fe3-2c50-469a-cd68-6a66319ae730"
      },
      "source": [
        "plt.imshow(cv2.flip(img[600], 1))\n",
        "#we can use cv2.flip(img,1) to get the mirror img"
      ],
      "execution_count": null,
      "outputs": [
        {
          "output_type": "execute_result",
          "data": {
            "text/plain": [
              "<matplotlib.image.AxesImage at 0x7f8bf8c49210>"
            ]
          },
          "metadata": {
            "tags": []
          },
          "execution_count": 13
        },
        {
          "output_type": "display_data",
          "data": {
            "image/png": "[encoded data removed]",
            "text/plain": [
              "<Figure size 432x288 with 1 Axes>"
            ]
          },
          "metadata": {
            "tags": [],
            "needs_background": "light"
          }
        }
      ]
    },
    {
      "cell_type": "markdown",
      "metadata": {
        "id": "aD8PDIg4wfks"
      },
      "source": [
        "# Axial dataset preprocessing"
      ]
    },
    {
      "cell_type": "markdown",
      "metadata": {
        "id": "eT9OvZq6r0-j"
      },
      "source": [
        "In axial, we don't need to crop the data in the z axial. Each slide is useful for the segmentation training for axial.\n",
        "\n"
      ]
    },
    {
      "cell_type": "code",
      "metadata": {
        "id": "gINlSaASEqKY"
      },
      "source": [
        "def crop_img_axial(img):#384*384,先竖再横\n",
        "    startx = 128\n",
        "    starty = 64\n",
        "    endy = 512-64\n",
        "\n",
        "    return img[:,-384:,starty:endy]#512*256*512"
      ],
      "execution_count": null,
      "outputs": []
    },
    {
      "cell_type": "code",
      "metadata": {
        "id": "P2JdwwcZyh8p"
      },
      "source": [
        "import os\n",
        "import numpy as np\n",
        "img_path = '/content/drive/MyDrive/ThesisProject/dataset/leg_nii/train_set/img_npy/'\n",
        "seg_path = '/content/drive/MyDrive/ThesisProject/dataset/leg_nii/train_set/seg_npy/'\n",
        "img_01_path = '/content/drive/MyDrive/ThesisProject/dataset/leg_nii/train_set/img_npy/img_zxy_uint01.npy'\n",
        "img_all = np.load(img_01_path)\n",
        "\n",
        "for i in [x for x in range(2,21) if x != 2]:\n",
        "  img_filepath = '/content/drive/MyDrive/ThesisProject/dataset/leg_nii/train_set/img_npy/img_zxy_uint0'+str(i)+'.npy'\n",
        "  img_one = np.load(img_filepath)\n",
        "  img_all = np.append(img_all,img_one,axis=0)\n",
        "\n",
        "img_all = crop_img_axial(img_all)"
      ],
      "execution_count": null,
      "outputs": []
    },
    {
      "cell_type": "code",
      "metadata": {
        "id": "BarsKffd10ch"
      },
      "source": [
        "import os\n",
        "import numpy as np\n",
        "img_path = '/content/drive/MyDrive/ThesisProject/dataset/leg_nii/train_set/img_npy/'\n",
        "seg_path = '/content/drive/MyDrive/ThesisProject/dataset/leg_nii/train_set/seg_npy/'\n",
        "seg_01_path = '/content/drive/MyDrive/ThesisProject/dataset/leg_nii/train_set/seg_npy/seg01.npy'\n",
        "seg_all = np.load(seg_01_path).astype(np.uint8)\n",
        "\n",
        "for i in [x for x in range(2,21) if x != 2]:\n",
        "  seg_filepath = '/content/drive/MyDrive/ThesisProject/dataset/leg_nii/train_set/seg_npy/seg0'+str(i)+'.npy'\n",
        "  seg_one = np.load(seg_filepath).astype(np.uint8)\n",
        "  seg_all = np.append(seg_all,seg_one,axis=0)\n",
        "\n",
        "seg_all = crop_img_axial(seg_all)"
      ],
      "execution_count": null,
      "outputs": []
    },
    {
      "cell_type": "code",
      "metadata": {
        "id": "CVXGVIaProC5"
      },
      "source": [
        "%whos"
      ],
      "execution_count": null,
      "outputs": []
    },
    {
      "cell_type": "code",
      "metadata": {
        "id": "0TjY74GeRJBF"
      },
      "source": [
        "np.savez('/content/drive/MyDrive/ThesisProject/dataset/leg_nii/train_set/npz/full_axial_uint020.npz', img = img_all, seg = seg_all)   "
      ],
      "execution_count": null,
      "outputs": []
    },
    {
      "cell_type": "code",
      "metadata": {
        "id": "4vqcV9thIXqY"
      },
      "source": [
        "np.savez('/content/drive/MyDrive/ThesisProject/dataset/leg_nii/train_set/npz/crop_axial_uint020.npz', img = img_all, seg = seg_all)   "
      ],
      "execution_count": null,
      "outputs": []
    },
    {
      "cell_type": "code",
      "metadata": {
        "id": "A8y0dqmsr0TM"
      },
      "source": [
        "import os\n",
        "import numpy as np\n",
        "img_path = '/content/drive/MyDrive/ThesisProject/dataset/leg_nii/train_set/img_npy/'\n",
        "seg_path = '/content/drive/MyDrive/ThesisProject/dataset/leg_nii/train_set/seg_npy/'\n",
        "\n",
        "\n",
        "# This part is used to cut from the middle for z,x,y\n",
        "# def crop_img_center(img,cropx,cropy,cropz):#img is z*x*y\n",
        "#     z,x,y = img.shape\n",
        "#     startx = x//2-(cropx//2)\n",
        "#     starty = y//2-(cropy//2)\n",
        "#     startz = z//2-(cropz//2)\n",
        "\n",
        "#     return img[startz:startz+cropz,starty:starty+cropy,startx:startx+cropx]\n",
        "\n",
        "# def crop_seg_center(seg,cropx,cropy,cropz):#seg is z*x*y\n",
        "#     z,x,y = seg.shape\n",
        "#     startx = x//2-(cropx//2)# // means devide round down\n",
        "#     starty = y//2-(cropy//2)#350 for small one \n",
        "#     startz = z//2-(cropz//2)\n",
        "\n",
        "#     return seg[startz:startz+cropz,starty:starty+cropy,startx:startx+cropx]#700*256*500\n",
        "\n",
        "\n",
        "# This part is used to cut from the middle for z,y\n",
        "# x is cut from end\n",
        "def crop_img_center(img,cropx,cropy,cropz):#img is z*x*y\n",
        "    z,x,y = img.shape\n",
        "    if(z<cropz):\n",
        "      img = np.pad(img,((int((cropz-z)/2),math.ceil((cropz-z)/2)),(0,0),(0,0)), 'constant', constant_values = 0)\n",
        "      #np.pad(a, ((0, 1), (0, 0)), 'constant', constant_values=0)\n",
        "      #1、向下取整： int()\n",
        "      #2、向上取整：math.ceil()\n",
        "    z,x,y = img.shape\n",
        "    print(z)\n",
        "    startx = 0\n",
        "    starty = y//2\n",
        "    startz = z//2-(cropz//2)\n",
        "\n",
        "    return img[startz:startz+cropz,starty:starty+cropy,startx:startx+cropx]\n",
        "\n",
        "def crop_seg_center(seg,cropx,cropy,cropz):#seg is z*x*y\n",
        "    z,x,y = seg.shape\n",
        "    if(z<cropz):\n",
        "      seg = np.pad(seg,((int((cropz-z)/2),math.ceil((cropz-z)/2)),(0,0),(0,0)), 'constant', constant_values = 0)\n",
        "    z,x,y = seg.shape\n",
        "    startx = 0\n",
        "    starty = y//2#350 for small one \n",
        "    startz = z//2-(cropz//2)\n",
        "\n",
        "    return seg[startz:startz+cropz,starty:starty+cropy,startx:startx+cropx]#512*256*512\n",
        "\n",
        "def crop_img_center_formirror(img,cropx,cropy,cropz):#img is z*x*y\n",
        "    z,x,y = img.shape\n",
        "    if(z<cropz):\n",
        "      img = np.pad(img,((int((cropz-z)/2),math.ceil((cropz-z)/2)),(0,0),(0,0)), 'constant', constant_values = 0)\n",
        "    z,x,y = img.shape\n",
        "    startx = x//2\n",
        "    starty = y//2\n",
        "    startz = z//2-(cropz//2)\n",
        "\n",
        "    return img[startz:startz+cropz,starty:starty+cropy,startx:startx+cropx]\n",
        "\n",
        "def crop_seg_center_formirror(seg,cropx,cropy,cropz):#seg is z*x*y\n",
        "    z,x,y = seg.shape\n",
        "    if(z<cropz):\n",
        "      seg = np.pad(seg,((int((cropz-z)/2),math.ceil((cropz-z)/2)),(0,0),(0,0)), 'constant', constant_values = 0)\n",
        "    z,x,y = seg.shape\n",
        "    startx = x//2\n",
        "    starty = y//2#350 for small one \n",
        "    startz = z//2-(cropz//2)\n",
        "\n",
        "    return seg[startz:startz+cropz,starty:starty+cropy,startx:startx+cropx]\n",
        "\n"
      ],
      "execution_count": null,
      "outputs": []
    },
    {
      "cell_type": "code",
      "metadata": {
        "id": "xW2ErBIlt-Rx"
      },
      "source": [
        ""
      ],
      "execution_count": null,
      "outputs": []
    },
    {
      "cell_type": "code",
      "metadata": {
        "id": "KIE4ylqWbEkY"
      },
      "source": [
        "import os\n",
        "import numpy as np\n",
        "img_path = '/content/drive/MyDrive/ThesisProject/dataset/leg_nii/train_set/img_npy/'\n",
        "seg_path = '/content/drive/MyDrive/ThesisProject/dataset/leg_nii/train_set/seg_npy/'\n",
        "\n",
        "# usual 5,512,256,512\n",
        "# we use 10*512*256*16 for mirror\n",
        "img_crop_arr = np.zeros((6,500,256,256))\n",
        "seg_crop_arr = np.zeros((6,500,256,256))\n",
        "\n",
        "n = 0\n",
        " \n",
        "for i in [x for x in range(10,14) if x != 12]:\n",
        "#for i in [x for x in range(18,21)]:\n",
        "\n",
        "    img = np.load(img_path+'img_zxy_uint0'+str(i)+'.npy')\n",
        "    seg = np.load(seg_path+'seg0'+str(i)+'.npy')\n",
        "    img_crop = crop_img_center(img,256,256,500)\n",
        "    seg_crop = crop_seg_center(seg,256,256,500)\n",
        "    img_crop_arr[n] = img_crop\n",
        "    seg_crop_arr[n] = seg_crop\n",
        "    n+=1\n",
        "for i in [x for x in range(10,14) if x != 12]:\n",
        "#for i in [x for x in range(18,21)]:\n",
        "    img = np.load(img_path+'img_zxy_uint0'+str(i)+'.npy')\n",
        "    seg = np.load(seg_path+'seg0'+str(i)+'.npy')\n",
        "    img_crop = crop_img_center_formirror(img,256,256,500)\n",
        "    seg_crop = crop_seg_center_formirror(seg,256,256,500)\n",
        "    #mirror  cv2.flip(img,1)\n",
        "    for i in range(500):\n",
        "      img_crop[i] = cv2.flip(img_crop[i],1)\n",
        "      seg_crop[i] = cv2.flip(seg_crop[i],1)\n",
        "    img_crop_arr[n] = img_crop\n",
        "    seg_crop_arr[n] = seg_crop\n",
        "    n+=1\n",
        "    \n",
        "\n",
        "training_img_int = img_crop_arr.astype(np.uint8)\n",
        "training_seg_int = seg_crop_arr.astype(np.uint8)\n",
        "np.savez('/content/drive/MyDrive/ThesisProject/dataset/leg_nii/train_set/npz/crop_test_equal_halfmirror_test_uint1014.npz', img_crop = training_img_int, seg_crop = training_seg_int)    \n",
        "\n",
        "\n",
        "#transfer to int for saving RAM"
      ],
      "execution_count": null,
      "outputs": []
    },
    {
      "cell_type": "code",
      "metadata": {
        "id": "kWVAEeVWYm0b",
        "colab": {
          "base_uri": "https://localhost:8080/"
        },
        "outputId": "5c027c75-fb26-40ef-9fa0-900eadd4e270"
      },
      "source": [
        "import os\n",
        "import numpy as np\n",
        "img_path = '/content/drive/MyDrive/ThesisProject/dataset/leg_nii/train_set/img_npy/'\n",
        "seg_path = '/content/drive/MyDrive/ThesisProject/dataset/leg_nii/train_set/seg_npy/'\n",
        "\n",
        "img_crop_arr = np.zeros((6,500,256,256))\n",
        "seg_crop_arr = np.zeros((6,500,256,256))\n",
        "\n",
        "n = 0\n",
        " \n",
        "#for i in [x for x in range(10,14) if x != 12]:\n",
        "for i in [x for x in range(18,21)]:\n",
        "\n",
        "    img = np.load(img_path+'img_zxy_uint0'+str(i)+'.npy')\n",
        "    seg = np.load(seg_path+'seg0'+str(i)+'.npy')\n",
        "    img_crop = crop_img_center(img,256,256,500)\n",
        "    seg_crop = crop_seg_center(seg,256,256,500)\n",
        "    img_crop_arr[n] = img_crop\n",
        "    seg_crop_arr[n] = seg_crop\n",
        "    n+=1\n",
        "    print(n)\n",
        "#for i in [x for x in range(10,14) if x != 12]:\n",
        "for i in [x for x in range(18,21)]:\n",
        "    img = np.load(img_path+'img_zxy_uint0'+str(i)+'.npy')\n",
        "    seg = np.load(seg_path+'seg0'+str(i)+'.npy')\n",
        "    img_crop = crop_img_center_formirror(img,256,256,500)\n",
        "    seg_crop = crop_seg_center_formirror(seg,256,256,500)\n",
        "    #mirror  cv2.flip(img,1)\n",
        "    for i in range(500):\n",
        "      img_crop[i] = cv2.flip(img_crop[i],1)\n",
        "      seg_crop[i] = cv2.flip(seg_crop[i],1)\n",
        "    img_crop_arr[n] = img_crop\n",
        "    seg_crop_arr[n] = seg_crop\n",
        "    n+=1\n",
        "    \n",
        "\n",
        "training_img_int = img_crop_arr.astype(np.uint8)\n",
        "training_seg_int = seg_crop_arr.astype(np.uint8)\n",
        "np.savez('/content/drive/MyDrive/ThesisProject/dataset/leg_nii/train_set/npz/crop_test_equal_halfmirror_test_uint1821.npz', img_crop = training_img_int, seg_crop = training_seg_int)    \n"
      ],
      "execution_count": null,
      "outputs": [
        {
          "output_type": "stream",
          "text": [
            "797\n",
            "1\n",
            "774\n",
            "2\n",
            "500\n",
            "3\n"
          ],
          "name": "stdout"
        }
      ]
    },
    {
      "cell_type": "code",
      "metadata": {
        "id": "eP7qJQdcY3u2",
        "colab": {
          "base_uri": "https://localhost:8080/"
        },
        "outputId": "e1164ab4-1af1-4576-d808-a45a94ae761e"
      },
      "source": [
        "import os\n",
        "import numpy as np\n",
        "img_path = '/content/drive/MyDrive/ThesisProject/dataset/leg_nii/train_set/img_npy/'\n",
        "seg_path = '/content/drive/MyDrive/ThesisProject/dataset/leg_nii/train_set/seg_npy/'\n",
        "\n",
        "\n",
        "img_crop_arr = np.zeros((4,500,256,256))\n",
        "seg_crop_arr = np.zeros((4,500,256,256))\n",
        "\n",
        "n = 0\n",
        " \n",
        "for i in [x for x in range(1,4) if x != 2]:\n",
        "#for i in [x for x in range(18,21)]:\n",
        "\n",
        "    img = np.load(img_path+'img_zxy_uint0'+str(i)+'.npy')\n",
        "    seg = np.load(seg_path+'seg0'+str(i)+'.npy')\n",
        "    img_crop = crop_img_center(img,256,256,500)\n",
        "    seg_crop = crop_seg_center(seg,256,256,500)\n",
        "    img_crop_arr[n] = img_crop\n",
        "    seg_crop_arr[n] = seg_crop\n",
        "    n+=1\n",
        "for i in [x for x in range(1,4) if x != 2]:\n",
        "#for i in [x for x in range(18,21)]:\n",
        "    img = np.load(img_path+'img_zxy_uint0'+str(i)+'.npy')\n",
        "    seg = np.load(seg_path+'seg0'+str(i)+'.npy')\n",
        "    img_crop = crop_img_center_formirror(img,256,256,500)\n",
        "    seg_crop = crop_seg_center_formirror(seg,256,256,500)\n",
        "    #mirror  cv2.flip(img,1)\n",
        "    for i in range(500):\n",
        "      img_crop[i] = cv2.flip(img_crop[i],1)\n",
        "      seg_crop[i] = cv2.flip(seg_crop[i],1)\n",
        "    img_crop_arr[n] = img_crop\n",
        "    seg_crop_arr[n] = seg_crop\n",
        "    n+=1\n",
        "    \n",
        "\n",
        "training_img_int = img_crop_arr.astype(np.uint8)\n",
        "training_seg_int = seg_crop_arr.astype(np.uint8)\n",
        "np.savez('/content/drive/MyDrive/ThesisProject/dataset/leg_nii/train_set/npz/crop_test_equal_halfmirror_test_uint0103.npz', img_crop = training_img_int, seg_crop = training_seg_int)    \n"
      ],
      "execution_count": null,
      "outputs": [
        {
          "output_type": "stream",
          "text": [
            "983\n",
            "734\n"
          ],
          "name": "stdout"
        }
      ]
    },
    {
      "cell_type": "code",
      "metadata": {
        "colab": {
          "base_uri": "https://localhost:8080/"
        },
        "id": "wE3jYIyfMS3_",
        "outputId": "05293723-07f0-4544-c02e-9b938186be7d"
      },
      "source": [
        "import os\n",
        "import numpy as np\n",
        "img_path = '/content/drive/MyDrive/ThesisProject/dataset/leg_nii/train_set/img_npy/'\n",
        "seg_path = '/content/drive/MyDrive/ThesisProject/dataset/leg_nii/train_set/seg_npy/'\n",
        "\n",
        "\n",
        "img_crop_arr = np.zeros((6,500,256,256))\n",
        "seg_crop_arr = np.zeros((6,500,256,256))\n",
        "\n",
        "n = 0\n",
        " \n",
        "for i in [x for x in range(4,7) if x != 2]:\n",
        "#for i in [x for x in range(18,21)]:\n",
        "\n",
        "    img = np.load(img_path+'img_zxy_uint0'+str(i)+'.npy')\n",
        "    seg = np.load(seg_path+'seg0'+str(i)+'.npy')\n",
        "    img_crop = crop_img_center(img,256,256,500)\n",
        "    seg_crop = crop_seg_center(seg,256,256,500)\n",
        "    img_crop_arr[n] = img_crop\n",
        "    seg_crop_arr[n] = seg_crop\n",
        "    n+=1\n",
        "for i in [x for x in range(4,7) if x != 2]:\n",
        "#for i in [x for x in range(18,21)]:\n",
        "    img = np.load(img_path+'img_zxy_uint0'+str(i)+'.npy')\n",
        "    seg = np.load(seg_path+'seg0'+str(i)+'.npy')\n",
        "    img_crop = crop_img_center_formirror(img,256,256,500)\n",
        "    seg_crop = crop_seg_center_formirror(seg,256,256,500)\n",
        "    #mirror  cv2.flip(img,1)\n",
        "    for i in range(500):\n",
        "      img_crop[i] = cv2.flip(img_crop[i],1)\n",
        "      seg_crop[i] = cv2.flip(seg_crop[i],1)\n",
        "    img_crop_arr[n] = img_crop\n",
        "    seg_crop_arr[n] = seg_crop\n",
        "    n+=1\n",
        "    \n",
        "\n",
        "training_img_int = img_crop_arr.astype(np.uint8)\n",
        "training_seg_int = seg_crop_arr.astype(np.uint8)\n",
        "np.savez('/content/drive/MyDrive/ThesisProject/dataset/leg_nii/train_set/npz/crop_test_equal_halfmirror_test_uint0406.npz', img_crop = training_img_int, seg_crop = training_seg_int)    \n"
      ],
      "execution_count": null,
      "outputs": [
        {
          "output_type": "stream",
          "text": [
            "670\n",
            "790\n",
            "786\n"
          ],
          "name": "stdout"
        }
      ]
    },
    {
      "cell_type": "code",
      "metadata": {
        "id": "G6St_Ij6kb3y"
      },
      "source": [
        "\n",
        "a1 = np.load('/content/drive/MyDrive/ThesisProject/dataset/leg_nii/train_set/npz/crop_test_equal_halfmirror_test_uint0103.npz')['img_crop']\n",
        "a2 = np.load('/content/drive/MyDrive/ThesisProject/dataset/leg_nii/train_set/npz/crop_test_equal_halfmirror_test_uint0406.npz')['img_crop']\n",
        "b1 = np.load('/content/drive/MyDrive/ThesisProject/dataset/leg_nii/train_set/npz/crop_test_equal_halfmirror_test_uint1014.npz')['img_crop']\n",
        "\n",
        "b2 = np.load('/content/drive/MyDrive/ThesisProject/dataset/leg_nii/train_set/npz/crop_test_equal_halfmirror_test_uint1821.npz')['img_crop']\n",
        "\n",
        "c = np.append(a1,a2,axis=0)\n",
        "c = np.append(c,b1,axis=0)\n",
        "c = np.append(c,b2,axis=0)\n",
        "\n",
        "x1 = np.load('/content/drive/MyDrive/ThesisProject/dataset/leg_nii/train_set/npz/crop_test_equal_halfmirror_test_uint0103.npz')['seg_crop']\n",
        "x2 = np.load('/content/drive/MyDrive/ThesisProject/dataset/leg_nii/train_set/npz/crop_test_equal_halfmirror_test_uint0406.npz')['seg_crop']\n",
        "y1 = np.load('/content/drive/MyDrive/ThesisProject/dataset/leg_nii/train_set/npz/crop_test_equal_halfmirror_test_uint1014.npz')['seg_crop']\n",
        "\n",
        "y2 = np.load('/content/drive/MyDrive/ThesisProject/dataset/leg_nii/train_set/npz/crop_test_equal_halfmirror_test_uint1821.npz')['seg_crop'] \n",
        "\n",
        "z = np.append(x1,x2,axis=0)\n",
        "z = np.append(z,y1,axis=0)\n",
        "z = np.append(z,y2,axis=0)\n",
        "np.savez('/content/drive/MyDrive/ThesisProject/dataset/leg_nii/train_set/npz/crop_test_equal_halfmirror_test_uint020.npz', img_crop = c, seg_crop = z)   "
      ],
      "execution_count": null,
      "outputs": []
    },
    {
      "cell_type": "code",
      "metadata": {
        "id": "woFNeO7lv6-u"
      },
      "source": [
        "a = np.load('/content/drive/MyDrive/ThesisProject/dataset/leg_nii/train_set/npz/crop_test_equal_halfmirror_test_uint.npz')['img_crop']\n",
        "b1 = np.load('/content/drive/MyDrive/ThesisProject/dataset/leg_nii/train_set/npz/crop_test_equal_halfmirror_test_uint1014.npz')['img_crop']\n",
        "b2 = np.load('/content/drive/MyDrive/ThesisProject/dataset/leg_nii/train_set/npz/crop_test_equal_halfmirror_test_uint1821.npz')['img_crop']\n",
        "c = np.append(a,b1,axis=0)\n",
        "c = np.append(c,b2,axis=0)"
      ],
      "execution_count": null,
      "outputs": []
    },
    {
      "cell_type": "code",
      "metadata": {
        "id": "Yvf02Rpp_e2L"
      },
      "source": [
        "img_test829 = np.load(img_path+'img_zxy_uint020.npy')"
      ],
      "execution_count": null,
      "outputs": []
    },
    {
      "cell_type": "code",
      "metadata": {
        "colab": {
          "base_uri": "https://localhost:8080/"
        },
        "id": "J_Uo5dx7jdxs",
        "outputId": "f7925adf-59a3-43f4-fc9f-4c9657c5af07"
      },
      "source": [
        "%whos"
      ],
      "execution_count": null,
      "outputs": [
        {
          "output_type": "stream",
          "text": [
            "Variable                    Type                  Data/Info\n",
            "-----------------------------------------------------------\n",
            "OrthoSlicer3D               type                  <class 'nibabel.viewers.OrthoSlicer3D'>\n",
            "crop_img_center             function              <function crop_img_center at 0x7f68e0e0c830>\n",
            "crop_img_center_formirror   function              <function crop_img_center<...>mirror at 0x7f68e0e0c320>\n",
            "crop_seg_center             function              <function crop_seg_center at 0x7f68e0e0c290>\n",
            "crop_seg_center_formirror   function              <function crop_seg_center<...>mirror at 0x7f68e0e0c680>\n",
            "cv2                         module                <module 'cv2.cv2' from '/<...>37m-x86_64-linux-gnu.so'>\n",
            "device_lib                  module                <module 'tensorflow.pytho<...>on/client/device_lib.py'>\n",
            "device_name                 str                   /device:GPU:0\n",
            "dicom2nifti                 module                <module 'dicom2nifti' fro<...>dicom2nifti/__init__.py'>\n",
            "drive                       module                <module 'google.colab.dri<...>s/google/colab/drive.py'>\n",
            "i                           int                   20\n",
            "img                         ndarray               409x512x512: 107216896 elems, type `uint8`, 107216896 bytes (102.25 Mb)\n",
            "img_crop                    ndarray               46x256x256: 3014656 elems, type `uint8`, 3014656 bytes (2.875 Mb)\n",
            "img_crop_arr                ndarray               6x500x256x256: 196608000 elems, type `float64`, 1572864000 bytes (1500.0 Mb)\n",
            "img_path                    str                   /content/drive/MyDrive/Th<...>eg_nii/train_set/img_npy/\n",
            "img_test829                 ndarray               409x512x512: 107216896 elems, type `uint8`, 107216896 bytes (102.25 Mb)\n",
            "math                        module                <module 'math' (built-in)>\n",
            "n                           int                   2\n",
            "nib                         module                <module 'nibabel' from '/<...>ges/nibabel/__init__.py'>\n",
            "np                          module                <module 'numpy' from '/us<...>kages/numpy/__init__.py'>\n",
            "os                          module                <module 'os' from '/usr/lib/python3.7/os.py'>\n",
            "plt                         module                <module 'matplotlib.pyplo<...>es/matplotlib/pyplot.py'>\n",
            "pydicom                     module                <module 'pydicom' from '/<...>ges/pydicom/__init__.py'>\n",
            "pylab                       module                <module 'pylab' from '/us<...>/dist-packages/pylab.py'>\n",
            "seg                         ndarray               409x512x512: 107216896 elems, type `float64`, 857735168 bytes (818.0 Mb)\n",
            "seg_crop                    ndarray               46x256x256: 3014656 elems, type `float64`, 24117248 bytes (23.0 Mb)\n",
            "seg_crop_arr                ndarray               6x500x256x256: 196608000 elems, type `float64`, 1572864000 bytes (1500.0 Mb)\n",
            "seg_path                    str                   /content/drive/MyDrive/Th<...>eg_nii/train_set/seg_npy/\n",
            "struct                      module                <module 'struct' from '/u<...>lib/python3.7/struct.py'>\n",
            "tf                          DeprecationWrapper    <module 'tensorflow' from<...>/tensorflow/__init__.py'>\n",
            "training_img_int            ndarray               6x500x256x256: 196608000 elems, type `uint8`, 196608000 bytes (187.5 Mb)\n",
            "training_seg_int            ndarray               6x500x256x256: 196608000 elems, type `uint8`, 196608000 bytes (187.5 Mb)\n"
          ],
          "name": "stdout"
        }
      ]
    },
    {
      "cell_type": "markdown",
      "metadata": {
        "id": "kzGzMcccRD9S"
      },
      "source": [
        "# V net model utils"
      ]
    },
    {
      "cell_type": "code",
      "metadata": {
        "id": "7LjXkxGwX_O5"
      },
      "source": [
        "from __future__ import print_function\n",
        "import numpy as np\n",
        "import os\n",
        "\n",
        "\n",
        "# import tensorflow.compat.v1 as tf\n",
        "# tf.disable_v2_behavior() #for use placeholder\n",
        "import tensorflow as tf\n",
        "\n",
        "def conv_3d_pool(x,name,filter_num,filter_size,strides):\n",
        "\twith tf.compat.v1.variable_scope(name):\n",
        "\t\tinput_channel = x.get_shape()[4]\n",
        "\t\tW = tf.get_variable(\"weights\",[filter_size[0],filter_size[1],filter_size[2],\n",
        "\t\t\t\t\t\t\tinput_channel,filter_num],\n",
        "\t\t\t\t\t\t\tinitializer=tf.random_normal_initializer(stddev=0.02))\n",
        "\t\tb = tf.get_variable(\"bias\",[filter_num],initializer=tf.constant_initializer(0.0))\n",
        "\t\tconv = tf.nn.conv3d(x,W,strides=[1,strides[0],strides[1],strides[2],1],padding='SAME')\n",
        "\t\treturn tf.nn.relu(conv+b)\n",
        "\n",
        "def conv_3d(x,name,filter_num,filter_size):\n",
        "\twith tf.compat.v1.variable_scope(name):\n",
        "\t\tinput_channel = x.get_shape()[4]\n",
        "\t\tW = tf.get_variable(\"weights\",[filter_size[0],filter_size[1],filter_size[2],\n",
        "\t\t\t\t\t\t\tinput_channel,filter_num],\n",
        "\t\t\t\t\t\t\tinitializer=tf.random_normal_initializer(stddev=0.02))\n",
        "\t\tb = tf.get_variable(\"bias\",[filter_num],initializer=tf.constant_initializer(0.0))\n",
        "\t\tconv = tf.nn.conv3d(x,W,strides=[1,1,1,1,1],padding='SAME')\n",
        "\t\treturn tf.nn.relu(conv+b)\n",
        "\n",
        "def conv_3d_linear(x,name,filter_num,filter_size):\n",
        "\twith tf.compat.v1.variable_scope(name):\n",
        "\t\tinput_channel = x.get_shape()[4]\n",
        "\t\tW = tf.get_variable(\"weights\",[filter_size[0],filter_size[1],filter_size[2],\n",
        "\t\t\t\t\t\t\tinput_channel,filter_num],\n",
        "\t\t\t\t\t\t\tinitializer=tf.random_normal_initializer(stddev=0.02))\n",
        "\t\tb = tf.get_variable(\"bias\",[filter_num],initializer=tf.constant_initializer(0.0))\n",
        "\t\tconv = tf.nn.conv3d(x,W,strides=[1,1,1,1,1],padding='SAME')\n",
        "\t\treturn (conv+b)\n",
        "\n",
        "def residual_block(x,name,filter_size):\n",
        "\twith tf.compat.v1.variable_scope(name):\n",
        "\t\tfilter_num = x.get_shape()[4]\n",
        "\t\tconv_1 = conv_3d(x,\"conv_1\",filter_num,filter_size)\n",
        "\t\tconv_2 = conv_3d_linear(conv_1,\"conv_2\",filter_num,filter_size)\n",
        "\t\treturn tf.nn.relu(tf.add(x,conv_2))\n",
        "\n",
        "def residual_block_3(x,name,filter_size):\n",
        "\twith tf.compat.v1.variable_scope(name):\n",
        "\t\tfilter_num = x.get_shape()[4]\n",
        "\t\tconv_1 = conv_3d(x,\"conv_1\",filter_num,filter_size)\n",
        "\t\tconv_2 = conv_3d(conv_1,\"conv_2\",filter_num,filter_size)\n",
        "\t\tconv_3 = conv_3d_linear(conv_2,\"conv_3\",filter_num,filter_size)\n",
        "\t\treturn tf.nn.relu(tf.add(x,conv_3))\n",
        "\n",
        "def up_residual_block(x,y,name,filter_size):\n",
        "\twith tf.compat.v1.variable_scope(name):\n",
        "\t\tfilter_num = x.get_shape()[4]\n",
        "\t\txy = tf.concat([x,y],axis=4)\n",
        "\t\tconv_1 = conv_3d(xy,\"conv_1\",filter_num,filter_size)\n",
        "\t\tconv_2 = conv_3d_linear(conv_1,\"conv_2\",filter_num,filter_size)\n",
        "\t\treturn tf.nn.relu(tf.add(x,conv_2))\n",
        "\n",
        "def up_residual_block_3(x,y,name,filter_size):\n",
        "\twith tf.compat.v1.variable_scope(name):\n",
        "\t\tfilter_num = x.get_shape()[4]\n",
        "\t\txy = tf.concat([x,y],axis=4)\n",
        "\t\tconv_1 = conv_3d(xy,\"conv_1\",filter_num,filter_size)\n",
        "\t\tconv_2 = conv_3d(conv_1,\"conv_2\",filter_num,filter_size)\n",
        "\t\tconv_3 = conv_3d_linear(conv_2,\"conv_3\",filter_num,filter_size)\n",
        "\t\treturn tf.nn.relu(tf.add(x,conv_3))\n",
        "\n",
        "def conv_3d_sigmoid(x,name,filter_num,filter_size):\n",
        "\twith tf.compat.v1.variable_scope(name):\n",
        "\t\tinput_channel = x.get_shape()[4]\n",
        "\t\tW = tf.get_variable(\"weights\",[filter_size[0],filter_size[1],filter_size[2],\n",
        "\t\t\t\t\t\t\tinput_channel,filter_num],\n",
        "\t\t\t\t\t\t\tinitializer=tf.random_normal_initializer(stddev=0.02))\n",
        "\t\tb = tf.get_variable(\"bias\",[filter_num],initializer=tf.constant_initializer(0.0))\n",
        "\t\tconv = tf.nn.conv3d(x,W,strides=[1,1,1,1,1],padding='SAME')\n",
        "\t\treturn tf.sigmoid(conv+b)\n",
        "\n",
        "def deconv_3d(x,name,filter_num,filter_size,strides):\n",
        "\twith tf.compat.v1.variable_scope(name):\n",
        "\t\tx_shape = x.get_shape().as_list()\n",
        "\t\tinput_channel = x_shape[4]\n",
        "\t\toutput_shape = [x_shape[0],x_shape[1]*strides[0],x_shape[2]*strides[1],\n",
        "\t\t\t\t\t\tx_shape[3]*strides[2],filter_num]\n",
        "\t\tW = tf.get_variable(\"weights\",[filter_size[0],filter_size[1],filter_size[2],\n",
        "\t\t\t\t\t\t\tfilter_num,input_channel],\n",
        "\t\t\t\t\t\t\tinitializer=tf.random_normal_initializer(stddev=0.02))\n",
        "\t\tb = tf.get_variable(\"bias\",[filter_num],initializer=tf.constant_initializer(0.0))\n",
        "\t\tconv = tf.nn.conv3d_transpose(x,W,output_shape=output_shape,strides=[1,strides[0],strides[1],strides[2],1],padding='SAME')\n",
        "\t\treturn tf.nn.relu(conv+b)\n",
        "\n",
        "def get_v_net(x,name=\"u_net\",b=1):\n",
        "\twith tf.compat.v1.variable_scope(name):\n",
        "\t\tconv1 = conv_3d(x,\"conv1_1\",b*16,[3,3,3])\n",
        "\t\tconv1 = conv_3d(conv1,\"conv1_2\",b*16,[3,3,3])\n",
        "\t\tpool1 = conv_3d_pool(conv1,\"pool1\",b*32,[3,3,3],[2,2,2])\n",
        "\n",
        "\t\tconv2 = residual_block(pool1,\"conv2_1\",[3,3,3])\n",
        "\t\tpool2 = conv_3d_pool(conv2,\"pool2\",b*64,[3,3,3],[2,2,2])\n",
        "\n",
        "\t\tconv3 = residual_block_3(pool2,\"conv3_1\",[3,3,3])\n",
        "\t\tpool3 = conv_3d_pool(conv3,\"pool3\",b*128,[3,3,3],[2,2,2])\n",
        "\n",
        "\t\tconv4 = residual_block_3(pool3,\"conv4_1\",[3,3,3])\n",
        "\n",
        "\t\tup5 = deconv_3d(conv4,\"deconv5\",b*64,(2,2,2),(2,2,2))\n",
        "\t\tconv5 = up_residual_block_3(up5,conv3,\"conv5_1\",[3,3,3])\n",
        "\n",
        "\t\tup6 = deconv_3d(conv5,\"deconv6\",b*32,(2,2,2),(2,2,2))\n",
        "\t\tconv6 = up_residual_block(up6,conv2,\"conv6_1\",[3,3,3])\n",
        "\n",
        "\t\tup7 = deconv_3d(conv6,\"deconv7\",b*16,(2,2,2),(2,2,2))\n",
        "\t\tconv7 = up_residual_block(up7,conv1,\"conv7_1\",[3,3,3])\n",
        "\n",
        "\t\t#conv8 = conv_3d_linear(conv7,\"conv8\",2,[1,1,1])\n",
        "\t\tconv8 = conv_3d_sigmoid(conv7,\"conv8\",1,[1,1,1])\n",
        "\t\treturn conv8\n",
        "\n",
        "'''def dice_loss(conv_out,y,name=\"dice_loss\"):\n",
        "\twith tf.variable_scope(name):\n",
        "\t\ty_true = tf.contrib.layers.flatten(tf.cast(y, tf.float32))\n",
        "\t\ty_pred = tf.contrib.layers.flatten(conv_out)\n",
        "\t\tintersection = tf.reduce_sum(y_true * y_pred,1)\n",
        "\t\t#dc = (2. * intersection + 0.01) / (tf.reduce_sum(y_true,1) + tf.reduce_sum(y_pred,1) + 0.01)\n",
        "\t\tdc = (2. * intersection + 0.01) / (tf.reduce_sum(y_true*y_true,1) + tf.reduce_sum(y_pred*y_pred,1) + 0.01)\n",
        "\t\tdc_mean = tf.reduce_mean(dc)\n",
        "\t\tdc_loss = -dc_mean\n",
        "\t\treturn dc_loss'''\n",
        "def dice_loss(y1,y2):\n",
        "\ty_true = tf.contrib.layers.flatten(y2)\n",
        "\ty_pred = tf.contrib.layers.flatten(y1)\n",
        "\tintersection = tf.reduce_sum(y_true * y_pred,1)\n",
        "\t#dc = (2. * intersection + 0.01) / (tf.reduce_sum(y_true*y_true,1) + tf.reduce_sum(y_pred*y_pred,1) + 0.01)\n",
        "\tdc = (2. * intersection + 0.01) / (tf.reduce_sum(y_true,1) + tf.reduce_sum(y_pred,1) + 0.01)\n",
        "\tdc_loss = - tf.reduce_mean(dc)\n",
        "\t#dc_loss = tf.exp(dc_loss)\n",
        "\treturn dc_loss\n",
        "\n",
        "def dice(y1,y2):\n",
        "\ty_true = tf.contrib.layers.flatten(y2)\n",
        "\ty_pred = (tf.sign(tf.contrib.layers.flatten(y1) - 0.5) + 1)/2.0\n",
        "\tintersection = tf.reduce_sum(y_true * y_pred,1)\n",
        "\tdc = (2. * intersection + 0.01) / (tf.reduce_sum(y_true,1) + tf.reduce_sum(y_pred,1) + 0.01)\n",
        "\tdc_coef = tf.reduce_mean(dc)\n",
        "\treturn dc_coef\n",
        "\n",
        "def get_train_op(loss,lr=0.0001):\n",
        "\toptimizer =  tf.train.AdamOptimizer(lr)\n",
        "\ttrain_op = optimizer.minimize(loss)\n",
        "\treturn train_op\n",
        "\n",
        "'''\n",
        "TODO:\n",
        "Weighted cross entropy loss\n",
        "Learning rate decay\n",
        "'''\n",
        "\n",
        "def weighted_softmax_loss(y_true, y_pred_linear, pos_weight):\n",
        "\ty_true_one_hot = tf.one_hot(y_true, depth=2)\n",
        "\tflat_y_true = tf.reshape(y_true_one_hot, [-1, 2])\n",
        "\tflat_y_pred = tf.reshape(y_pred_linear, [-1, 2])\n",
        "\tweights = tf.constant(np.array([1.0, pos_weight], dtype=np.float32))\n",
        "\tcase_weights = tf.reduce_sum(tf.multiply(flat_y_true, weights),axis=1)\n",
        "\tloss = tf.nn.softmax_cross_entropy_with_logits(labels=flat_y_true,logits=flat_y_pred)\n",
        "\tave_loss = tf.reduce_mean(tf.multiply(loss, case_weights))\n",
        "\treturn ave_loss\n",
        "\n",
        "def pred_prob(y_pred_linear):\n",
        "\treturn (tf.nn.softmax(y_pred_linear))[:,:,:,:,1]\n"
      ],
      "execution_count": null,
      "outputs": []
    },
    {
      "cell_type": "markdown",
      "metadata": {
        "id": "JGsWz-QrYOCQ"
      },
      "source": [
        "# Train network"
      ]
    },
    {
      "cell_type": "code",
      "metadata": {
        "id": "cVq5SHl-UF-D",
        "colab": {
          "base_uri": "https://localhost:8080/"
        },
        "outputId": "785c4d34-0b71-4c8b-877b-70c6056cdb5f"
      },
      "source": [
        "#temporary use\n"
      ],
      "execution_count": null,
      "outputs": [
        {
          "output_type": "stream",
          "text": [
            "Interactive namespace is empty.\n"
          ],
          "name": "stdout"
        }
      ]
    },
    {
      "cell_type": "code",
      "metadata": {
        "id": "KZLogI8kYUUh"
      },
      "source": [
        "from __future__ import print_function\n",
        "import os\n",
        "#os.environ[\"CUDA_VISIBLE_DEVICES\"]=\"0\"\n",
        "import numpy as np\n",
        "#from scipy.ndimage import rotate\n",
        "#import scipy.ndimage\n",
        "#from scipy import ndimage\n",
        "#from random import randint\n",
        "import os\n",
        "#import SimpleITK as sitk\n",
        "#from V_net_utils import get_v_net, dice_loss, dice\n",
        "\n",
        "# import tensorflow.compat.v1 as tf\n",
        "# tf.disable_v2_behavior() #for use placeholder\n",
        "\n",
        "import tensorflow as tf\n",
        "tf.compat.v1.disable_eager_execution()\n",
        "\n",
        "def check_make_file(file):\n",
        "\tif not os.path.exists(file):\n",
        "\t\tos.makedirs(file)\n",
        "\n",
        "print(\"Build network\")\n",
        "#np.zeros((5,256,512,512))\n",
        "img_x = 256\n",
        "img_y = 256\n",
        "img_z = 16\n",
        "bs = 5\n",
        "\n",
        "tf.compat.v1.reset_default_graph()\n",
        "x = tf.compat.v1.placeholder(tf.float32,[bs,img_z,img_x,img_y,1])\n",
        "y = tf.compat.v1.placeholder(tf.float32,[bs,img_z,img_x,img_y,1])\n",
        "y_pred = get_v_net(x)\n",
        "loss = dice_loss(y_pred,y)\n",
        "dc_mean = dice(y_pred,y)\n",
        "optimizer = tf.train.AdamOptimizer(0.0002)\n",
        "train_op = optimizer.minimize(loss)\n",
        "init = tf.global_variables_initializer()\n",
        "\n",
        "training_img = np.load('/content/drive/MyDrive/ThesisProject/dataset/leg_nii/train_set/npz/crop_test_equal_halfmirror_test_uint020.npz')['img_crop']\n",
        "training_seg = np.load('/content/drive/MyDrive/ThesisProject/dataset/leg_nii/train_set/npz/crop_test_equal_halfmirror_test_uint020.npz')['seg_crop']\n",
        "\n",
        "training_img = np.multiply(training_img, 1.0/255.0)\n",
        "\n",
        "\n",
        "#test_images = np.multiply(test_images, 1.0 / 255.0)\n",
        "\n",
        "training_img = training_img[:,:,:,:,np.newaxis]\n",
        "training_seg = training_seg[:,:,:,:,np.newaxis]#22 16 256 256 1\n",
        "\n",
        "sess = tf.Session()\n",
        "sess.run(init)\n",
        "step = 0\n",
        "echo = 43\n",
        "print (\"begin to train\")\n",
        "saver = tf.train.Saver(max_to_keep=500)\n",
        "\n",
        "while step <= echo:\n",
        "\tfor kk in range(training_img.shape[0]//bs):\n",
        "\t\ta,b = sess.run([loss,train_op], feed_dict={x: training_img[kk*bs:bs*(kk+1),:,:,:,:],\n",
        "\t\t\t\t\t\ty: training_seg[kk*bs:bs*(kk+1),:,:,:,:]})\n",
        "    #saver.save\n",
        "\t\tprint('step {} loss {}'.format(step,a))\n",
        "\tstep = step+1\n",
        "saver = tf.train.Saver()\n",
        "model_path = \"/content/drive/MyDrive/ThesisProject/\"\n",
        "save_path = saver.save(sess, model_path)\n",
        "\n"
      ],
      "execution_count": null,
      "outputs": []
    },
    {
      "cell_type": "markdown",
      "metadata": {
        "id": "Tse6D2EjMjMy"
      },
      "source": [
        "# img part data preprocessing"
      ]
    },
    {
      "cell_type": "code",
      "metadata": {
        "id": "jWLb2-wQMogt"
      },
      "source": [
        "#dicom to nii\n",
        "for i in range(10,21):\n",
        "  original_dicom_directory = '/content/drive/MyDrive/ThesisProject/dataset/fibuladata01/test 0'+str(i)\n",
        "  #named train0i\n",
        "  output_file = '/content/drive/MyDrive/ThesisProject/dataset/leg_nii/train_set/train0'+str(i)\n",
        "  dicom2nifti.dicom_series_to_nifti(original_dicom_directory, output_file, reorient_nifti=True)\n",
        "#finished"
      ],
      "execution_count": null,
      "outputs": []
    },
    {
      "cell_type": "code",
      "metadata": {
        "id": "7BJ48g2hNZFW"
      },
      "source": [
        "#nii to npy\n",
        "import os\n",
        "\n",
        "img_path = '/content/drive/MyDrive/ThesisProject/dataset/leg_nii/train_set/nii/'\n",
        "\n",
        "saveimg_path = '/content/drive/MyDrive/ThesisProject/dataset/leg_nii/train_set/img_npy/'\n",
        "\n",
        "img_names = os.listdir(img_path)\n",
        " \n",
        "for img_name in img_names:\n",
        "    print(img_name)\n",
        "    img = nib.load(img_path + img_name).get_data() \n",
        "    img = np.array(img)\n",
        "    np.save(saveimg_path + str(img_name).split('.')[0] + '.npy', img) \n",
        "#finished"
      ],
      "execution_count": null,
      "outputs": []
    },
    {
      "cell_type": "code",
      "metadata": {
        "id": "CraZeDwLNmR0"
      },
      "source": [
        "#4095 to 255 to uint\n"
      ],
      "execution_count": null,
      "outputs": []
    },
    {
      "cell_type": "code",
      "metadata": {
        "id": "2B3w3OOnNxSJ"
      },
      "source": [
        "#xyz to zxy"
      ],
      "execution_count": null,
      "outputs": []
    },
    {
      "cell_type": "markdown",
      "metadata": {
        "id": "07fwlXf2MryU"
      },
      "source": [
        "# seg part data preprocessing"
      ]
    },
    {
      "cell_type": "code",
      "metadata": {
        "id": "jUmR--7FMwMu"
      },
      "source": [
        ""
      ],
      "execution_count": null,
      "outputs": []
    },
    {
      "cell_type": "code",
      "metadata": {
        "colab": {
          "base_uri": "https://localhost:8080/"
        },
        "id": "YvPGL-oIs81D",
        "outputId": "6e5a2e53-1a4e-4482-d575-64b72c1552cf"
      },
      "source": [
        "min = np.max(training_seg)\n",
        "min"
      ],
      "execution_count": null,
      "outputs": [
        {
          "output_type": "execute_result",
          "data": {
            "text/plain": [
              "255"
            ]
          },
          "metadata": {
            "tags": []
          },
          "execution_count": 19
        }
      ]
    },
    {
      "cell_type": "markdown",
      "metadata": {
        "id": "4m1ktJXzZLd3"
      },
      "source": [
        "# V net evaluate"
      ]
    },
    {
      "cell_type": "code",
      "metadata": {
        "id": "ipgA_P6JpLuW"
      },
      "source": [
        "import os\n",
        "import numpy as np\n",
        "img_path = '/content/drive/MyDrive/ThesisProject/dataset/leg_nii/train_set/img_npy/'\n",
        "seg_path = '/content/drive/MyDrive/ThesisProject/dataset/leg_nii/train_set/seg_npy/'\n",
        "\n",
        "\n",
        "# This part is used to cut from the middle for z,x,y\n",
        "# def crop_img_center(img,cropx,cropy,cropz):#img is z*x*y\n",
        "#     z,x,y = img.shape\n",
        "#     startx = x//2-(cropx//2)\n",
        "#     starty = y//2-(cropy//2)\n",
        "#     startz = z//2-(cropz//2)\n",
        "\n",
        "#     return img[startz:startz+cropz,starty:starty+cropy,startx:startx+cropx]\n",
        "\n",
        "# def crop_seg_center(seg,cropx,cropy,cropz):#seg is z*x*y\n",
        "#     z,x,y = seg.shape\n",
        "#     startx = x//2-(cropx//2)# // means devide round down\n",
        "#     starty = y//2-(cropy//2)#350 for small one \n",
        "#     startz = z//2-(cropz//2)\n",
        "\n",
        "#     return seg[startz:startz+cropz,starty:starty+cropy,startx:startx+cropx]#700*256*500\n",
        "\n",
        "\n",
        "# This part is used to cut from the middle for z,y\n",
        "# x is cut from end\n",
        "def crop_img_center(img,cropx,cropy,cropz):#img is z*x*y\n",
        "    z,x,y = img.shape\n",
        "    startx = x//2\n",
        "    starty = y//2-(cropy//2)\n",
        "    startz = z//2-(cropz//2)\n",
        "\n",
        "    return img[startz:startz+cropz,starty:starty+cropy,startx:startx+cropx]\n",
        "\n",
        "def crop_seg_center(seg,cropx,cropy,cropz):#seg is z*x*y\n",
        "    z,x,y = seg.shape\n",
        "    startx = x//2\n",
        "    starty = y//2-(cropy//2)#350 for small one \n",
        "    startz = z//2-(cropz//2)\n",
        "\n",
        "    return seg[startz:startz+cropz,starty:starty+cropy,startx:startx+cropx]#512*256*512\n",
        "\n",
        "# usual 5,512,256,512\n",
        "# we use 5*512*256*16\n",
        "img_crop_arr = np.zeros((5,16,512,256))\n",
        "seg_crop_arr = np.zeros((5,16,512,256))\n",
        "\n",
        "n = 0\n",
        " \n",
        "for i in [x for x in range(1,7) if x != 2]:\n",
        "\n",
        "    img = np.load(img_path+'img_zxy_uint0'+str(i)+'.npy')\n",
        "    seg = np.load(seg_path+'seg0'+str(i)+'.npy')\n",
        "    img_crop = crop_img_center(img,256,512,16)\n",
        "    seg_crop = crop_seg_center(seg,256,512,16)\n",
        "    img_crop_arr[n] = img_crop\n",
        "    seg_crop_arr[n] = seg_crop\n",
        "    n+=1\n",
        "training_img_int = img_crop_arr.astype(np.uint8)\n",
        "training_seg_int = seg_crop_arr.astype(np.uint8)\n",
        "np.savez('/content/drive/MyDrive/ThesisProject/dataset/leg_nii/evaluate_set/npz/crop_test_equal_half_test_uint.npz', img_crop = training_img_int, seg_crop = training_seg_int)    \n",
        "\n",
        "\n",
        "#transfer to int for saving RAM"
      ],
      "execution_count": null,
      "outputs": []
    },
    {
      "cell_type": "code",
      "metadata": {
        "colab": {
          "base_uri": "https://localhost:8080/"
        },
        "id": "my7Kf9e19Zev",
        "outputId": "3a93ad39-4ca2-4148-c47d-28b26e163b66"
      },
      "source": [
        "ls {checkpoint_dir}"
      ],
      "execution_count": null,
      "outputs": [
        {
          "output_type": "stream",
          "text": [
            "ls: cannot access '{checkpoint_dir}': No such file or directory\n"
          ],
          "name": "stdout"
        }
      ]
    },
    {
      "cell_type": "code",
      "metadata": {
        "id": "u0blyWkyvETM"
      },
      "source": [
        ""
      ],
      "execution_count": null,
      "outputs": []
    },
    {
      "cell_type": "code",
      "metadata": {
        "id": "1xxKRRG9ZWwh"
      },
      "source": [
        "from __future__ import print_function\n",
        "import os\n",
        "#os.environ[\"CUDA_VISIBLE_DEVICES\"]=\"0\"\n",
        "import numpy as np\n",
        "#from scipy.ndimage import rotate\n",
        "#import scipy.ndimage\n",
        "#from scipy import ndimage\n",
        "#from random import randint\n",
        "#import os\n",
        "#import SimpleITK as sitk\n",
        "import tensorflow as tf\n",
        "\n",
        "img_x = 256\n",
        "img_y = 256\n",
        "img_z = 16\n",
        "bs = 5\n",
        "tf.compat.v1.reset_default_graph()\n",
        "x = tf.placeholder(tf.float32,[bs,img_z,img_x,img_y,1])\n",
        "y = tf.placeholder(tf.float32,[bs,img_z,img_x,img_y,1])\n",
        "y_pred = get_v_net(x)\n",
        "\n",
        "# for train\n",
        "# training_img = np.load('/content/drive/MyDrive/ThesisProject/dataset/leg_nii/train_set/npz/crop_test_equal_half_test_uint.npz')['img_crop']\n",
        "# training_seg = np.load('/content/drive/MyDrive/ThesisProject/dataset/leg_nii/train_set/npz/crop_test_equal_half_test_uint.npz')['seg_crop']\n",
        "testing_img = np.load('/content/drive/MyDrive/ThesisProject/dataset/leg_nii/train_set/npz/crop_test_equal_half_test_uint.npz')['img_crop']\n",
        "testing_seg = np.load('/content/drive/MyDrive/ThesisProject/dataset/leg_nii/train_set/npz/crop_test_equal_half_test_uint020.npz')['seg_crop']\n",
        "training_img = np.multiply(training_img, 1.0/255.0)\n",
        "testing_img = testing_img[:,:,:,:,np.newaxis]\n",
        "testing_seg = testing_seg[:,:,:,:,np.newaxis]\n",
        "init = tf.global_variables_initializer()\n",
        "\n",
        "sess = tf.Session()\n",
        "sess.run(init)\n",
        "saver_vnet = tf.train.Saver(max_to_keep=500)\n",
        "#saver_vnet.restore(sess,'/content/drive/MyDrive/ThesisProject/dataset/leg_nii/model/leg_model-100')\n",
        "seg_result = np.zeros((10,16,512,256,1))\n",
        "for kk in range(testing_img.shape[0]//bs):\n",
        "\tseg_result[kk] = sess.run(y_pred,feed_dict={x: testing_img[kk*bs:bs*(kk+1),:,:,:,:],\n",
        "\t\t\t\t\t\t\t  y: testing_seg[kk*bs:bs*(kk+1),:,:,:,:]})\n",
        "np.save('/content/drive/MyDrive/ThesisProject/dataset/leg_nii/model/V_net_evaluate.npy', seg_result)\n"
      ],
      "execution_count": null,
      "outputs": []
    },
    {
      "cell_type": "code",
      "metadata": {
        "colab": {
          "base_uri": "https://localhost:8080/",
          "height": 236
        },
        "id": "eirRPtZi96hW",
        "outputId": "3e313146-8f72-4c3c-ffff-f2e5b6a8510f"
      },
      "source": [
        "#try to predict\n",
        "\n",
        "img_x = 256\n",
        "img_y = 256\n",
        "img_z = 16\n",
        "bs = 5\n",
        "tf.compat.v1.reset_default_graph()\n",
        "x = tf.placeholder(tf.float32,[bs,img_z,img_x,img_y,1])\n",
        "y = tf.placeholder(tf.float32,[bs,img_z,img_x,img_y,1])\n",
        "y_pred = get_v_net(x)\n",
        "testing_img = np.load('/content/drive/MyDrive/ThesisProject/dataset/leg_nii/train_set/npz/crop_test_equal_halfmirror_test_uint.npz')['img_crop']\n",
        "testing_seg = np.load('/content/drive/MyDrive/ThesisProject/dataset/leg_nii/train_set/npz/crop_test_equal_halfmirror_test_uint.npz')['seg_crop']\n",
        "testing_img = testing_img[:,:,:,:,np.newaxis]\n",
        "testing_seg = testing_seg[:,:,:,:,np.newaxis]\n",
        "checkpoint_dir = '/content/'\n",
        "ckpt = tf.train.get_checkpoint_state(checkpoint_dir)\n",
        "init = tf.global_variables_initializer()\n",
        "sess = tf.Session()\n",
        "sess.run(init)\n",
        "saver = tf.train.Saver()\n",
        "#saver.restore(sess,ckpt.model_checkpoint_path)\n",
        "seg_result = np.zeros((10,16,256,256,1))\n",
        "for kk in range(testing_img.shape[0]//bs):  \n",
        "  seg_result[kk] = sess.run(y_pred, feed_dict={x: testing_img[kk*bs:bs*(kk+1),:,:,:,:]})\n",
        "np.save('/content/drive/MyDrive/ThesisProject/dataset/leg_nii/model/V_net_evaluate020.npy', seg_result)"
      ],
      "execution_count": null,
      "outputs": [
        {
          "output_type": "error",
          "ename": "ValueError",
          "evalue": "ignored",
          "traceback": [
            "\u001b[0;31m---------------------------------------------------------------------------\u001b[0m",
            "\u001b[0;31mValueError\u001b[0m                                Traceback (most recent call last)",
            "\u001b[0;32m<ipython-input-45-9fc2e191d33c>\u001b[0m in \u001b[0;36m<module>\u001b[0;34m()\u001b[0m\n\u001b[1;32m     22\u001b[0m \u001b[0mseg_result\u001b[0m \u001b[0;34m=\u001b[0m \u001b[0mnp\u001b[0m\u001b[0;34m.\u001b[0m\u001b[0mzeros\u001b[0m\u001b[0;34m(\u001b[0m\u001b[0;34m(\u001b[0m\u001b[0;36m10\u001b[0m\u001b[0;34m,\u001b[0m\u001b[0;36m16\u001b[0m\u001b[0;34m,\u001b[0m\u001b[0;36m256\u001b[0m\u001b[0;34m,\u001b[0m\u001b[0;36m256\u001b[0m\u001b[0;34m,\u001b[0m\u001b[0;36m1\u001b[0m\u001b[0;34m)\u001b[0m\u001b[0;34m)\u001b[0m\u001b[0;34m\u001b[0m\u001b[0;34m\u001b[0m\u001b[0m\n\u001b[1;32m     23\u001b[0m \u001b[0;32mfor\u001b[0m \u001b[0mkk\u001b[0m \u001b[0;32min\u001b[0m \u001b[0mrange\u001b[0m\u001b[0;34m(\u001b[0m\u001b[0mtesting_img\u001b[0m\u001b[0;34m.\u001b[0m\u001b[0mshape\u001b[0m\u001b[0;34m[\u001b[0m\u001b[0;36m0\u001b[0m\u001b[0;34m]\u001b[0m\u001b[0;34m//\u001b[0m\u001b[0mbs\u001b[0m\u001b[0;34m)\u001b[0m\u001b[0;34m:\u001b[0m\u001b[0;34m\u001b[0m\u001b[0;34m\u001b[0m\u001b[0m\n\u001b[0;32m---> 24\u001b[0;31m   \u001b[0mseg_result\u001b[0m\u001b[0;34m[\u001b[0m\u001b[0mkk\u001b[0m\u001b[0;34m]\u001b[0m \u001b[0;34m=\u001b[0m \u001b[0msess\u001b[0m\u001b[0;34m.\u001b[0m\u001b[0mrun\u001b[0m\u001b[0;34m(\u001b[0m\u001b[0my_pred\u001b[0m\u001b[0;34m,\u001b[0m \u001b[0mfeed_dict\u001b[0m\u001b[0;34m=\u001b[0m\u001b[0;34m{\u001b[0m\u001b[0mx\u001b[0m\u001b[0;34m:\u001b[0m \u001b[0mtesting_img\u001b[0m\u001b[0;34m[\u001b[0m\u001b[0mkk\u001b[0m\u001b[0;34m*\u001b[0m\u001b[0mbs\u001b[0m\u001b[0;34m:\u001b[0m\u001b[0mbs\u001b[0m\u001b[0;34m*\u001b[0m\u001b[0;34m(\u001b[0m\u001b[0mkk\u001b[0m\u001b[0;34m+\u001b[0m\u001b[0;36m1\u001b[0m\u001b[0;34m)\u001b[0m\u001b[0;34m,\u001b[0m\u001b[0;34m:\u001b[0m\u001b[0;34m,\u001b[0m\u001b[0;34m:\u001b[0m\u001b[0;34m,\u001b[0m\u001b[0;34m:\u001b[0m\u001b[0;34m,\u001b[0m\u001b[0;34m:\u001b[0m\u001b[0;34m]\u001b[0m\u001b[0;34m}\u001b[0m\u001b[0;34m)\u001b[0m\u001b[0;34m\u001b[0m\u001b[0;34m\u001b[0m\u001b[0m\n\u001b[0m\u001b[1;32m     25\u001b[0m \u001b[0mnp\u001b[0m\u001b[0;34m.\u001b[0m\u001b[0msave\u001b[0m\u001b[0;34m(\u001b[0m\u001b[0;34m'/content/drive/MyDrive/ThesisProject/dataset/leg_nii/model/V_net_evaluate020.npy'\u001b[0m\u001b[0;34m,\u001b[0m \u001b[0mseg_result\u001b[0m\u001b[0;34m)\u001b[0m\u001b[0;34m\u001b[0m\u001b[0;34m\u001b[0m\u001b[0m\n",
            "\u001b[0;31mValueError\u001b[0m: could not broadcast input array from shape (5,16,256,256,1) into shape (16,256,256,1)"
          ]
        }
      ]
    },
    {
      "cell_type": "code",
      "metadata": {
        "id": "Js0F2byW-I4x"
      },
      "source": [
        "from __future__ import print_function\n",
        "import os\n",
        "#os.environ[\"CUDA_VISIBLE_DEVICES\"]=\"0\"\n",
        "import numpy as np\n",
        "#from scipy.ndimage import rotate\n",
        "#import scipy.ndimage\n",
        "#from scipy import ndimage\n",
        "#from random import randint\n",
        "#import os\n",
        "#import SimpleITK as sitk\n",
        "import tensorflow as tf\n",
        "\n",
        "img_x = 256\n",
        "img_y = 256\n",
        "img_z = 16\n",
        "bs = 1\n",
        "tf.compat.v1.reset_default_graph()\n",
        "x = tf.placeholder(tf.float32,[bs,img_z,img_x,img_y,1])\n",
        "y = tf.placeholder(tf.float32,[bs,img_z,img_x,img_y,1])\n",
        "y_pred = get_v_net(x)\n",
        "\n",
        "# for train\n",
        "# training_img = np.load('/content/drive/MyDrive/ThesisProject/dataset/leg_nii/train_set/npz/crop_test_equal_half_test_uint.npz')['img_crop']\n",
        "# training_seg = np.load('/content/drive/MyDrive/ThesisProject/dataset/leg_nii/train_set/npz/crop_test_equal_half_test_uint.npz')['seg_crop']\n",
        "testing_img = np.load('/content/drive/MyDrive/ThesisProject/dataset/leg_nii/train_set/npz/crop_test_equal_halfmirror_test_uint.npz')['img_crop']\n",
        "testing_seg = np.load('/content/drive/MyDrive/ThesisProject/dataset/leg_nii/train_set/npz/crop_test_equal_halfmirror_test_uint.npz')['seg_crop']\n",
        "testing_img = testing_img[:,:,:,:,np.newaxis]\n",
        "testing_seg = testing_seg[:,:,:,:,np.newaxis]\n",
        "init = tf.global_variables_initializer()\n",
        "\n",
        "sess = tf.Session()\n",
        "sess.run(init)\n",
        "saver_vnet = tf.train.Saver(max_to_keep=500)\n",
        "#saver_vnet.restore(sess,'/content/drive/MyDrive/ThesisProject/.meta')\n",
        "seg_result = np.zeros((10,16,256,256,1))\n",
        "for kk in range(testing_img.shape[0]//bs):\n",
        "\tseg_result[kk] = sess.run(y_pred,feed_dict={x: testing_img[kk*bs:bs*(kk+1),:,:,:,:]})\n",
        "np.save('/content/drive/MyDrive/ThesisProject/dataset/leg_nii/model/V_net_evaluate.npy', seg_result)"
      ],
      "execution_count": null,
      "outputs": []
    },
    {
      "cell_type": "markdown",
      "metadata": {
        "id": "KfJCVRJgEEOs"
      },
      "source": [
        "# extract"
      ]
    },
    {
      "cell_type": "code",
      "metadata": {
        "id": "kKC33WuG0Y3u"
      },
      "source": [
        "seg_result = np.load('/content/drive/MyDrive/ThesisProject/dataset/leg_nii/model/V_net_evaluate.npy')\n",
        "seg_result3D = np.zeros((10,16,256,256))\n",
        "for i in range(10):\n",
        "  seg_result3D[i] = seg_result[i][:,:,:,0]\n",
        "\n",
        "  "
      ],
      "execution_count": null,
      "outputs": []
    },
    {
      "cell_type": "code",
      "metadata": {
        "id": "WReeN46DbDOL"
      },
      "source": [
        "%whos"
      ],
      "execution_count": null,
      "outputs": []
    },
    {
      "cell_type": "code",
      "metadata": {
        "colab": {
          "base_uri": "https://localhost:8080/"
        },
        "id": "P6PLDgkH02WB",
        "outputId": "8e0d0b09-52c0-4f70-c876-8587c12efca0"
      },
      "source": [
        "seg_result_final = np.zeros((10,16,256,256))\n",
        "shape1 = np.shape(seg_result3D)\n",
        "shape1"
      ],
      "execution_count": null,
      "outputs": [
        {
          "output_type": "execute_result",
          "data": {
            "text/plain": [
              "(10, 16, 256, 256)"
            ]
          },
          "metadata": {
            "tags": []
          },
          "execution_count": 68
        }
      ]
    },
    {
      "cell_type": "code",
      "metadata": {
        "id": "zpUgMo3KLE7t"
      },
      "source": [
        "\n",
        "# for a in range(5):\n",
        "#   for i in range(16):\n",
        "#     for j in range(512):\n",
        "#       for z in range(256):\n",
        "#         if seg_result3D[a][i][j][z]>0.5:\n",
        "#           seg_result_final[a][i][j][z] = 1\n",
        "\n",
        "seg_result3D[seg_result3D>=0.50] = 1\n",
        "seg_result3D[seg_result3D<0.50] = 0"
      ],
      "execution_count": null,
      "outputs": []
    },
    {
      "cell_type": "code",
      "metadata": {
        "colab": {
          "base_uri": "https://localhost:8080/"
        },
        "id": "ac0aKh6PLVqO",
        "outputId": "75509fa1-12ea-4346-c62a-f865fecd2d72"
      },
      "source": [
        "pos = np.unravel_index(np.argmax(seg_result3D[3]),seg_result3D[3].shape)\n",
        "pos"
      ],
      "execution_count": null,
      "outputs": [
        {
          "output_type": "execute_result",
          "data": {
            "text/plain": [
              "(0, 0, 35)"
            ]
          },
          "metadata": {
            "tags": []
          },
          "execution_count": 61
        }
      ]
    },
    {
      "cell_type": "code",
      "metadata": {
        "colab": {
          "base_uri": "https://localhost:8080/"
        },
        "id": "y_xrUMaq2Rks",
        "outputId": "189d966b-95fd-4a71-e983-3722196893f6"
      },
      "source": [
        "max111 = np.max(seg_result3D[5])\n",
        "max111"
      ],
      "execution_count": null,
      "outputs": [
        {
          "output_type": "execute_result",
          "data": {
            "text/plain": [
              "1.0"
            ]
          },
          "metadata": {
            "tags": []
          },
          "execution_count": 108
        }
      ]
    },
    {
      "cell_type": "code",
      "metadata": {
        "colab": {
          "base_uri": "https://localhost:8080/",
          "height": 179
        },
        "id": "LKV4L1pFurAp",
        "outputId": "d750e220-ff26-4ea3-d8fc-21827c24e18a"
      },
      "source": [
        "seg_result3D[3][1][300][120]"
      ],
      "execution_count": null,
      "outputs": [
        {
          "output_type": "error",
          "ename": "IndexError",
          "evalue": "ignored",
          "traceback": [
            "\u001b[0;31m---------------------------------------------------------------------------\u001b[0m",
            "\u001b[0;31mIndexError\u001b[0m                                Traceback (most recent call last)",
            "\u001b[0;32m<ipython-input-70-9a079f7cc4ce>\u001b[0m in \u001b[0;36m<module>\u001b[0;34m()\u001b[0m\n\u001b[0;32m----> 1\u001b[0;31m \u001b[0mseg_result3D\u001b[0m\u001b[0;34m[\u001b[0m\u001b[0;36m3\u001b[0m\u001b[0;34m]\u001b[0m\u001b[0;34m[\u001b[0m\u001b[0;36m1\u001b[0m\u001b[0;34m]\u001b[0m\u001b[0;34m[\u001b[0m\u001b[0;36m300\u001b[0m\u001b[0;34m]\u001b[0m\u001b[0;34m[\u001b[0m\u001b[0;36m120\u001b[0m\u001b[0;34m]\u001b[0m\u001b[0;34m\u001b[0m\u001b[0;34m\u001b[0m\u001b[0m\n\u001b[0m",
            "\u001b[0;31mIndexError\u001b[0m: index 300 is out of bounds for axis 0 with size 256"
          ]
        }
      ]
    },
    {
      "cell_type": "code",
      "metadata": {
        "colab": {
          "base_uri": "https://localhost:8080/",
          "height": 269
        },
        "id": "hxqi0qtWy5jV",
        "outputId": "f580291d-910b-46dc-c001-641b31b39fde"
      },
      "source": [
        "plt.imshow(seg_result3D[8][1])\n",
        "plt.show()"
      ],
      "execution_count": null,
      "outputs": [
        {
          "output_type": "display_data",
          "data": {
            "image/png": "[encoded data removed]",
            "text/plain": [
              "<Figure size 432x288 with 1 Axes>"
            ]
          },
          "metadata": {
            "tags": [],
            "needs_background": "light"
          }
        }
      ]
    },
    {
      "cell_type": "code",
      "metadata": {
        "id": "0M9bsEI_EJca"
      },
      "source": [
        "import SimpleITK as sitk\n",
        "import numpy as np\n",
        "def nii_save(img,path):\n",
        "\tsitk_img = sitk.GetImageFromArray(np.transpose(img[:,:,:,np.newaxis],(0,1,2,3)), isVector=True)\n",
        "\tsitk.WriteImage(sitk_img,path)\n",
        "\n",
        "# for i in range(kk.shape[0]):\n",
        "#     nii_save(kk[i],'/content/drive/MyDrive/ThesisProject/dataset/leg_nii/model/result/case'+str(i)+'img.nii')\n",
        "#     nii_save(gg[i,:,:,:,0],'/content/drive/MyDrive/ThesisProject/dataset/leg_nii/model/result/case'+str(i)+'mask.nii')\n",
        "#     nii_save(jj[i,:,:,:],'/content/drive/MyDrive/ThesisProject/dataset/leg_nii/model/result/case'+str(i)+'truth.nii')"
      ],
      "execution_count": null,
      "outputs": []
    },
    {
      "cell_type": "code",
      "metadata": {
        "id": "lWiIJpSxBkBT"
      },
      "source": [
        "for i in range(10):\n",
        "  nii_save(seg_result3D[i],'/content/drive/MyDrive/ThesisProject/dataset/leg_nii/model/result/case'+str(i)+'mask.nii')\n"
      ],
      "execution_count": null,
      "outputs": []
    },
    {
      "cell_type": "markdown",
      "metadata": {
        "id": "pz0LJUN6JD_h"
      },
      "source": [
        "# Sub-volume Sampling\n"
      ]
    },
    {
      "cell_type": "code",
      "metadata": {
        "id": "hsFgyp01mjqg"
      },
      "source": [
        "def get_sub_volume(image, label, \n",
        "                   orig_x = 512, orig_y = 512, orig_z = 512, \n",
        "                   output_x = 160, output_y = 160, output_z = 16,\n",
        "                   num_classes = 4, max_tries = 1000, \n",
        "                   background_threshold=0.95):\n",
        "    \"\"\"\n",
        "    Extract random sub-volume from original images.\n",
        "\n",
        "    Args:\n",
        "        image (np.array): original image, \n",
        "            of shape (orig_x, orig_y, orig_z, num_channels)\n",
        "        label (np.array): original label. \n",
        "            labels coded using discrete values rather than\n",
        "            a separate dimension, \n",
        "            so this is of shape (orig_x, orig_y, orig_z)\n",
        "        orig_x (int): x_dim of input image\n",
        "        orig_y (int): y_dim of input image\n",
        "        orig_z (int): z_dim of input image\n",
        "        output_x (int): desired x_dim of output\n",
        "        output_y (int): desired y_dim of output\n",
        "        output_z (int): desired z_dim of output\n",
        "        num_classes (int): number of class labels\n",
        "        max_tries (int): maximum trials to do when sampling\n",
        "        background_threshold (float): limit on the fraction \n",
        "            of the sample which can be the background\n",
        "\n",
        "    returns:\n",
        "        X (np.array): sample of original image of dimension \n",
        "            (num_channels, output_x, output_y, output_z)\n",
        "        y (np.array): labels which correspond to X, of dimension \n",
        "            (num_classes, output_x, output_y, output_z)\n",
        "    \"\"\"\n",
        "    # Initialize features and labels with `None`\n",
        "    X = None\n",
        "    y = None\n",
        "\n",
        "    ### START CODE HERE (REPLACE INSTANCES OF 'None' with your code) ###\n",
        "    \n",
        "    tries = 0\n",
        "    \n",
        "    while tries < max_tries:\n",
        "        # randomly sample sub-volume by sampling the corner voxel\n",
        "        # hint: make sure to leave enough room for the output dimensions!\n",
        "        start_x = np.random.randint(orig_x - output_x + 1 )\n",
        "        start_y = np.random.randint(orig_y - output_y + 1 )\n",
        "        start_z = np.random.randint(orig_z - output_z + 1 )\n",
        "\n",
        "        # extract relevant area of label\n",
        "        y = label[start_x: start_x + output_x,\n",
        "                  start_y: start_y + output_y,\n",
        "                  start_z: start_z + output_z]\n",
        "        \n",
        "        # One-hot encode the categories.\n",
        "        # This adds a 4th dimension, 'num_classes'\n",
        "        # (output_x, output_y, output_z, num_classes)\n",
        "        y = keras.utils.to_categorical(y, num_classes)\n",
        "\n",
        "        # compute the background ratio\n",
        "        bgrd_ratio = y[:,:,:, 0].sum() / (output_x * output_y * output_z)\n",
        "\n",
        "        # increment tries counter\n",
        "        tries += 1\n",
        "\n",
        "        # if background ratio is below the desired threshold,\n",
        "        # use that sub-volume.\n",
        "        # otherwise continue the loop and try another random sub-volume\n",
        "        if bgrd_ratio < background_threshold:\n",
        "\n",
        "            # make copy of the sub-volume\n",
        "            X = np.copy(image[start_x: start_x + output_x,\n",
        "                              start_y: start_y + output_y,\n",
        "                              start_z: start_z + output_z, :])\n",
        "            \n",
        "            # change dimension of X\n",
        "            # from (x_dim, y_dim, z_dim, num_channels)\n",
        "            # to (num_channels, x_dim, y_dim, z_dim)\n",
        "            X = np.moveaxis(X, -1, 0)\n",
        "\n",
        "            # change dimension of y\n",
        "            # from (x_dim, y_dim, z_dim, num_classes)\n",
        "            # to (num_classes, x_dim, y_dim, z_dim)\n",
        "            y = np.moveaxis(y, -1, 0)\n",
        "\n",
        "            ### END CODE HERE ###\n",
        "            \n",
        "            # take a subset of y that excludes the background class\n",
        "            # in the 'num_classes' dimension\n",
        "            y = y[1:, :, :, :]\n",
        "    \n",
        "            return X, y\n",
        "\n",
        "    # if we've tried max_tries number of samples\n",
        "    # Give up in order to avoid looping forever.\n",
        "    print(f\"Tried {tries} times to find a sub-volume. Giving up...\")"
      ],
      "execution_count": null,
      "outputs": []
    },
    {
      "cell_type": "code",
      "metadata": {
        "id": "8RsRMxxEJIQB"
      },
      "source": [
        "def single_class_dice_coefficient(y_true, y_pred, axis=(0, 1, 2), \n",
        "                                  epsilon=0.00001):\n",
        "    \"\"\"\n",
        "    Compute dice coefficient for single class.\n",
        "\n",
        "    Args:\n",
        "        y_true (Tensorflow tensor): tensor of ground truth values for single class.\n",
        "                                    shape: (x_dim, y_dim, z_dim)\n",
        "        y_pred (Tensorflow tensor): tensor of predictions for single class.\n",
        "                                    shape: (x_dim, y_dim, z_dim)\n",
        "        axis (tuple): spatial axes to sum over when computing numerator and\n",
        "                      denominator of dice coefficient.\n",
        "                      Hint: pass this as the 'axis' argument to the K.sum function.\n",
        "        epsilon (float): small constant added to numerator and denominator to\n",
        "                        avoid divide by 0 errors.\n",
        "    Returns:\n",
        "        dice_coefficient (float): computed value of dice coefficient.     \n",
        "    \"\"\"\n",
        "    \n",
        "    dice_numerator = K.sum(2 * y_true * y_pred, axis= axis) + epsilon\n",
        "    dice_denominator = K.sum(y_true,axis= axis) + K.sum(y_pred, axis = axis) + epsilon\n",
        "    dice_coefficient = dice_numerator / dice_denominator \n",
        "\n",
        "    return dice_coefficient"
      ],
      "execution_count": null,
      "outputs": []
    },
    {
      "cell_type": "code",
      "metadata": {
        "id": "_Ct3EmQHijzg"
      },
      "source": [
        "# or use soft dice loss\n",
        "def soft_dice_loss(y_true, y_pred, axis=(1, 2, 3), \n",
        "                   epsilon=0.00001):\n",
        "    \"\"\"\n",
        "    Compute mean soft dice loss over all abnormality classes.\n",
        "\n",
        "    Args:\n",
        "        y_true (Tensorflow tensor): tensor of ground truth values for all classes.\n",
        "                                    shape: (num_classes, x_dim, y_dim, z_dim)\n",
        "        y_pred (Tensorflow tensor): tensor of soft predictions for all classes.\n",
        "                                    shape: (num_classes, x_dim, y_dim, z_dim)\n",
        "        axis (tuple): spatial axes to sum over when computing numerator and\n",
        "                      denominator in formula for dice loss.\n",
        "                      Hint: pass this as the 'axis' argument to the K.sum\n",
        "                            and K.mean functions.\n",
        "        epsilon (float): small constant added to numerator and denominator to\n",
        "                        avoid divide by 0 errors.\n",
        "    Returns:\n",
        "        dice_loss (float): computed value of dice loss.     \n",
        "    \"\"\"\n",
        "    dice_numerator = 2 * K.sum(y_true * y_pred, axis=axis) + epsilon\n",
        "    dice_denominator = K.sum(K.square(y_true), axis = axis) + K.sum(K.square(y_pred), axis = axis) + epsilon\n",
        "    dice_loss = 1 - K.mean(dice_numerator / dice_denominator, axis = 0)\n",
        "\n",
        "    return dice_loss"
      ],
      "execution_count": null,
      "outputs": []
    },
    {
      "cell_type": "code",
      "metadata": {
        "id": "jKH_bxGbi8Zv"
      },
      "source": [
        "def dice_coefficient(y_true, y_pred, axis=(1, 2, 3), \n",
        "                     epsilon=0.00001):\n",
        "    \"\"\"\n",
        "    Compute mean dice coefficient over all abnormality classes.\n",
        "\n",
        "    Args:\n",
        "        y_true (Tensorflow tensor): tensor of ground truth values for all classes.\n",
        "                                    shape: (num_classes, x_dim, y_dim, z_dim)\n",
        "        y_pred (Tensorflow tensor): tensor of predictions for all classes.\n",
        "                                    shape: (num_classes, x_dim, y_dim, z_dim)\n",
        "        axis (tuple): spatial axes to sum over when computing numerator and\n",
        "                      denominator of dice coefficient.\n",
        "                      Hint: pass this as the 'axis' argument to the K.sum\n",
        "                            and K.mean functions.\n",
        "        epsilon (float): small constant add to numerator and denominator to\n",
        "                        avoid divide by 0 errors.\n",
        "    Returns:\n",
        "        dice_coefficient (float): computed value of dice coefficient.     \n",
        "    \"\"\"  \n",
        "    dice_numerator = K.sum(2 * y_true * y_pred, axis= axis) + epsilon\n",
        "    dice_denominator = K.sum(y_true,axis= axis) + K.sum(y_pred, axis = axis) + epsilon\n",
        "    dice_coefficient = K.mean(dice_numerator / dice_denominator,axis = 0)\n",
        "    return dice_coefficient"
      ],
      "execution_count": null,
      "outputs": []
    },
    {
      "cell_type": "markdown",
      "metadata": {
        "id": "QzAPQszp6WfZ"
      },
      "source": [
        "# 3D U Net"
      ]
    },
    {
      "cell_type": "code",
      "metadata": {
        "colab": {
          "base_uri": "https://localhost:8080/"
        },
        "id": "U_aLdf-z6dZa",
        "outputId": "bc907455-7edc-46d8-f1c3-8bc60dc3a287"
      },
      "source": [
        "# Import the elements you'll need to build your U-Net\n",
        "import keras\n",
        "from keras import backend as K\n",
        "from keras.engine import Input, Model\n",
        "from keras.layers import Conv3D, MaxPooling3D, UpSampling3D, Activation, BatchNormalization\n",
        "from keras.optimizers import Adam\n",
        "from keras.layers.merge import concatenate\n",
        "# Set the image shape to have the channels in the first dimension\n",
        "K.set_image_data_format(\"channels_first\")\n",
        "\n",
        "\n",
        "# Define an input layer tensor of the shape you'll use in the assignment\n",
        "input_layer = Input(shape=(4, 160, 160, 16))\n",
        "input_layer\n",
        "\n",
        "#Notice that the tensor shape has a ‘?’ as the very first dimension. This will be the batch size.\n",
        "#So the dimensions of the tensor are: (batch_size, num_channels, height, width, length)\n",
        "\n"
      ],
      "execution_count": null,
      "outputs": [
        {
          "output_type": "execute_result",
          "data": {
            "text/plain": [
              "<KerasTensor: shape=(None, 4, 160, 160, 16) dtype=float32 (created by layer 'input_2')>"
            ]
          },
          "metadata": {
            "tags": []
          },
          "execution_count": 18
        }
      ]
    },
    {
      "cell_type": "code",
      "metadata": {
        "colab": {
          "base_uri": "https://localhost:8080/"
        },
        "id": "h5cL0UXM68nq",
        "outputId": "aef11f13-6835-40c7-a62e-6f3d54234b98"
      },
      "source": [
        "# Contracting (downward) path\n",
        "\n",
        "# Depth 0\n",
        "#  Layer 0\n",
        "# Define a Conv3D tensor with 32 filters\n",
        "down_depth_0_layer_0 = Conv3D(filters=32,\n",
        "kernel_size=(3,3,3),\n",
        "padding='same',\n",
        "strides=(1,1,1)\n",
        ")(input_layer)\n",
        "down_depth_0_layer_0\n"
      ],
      "execution_count": null,
      "outputs": [
        {
          "output_type": "execute_result",
          "data": {
            "text/plain": [
              "<KerasTensor: shape=(None, 32, 160, 160, 16) dtype=float32 (created by layer 'conv3d')>"
            ]
          },
          "metadata": {
            "tags": []
          },
          "execution_count": 2
        }
      ]
    },
    {
      "cell_type": "code",
      "metadata": {
        "colab": {
          "base_uri": "https://localhost:8080/"
        },
        "id": "WGI1fD0lt5EG",
        "outputId": "e0f12e32-54aa-4070-cd64-af3000f18476"
      },
      "source": [
        "# Notice that with 32 filters, the result you get above is a tensor with 32 channels.\n",
        "# Run the next cell to add a relu activation to the first convolutional layer\n",
        "\n",
        "# Add a relu activation to layer 0 of depth 0\n",
        "down_depth_0_layer_0 = Activation('relu')(down_depth_0_layer_0)\n",
        "down_depth_0_layer_0"
      ],
      "execution_count": null,
      "outputs": [
        {
          "output_type": "execute_result",
          "data": {
            "text/plain": [
              "<KerasTensor: shape=(None, 32, 160, 160, 16) dtype=float32 (created by layer 'activation')>"
            ]
          },
          "metadata": {
            "tags": []
          },
          "execution_count": 3
        }
      ]
    },
    {
      "cell_type": "code",
      "metadata": {
        "colab": {
          "base_uri": "https://localhost:8080/"
        },
        "id": "b8PGG0OsuCVz",
        "outputId": "7d4deda4-0c2a-4d85-9290-fdcb21d0d29e"
      },
      "source": [
        "#  Layer 1\n",
        "# Create a Conv3D layer with 64 filters and add relu activation\n",
        "down_depth_0_layer_1 = Conv3D(filters=64,\n",
        "kernel_size=(3,3,3),\n",
        "padding='same',\n",
        "strides=(1,1,1)\n",
        ")(down_depth_0_layer_0)\n",
        "down_depth_0_layer_1 = Activation('relu')(down_depth_0_layer_1)\n",
        "down_depth_0_layer_1"
      ],
      "execution_count": null,
      "outputs": [
        {
          "output_type": "execute_result",
          "data": {
            "text/plain": [
              "<KerasTensor: shape=(None, 64, 160, 160, 16) dtype=float32 (created by layer 'activation_1')>"
            ]
          },
          "metadata": {
            "tags": []
          },
          "execution_count": 4
        }
      ]
    },
    {
      "cell_type": "code",
      "metadata": {
        "colab": {
          "base_uri": "https://localhost:8080/"
        },
        "id": "q8Hwzt5Suh1M",
        "outputId": "13564bfc-f041-49c9-a4c4-02e9a40f5a04"
      },
      "source": [
        "# Define a max pooling layer\n",
        "down_depth_0_layer_pool = MaxPooling3D(pool_size=(2,2,2))(down_depth_0_layer_1)\n",
        "down_depth_0_layer_pool"
      ],
      "execution_count": null,
      "outputs": [
        {
          "output_type": "execute_result",
          "data": {
            "text/plain": [
              "<KerasTensor: shape=(None, 64, 80, 80, 8) dtype=float32 (created by layer 'max_pooling3d')>"
            ]
          },
          "metadata": {
            "tags": []
          },
          "execution_count": 5
        }
      ]
    },
    {
      "cell_type": "code",
      "metadata": {
        "colab": {
          "base_uri": "https://localhost:8080/"
        },
        "id": "a1Nh8_KHv00h",
        "outputId": "5279b10b-34d6-4a42-a380-d898ddc75b46"
      },
      "source": [
        "# Add a Conv3D layer to your network with relu activation\n",
        "down_depth_1_layer_0 = Conv3D(filters=64,\n",
        "kernel_size=(3,3,3),\n",
        "padding='same',\n",
        "strides=(1,1,1)\n",
        ")(down_depth_0_layer_pool)\n",
        "down_depth_1_layer_0 = Activation('relu')(down_depth_1_layer_0)\n",
        "down_depth_1_layer_0"
      ],
      "execution_count": null,
      "outputs": [
        {
          "output_type": "execute_result",
          "data": {
            "text/plain": [
              "<KerasTensor: shape=(None, 64, 80, 80, 8) dtype=float32 (created by layer 'activation_2')>"
            ]
          },
          "metadata": {
            "tags": []
          },
          "execution_count": 6
        }
      ]
    },
    {
      "cell_type": "code",
      "metadata": {
        "colab": {
          "base_uri": "https://localhost:8080/"
        },
        "id": "U8lIgNxuv__4",
        "outputId": "1c59d261-f792-4330-b768-3c3c06ceed32"
      },
      "source": [
        "# Add another Conv3D with 128 filters to your network.\n",
        "down_depth_1_layer_1 = Conv3D(filters=128,\n",
        "kernel_size=(3,3,3),\n",
        "padding='same',\n",
        "strides=(1,1,1)\n",
        ")(down_depth_1_layer_0)\n",
        "down_depth_1_layer_1 = Activation('relu')(down_depth_1_layer_1)\n",
        "down_depth_1_layer_1"
      ],
      "execution_count": null,
      "outputs": [
        {
          "output_type": "execute_result",
          "data": {
            "text/plain": [
              "<KerasTensor: shape=(None, 128, 80, 80, 8) dtype=float32 (created by layer 'activation_3')>"
            ]
          },
          "metadata": {
            "tags": []
          },
          "execution_count": 7
        }
      ]
    },
    {
      "cell_type": "markdown",
      "metadata": {
        "id": "4yRaNrjSweVR"
      },
      "source": [
        "No max pooling at depth 1 (the bottom of the U)"
      ]
    },
    {
      "cell_type": "code",
      "metadata": {
        "colab": {
          "base_uri": "https://localhost:8080/"
        },
        "id": "4oAv7t6vwQGb",
        "outputId": "36098948-a1ab-4377-d7fb-8585ca69c37f"
      },
      "source": [
        "# Expanding (upward) Path\n",
        "# Add an upsampling operation to your network\n",
        "up_depth_0_layer_0 = UpSampling3D(size=(2,2,2))(down_depth_1_layer_1)\n",
        "up_depth_0_layer_0"
      ],
      "execution_count": null,
      "outputs": [
        {
          "output_type": "execute_result",
          "data": {
            "text/plain": [
              "<KerasTensor: shape=(None, 128, 160, 160, 16) dtype=float32 (created by layer 'up_sampling3d')>"
            ]
          },
          "metadata": {
            "tags": []
          },
          "execution_count": 8
        }
      ]
    },
    {
      "cell_type": "code",
      "metadata": {
        "colab": {
          "base_uri": "https://localhost:8080/"
        },
        "id": "n-M8NoSdxu-1",
        "outputId": "d971d221-1042-4dcd-e0a6-161ec438ede7"
      },
      "source": [
        "print(up_depth_0_layer_0)\n",
        "print()\n",
        "print(down_depth_0_layer_1)"
      ],
      "execution_count": null,
      "outputs": [
        {
          "output_type": "stream",
          "text": [
            "KerasTensor(type_spec=TensorSpec(shape=(None, 128, 160, 160, 16), dtype=tf.float32, name=None), name='up_sampling3d/concat_2:0', description=\"created by layer 'up_sampling3d'\")\n",
            "\n",
            "KerasTensor(type_spec=TensorSpec(shape=(None, 64, 160, 160, 16), dtype=tf.float32, name=None), name='activation_1/Relu:0', description=\"created by layer 'activation_1'\")\n"
          ],
          "name": "stdout"
        }
      ]
    },
    {
      "cell_type": "code",
      "metadata": {
        "colab": {
          "base_uri": "https://localhost:8080/"
        },
        "id": "BsqEOUXrx6Xl",
        "outputId": "03b9363d-5085-4c8d-a5d6-6e6a6637a88e"
      },
      "source": [
        "# Add a concatenation along axis 1\n",
        "up_depth_1_concat = concatenate([up_depth_0_layer_0,\n",
        "down_depth_0_layer_1],\n",
        "axis=1)\n",
        "up_depth_1_concat\n",
        "#concatenate((a1, a2, …), axis=0)数组拼接函数 参数:a1,a2……为要拼接的数组\n",
        "#axis为在哪个维度上进行拼接，默认为0\n",
        "#128+64 = 192"
      ],
      "execution_count": null,
      "outputs": [
        {
          "output_type": "execute_result",
          "data": {
            "text/plain": [
              "<KerasTensor: shape=(None, 192, 160, 160, 16) dtype=float32 (created by layer 'concatenate')>"
            ]
          },
          "metadata": {
            "tags": []
          },
          "execution_count": 10
        }
      ]
    },
    {
      "cell_type": "code",
      "metadata": {
        "colab": {
          "base_uri": "https://localhost:8080/"
        },
        "id": "IWR3HH9zyfuz",
        "outputId": "e8cea7ef-3d6c-4830-ed23-b62fc0dc2af0"
      },
      "source": [
        "# Add a Conv3D up-convolution with 64 filters to your network\n",
        "up_depth_1_layer_1 = Conv3D(filters=64,\n",
        "kernel_size=(3,3,3),\n",
        "padding='same',\n",
        "strides=(1,1,1)\n",
        ")(up_depth_1_concat)\n",
        "up_depth_1_layer_1 = Activation('relu')(up_depth_1_layer_1)\n",
        "up_depth_1_layer_1"
      ],
      "execution_count": null,
      "outputs": [
        {
          "output_type": "execute_result",
          "data": {
            "text/plain": [
              "<KerasTensor: shape=(None, 64, 160, 160, 16) dtype=float32 (created by layer 'activation_4')>"
            ]
          },
          "metadata": {
            "tags": []
          },
          "execution_count": 11
        }
      ]
    },
    {
      "cell_type": "code",
      "metadata": {
        "colab": {
          "base_uri": "https://localhost:8080/"
        },
        "id": "lnwYZoOry4rw",
        "outputId": "c7521d1b-b701-4ca2-d131-77c9d60a1385"
      },
      "source": [
        "# Add a Conv3D up-convolution with 64 filters to your network\n",
        "up_depth_1_layer_2 = Conv3D(filters=64,\n",
        "kernel_size=(3,3,3),\n",
        "padding='same',\n",
        "strides=(1,1,1)\n",
        ")(up_depth_1_layer_1)\n",
        "up_depth_1_layer_2 = Activation('relu')(up_depth_1_layer_2)\n",
        "up_depth_1_layer_2"
      ],
      "execution_count": null,
      "outputs": [
        {
          "output_type": "execute_result",
          "data": {
            "text/plain": [
              "<KerasTensor: shape=(None, 64, 160, 160, 16) dtype=float32 (created by layer 'activation_5')>"
            ]
          },
          "metadata": {
            "tags": []
          },
          "execution_count": 12
        }
      ]
    },
    {
      "cell_type": "code",
      "metadata": {
        "colab": {
          "base_uri": "https://localhost:8080/"
        },
        "id": "dkS1Hmaly_8C",
        "outputId": "65e31cd6-c434-48c1-900b-9ee50d003de2"
      },
      "source": [
        "# Add a final Conv3D with 3 filters to your network.\n",
        "final_conv = Conv3D(filters=1, #3 categories\n",
        "kernel_size=(1,1,1),\n",
        "padding='valid',\n",
        "strides=(1,1,1)\n",
        ")(up_depth_1_layer_2)\n",
        "final_conv"
      ],
      "execution_count": null,
      "outputs": [
        {
          "output_type": "execute_result",
          "data": {
            "text/plain": [
              "<KerasTensor: shape=(None, 1, 160, 160, 16) dtype=float32 (created by layer 'conv3d_6')>"
            ]
          },
          "metadata": {
            "tags": []
          },
          "execution_count": 13
        }
      ]
    },
    {
      "cell_type": "code",
      "metadata": {
        "colab": {
          "base_uri": "https://localhost:8080/"
        },
        "id": "X9FWd1LR4o3a",
        "outputId": "6e681dec-4f38-4d5f-c028-89ea7ef479f2"
      },
      "source": [
        "# Add a sigmoid activation to your final convolution.\n",
        "final_activation = Activation('sigmoid')(final_conv)\n",
        "final_activation"
      ],
      "execution_count": null,
      "outputs": [
        {
          "output_type": "execute_result",
          "data": {
            "text/plain": [
              "<KerasTensor: shape=(None, 1, 160, 160, 16) dtype=float32 (created by layer 'activation_6')>"
            ]
          },
          "metadata": {
            "tags": []
          },
          "execution_count": 14
        }
      ]
    },
    {
      "cell_type": "code",
      "metadata": {
        "colab": {
          "base_uri": "https://localhost:8080/"
        },
        "id": "viLRTVhB4tYd",
        "outputId": "37947c6d-0307-441e-a550-44e42212a8e2"
      },
      "source": [
        "# Define and compile your model\n",
        "model = Model(inputs=input_layer, outputs=final_activation)\n",
        "model.compile(optimizer=Adam(lr=0.00001),\n",
        "loss='categorical_crossentropy',\n",
        "metrics=['categorical_accuracy']\n",
        ")\n",
        "# Print out a summary of the model you created\n",
        "model.summary()"
      ],
      "execution_count": null,
      "outputs": [
        {
          "output_type": "stream",
          "text": [
            "Model: \"model\"\n",
            "__________________________________________________________________________________________________\n",
            "Layer (type)                    Output Shape         Param #     Connected to                     \n",
            "==================================================================================================\n",
            "input_1 (InputLayer)            [(None, 4, 160, 160, 0                                            \n",
            "__________________________________________________________________________________________________\n",
            "conv3d (Conv3D)                 (None, 32, 160, 160, 3488        input_1[0][0]                    \n",
            "__________________________________________________________________________________________________\n",
            "activation (Activation)         (None, 32, 160, 160, 0           conv3d[0][0]                     \n",
            "__________________________________________________________________________________________________\n",
            "conv3d_1 (Conv3D)               (None, 64, 160, 160, 55360       activation[0][0]                 \n",
            "__________________________________________________________________________________________________\n",
            "activation_1 (Activation)       (None, 64, 160, 160, 0           conv3d_1[0][0]                   \n",
            "__________________________________________________________________________________________________\n",
            "max_pooling3d (MaxPooling3D)    (None, 64, 80, 80, 8 0           activation_1[0][0]               \n",
            "__________________________________________________________________________________________________\n",
            "conv3d_2 (Conv3D)               (None, 64, 80, 80, 8 110656      max_pooling3d[0][0]              \n",
            "__________________________________________________________________________________________________\n",
            "activation_2 (Activation)       (None, 64, 80, 80, 8 0           conv3d_2[0][0]                   \n",
            "__________________________________________________________________________________________________\n",
            "conv3d_3 (Conv3D)               (None, 128, 80, 80,  221312      activation_2[0][0]               \n",
            "__________________________________________________________________________________________________\n",
            "activation_3 (Activation)       (None, 128, 80, 80,  0           conv3d_3[0][0]                   \n",
            "__________________________________________________________________________________________________\n",
            "up_sampling3d (UpSampling3D)    (None, 128, 160, 160 0           activation_3[0][0]               \n",
            "__________________________________________________________________________________________________\n",
            "concatenate (Concatenate)       (None, 192, 160, 160 0           up_sampling3d[0][0]              \n",
            "                                                                 activation_1[0][0]               \n",
            "__________________________________________________________________________________________________\n",
            "conv3d_4 (Conv3D)               (None, 64, 160, 160, 331840      concatenate[0][0]                \n",
            "__________________________________________________________________________________________________\n",
            "activation_4 (Activation)       (None, 64, 160, 160, 0           conv3d_4[0][0]                   \n",
            "__________________________________________________________________________________________________\n",
            "conv3d_5 (Conv3D)               (None, 64, 160, 160, 110656      activation_4[0][0]               \n",
            "__________________________________________________________________________________________________\n",
            "activation_5 (Activation)       (None, 64, 160, 160, 0           conv3d_5[0][0]                   \n",
            "__________________________________________________________________________________________________\n",
            "conv3d_6 (Conv3D)               (None, 1, 160, 160,  65          activation_5[0][0]               \n",
            "__________________________________________________________________________________________________\n",
            "activation_6 (Activation)       (None, 1, 160, 160,  0           conv3d_6[0][0]                   \n",
            "==================================================================================================\n",
            "Total params: 833,377\n",
            "Trainable params: 833,377\n",
            "Non-trainable params: 0\n",
            "__________________________________________________________________________________________________\n"
          ],
          "name": "stdout"
        }
      ]
    },
    {
      "cell_type": "markdown",
      "metadata": {
        "id": "T1pnYYS6XBw6"
      },
      "source": [
        "# 3D Unet util"
      ]
    },
    {
      "cell_type": "code",
      "metadata": {
        "id": "9_WLhSHAXK7C"
      },
      "source": [
        "import cv2\n",
        "import h5py\n",
        "import imageio\n",
        "import keras\n",
        "import matplotlib.pyplot as plt\n",
        "import numpy as np\n",
        "import tensorflow as tf\n",
        "from IPython.display import Image\n",
        "from keras import backend as K\n",
        "from keras.engine import Input, Model\n",
        "from tensorflow.keras.layers import (\n",
        "    Activation,\n",
        "    Conv3D,\n",
        "    Conv3DTranspose,\n",
        "    MaxPooling3D,\n",
        "    UpSampling3D,\n",
        ")\n",
        "from keras.layers import Conv3D, MaxPooling3D, UpSampling3D, Activation, BatchNormalization\n",
        "from keras.layers.merge import concatenate\n",
        "from keras.optimizers import Adam\n",
        "from keras.utils import to_categorical\n",
        "from tensorflow.compat.v1.logging import INFO, set_verbosity\n",
        "\n",
        "set_verbosity(INFO)\n",
        "\n",
        "K.set_image_data_format(\"channels_first\")\n",
        "\n",
        "\n",
        "def plot_image_grid(image):\n",
        "    data_all = []\n",
        "\n",
        "    data_all.append(image)\n",
        "\n",
        "    fig, ax = plt.subplots(3, 6, figsize=[16, 9])\n",
        "\n",
        "    # coronal plane\n",
        "    coronal = np.transpose(data_all, [1, 3, 2, 4, 0])\n",
        "    coronal = np.rot90(coronal, 1)\n",
        "\n",
        "    # transversal plane\n",
        "    transversal = np.transpose(data_all, [2, 1, 3, 4, 0])\n",
        "    transversal = np.rot90(transversal, 2)\n",
        "\n",
        "    # sagittal plane\n",
        "    sagittal = np.transpose(data_all, [2, 3, 1, 4, 0])\n",
        "    sagittal = np.rot90(sagittal, 1)\n",
        "\n",
        "    for i in range(6):\n",
        "        n = np.random.randint(coronal.shape[2])\n",
        "        ax[0][i].imshow(np.squeeze(coronal[:, :, n, :]))\n",
        "        ax[0][i].set_xticks([])\n",
        "        ax[0][i].set_yticks([])\n",
        "        if i == 0:\n",
        "            ax[0][i].set_ylabel('Coronal', fontsize=15)\n",
        "\n",
        "    for i in range(6):\n",
        "        n = np.random.randint(transversal.shape[2])\n",
        "        ax[1][i].imshow(np.squeeze(transversal[:, :, n, :]))\n",
        "        ax[1][i].set_xticks([])\n",
        "        ax[1][i].set_yticks([])\n",
        "        if i == 0:\n",
        "            ax[1][i].set_ylabel('Transversal', fontsize=15)\n",
        "\n",
        "    for i in range(6):\n",
        "        n = np.random.randint(sagittal.shape[2])\n",
        "        ax[2][i].imshow(np.squeeze(sagittal[:, :, n, :]))\n",
        "        ax[2][i].set_xticks([])\n",
        "        ax[2][i].set_yticks([])\n",
        "        if i == 0:\n",
        "            ax[2][i].set_ylabel('Sagittal', fontsize=15)\n",
        "\n",
        "    fig.subplots_adjust(wspace=0, hspace=0)\n",
        "\n",
        "\n",
        "def visualize_data_gif(data_):\n",
        "    images = []\n",
        "    for i in range(data_.shape[0]):\n",
        "        x = data_[min(i, data_.shape[0] - 1), :, :]\n",
        "        y = data_[:, min(i, data_.shape[1] - 1), :]\n",
        "        z = data_[:, :, min(i, data_.shape[2] - 1)]\n",
        "        img = np.concatenate((x, y, z), axis=1)\n",
        "        images.append(img)\n",
        "    imageio.mimsave(\"/tmp/gif.gif\", images, duration=0.01)\n",
        "    return Image(filename=\"/tmp/gif.gif\", format='png')\n",
        "\n",
        "\n",
        "# Some code was borrowed from:\n",
        "# https://github.com/ellisdg/3DUnetCNN/blob/master/unet3d/\n",
        "\n",
        "\n",
        "def create_convolution_block(input_layer, n_filters, batch_normalization=False,\n",
        "                             kernel=(3, 3, 3), activation=None,\n",
        "                             padding='same', strides=(1, 1, 1),\n",
        "                             instance_normalization=False):\n",
        "    \"\"\"\n",
        "    :param strides:\n",
        "    :param input_layer:\n",
        "    :param n_filters:\n",
        "    :param batch_normalization:\n",
        "    :param kernel:\n",
        "    :param activation: Keras activation layer to use. (default is 'relu')\n",
        "    :param padding:\n",
        "    :return:\n",
        "    \"\"\"\n",
        "    layer = Conv3D(n_filters, kernel, padding=padding, strides=strides)(\n",
        "        input_layer)\n",
        "    if activation is None:\n",
        "        return Activation('relu')(layer)\n",
        "    else:\n",
        "        return activation()(layer)\n",
        "\n",
        "\n",
        "def get_up_convolution(n_filters, pool_size, kernel_size=(2, 2, 2),\n",
        "                       strides=(2, 2, 2),\n",
        "                       deconvolution=False):\n",
        "    if deconvolution:\n",
        "        return Deconvolution3D(filters=n_filters, kernel_size=kernel_size,\n",
        "                               strides=strides)\n",
        "    else:\n",
        "        return UpSampling3D(size=pool_size)\n",
        "\n",
        "\n",
        "def unet_model_3d(loss_function, input_shape=(4, 160, 160, 16),\n",
        "                  pool_size=(2, 2, 2), n_labels=3,\n",
        "                  initial_learning_rate=0.00001,\n",
        "                  deconvolution=False, depth=4, n_base_filters=32,\n",
        "                  include_label_wise_dice_coefficients=False, metrics=[],\n",
        "                  batch_normalization=False, activation_name=\"sigmoid\"):\n",
        "    \"\"\"\n",
        "    Builds the 3D UNet Keras model.f\n",
        "    :param metrics: List metrics to be calculated during model training (default is dice coefficient).\n",
        "    :param include_label_wise_dice_coefficients: If True and n_labels is greater than 1, model will report the dice\n",
        "    coefficient for each label as metric.\n",
        "    :param n_base_filters: The number of filters that the first layer in the convolution network will have. Following\n",
        "    layers will contain a multiple of this number. Lowering this number will likely reduce the amount of memory required\n",
        "    to train the model.\n",
        "    :param depth: indicates the depth of the U-shape for the model. The greater the depth, the more max pooling\n",
        "    layers will be added to the model. Lowering the depth may reduce the amount of memory required for training.\n",
        "    :param input_shape: Shape of the input data (n_chanels, x_size, y_size, z_size). The x, y, and z sizes must be\n",
        "    divisible by the pool size to the power of the depth of the UNet, that is pool_size^depth.\n",
        "    :param pool_size: Pool size for the max pooling operations.\n",
        "    :param n_labels: Number of binary labels that the model is learning.\n",
        "    :param initial_learning_rate: Initial learning rate for the model. This will be decayed during training.\n",
        "    :param deconvolution: If set to True, will use transpose convolution(deconvolution) instead of up-sampling. This\n",
        "    increases the amount memory required during training.\n",
        "    :return: Untrained 3D UNet Model\n",
        "    \"\"\"\n",
        "    inputs = Input(input_shape)\n",
        "    current_layer = inputs\n",
        "    levels = list()\n",
        "\n",
        "    # add levels with max pooling\n",
        "    for layer_depth in range(depth):\n",
        "        layer1 = create_convolution_block(input_layer=current_layer,\n",
        "                                          n_filters=n_base_filters * (\n",
        "                                                  2 ** layer_depth),\n",
        "                                          batch_normalization=batch_normalization)\n",
        "        layer2 = create_convolution_block(input_layer=layer1,\n",
        "                                          n_filters=n_base_filters * (\n",
        "                                                  2 ** layer_depth) * 2,\n",
        "                                          batch_normalization=batch_normalization)\n",
        "        if layer_depth < depth - 1:\n",
        "            current_layer = MaxPooling3D(pool_size=pool_size)(layer2)\n",
        "            levels.append([layer1, layer2, current_layer])\n",
        "        else:\n",
        "            current_layer = layer2\n",
        "            levels.append([layer1, layer2])\n",
        "\n",
        "    # add levels with up-convolution or up-sampling\n",
        "    for layer_depth in range(depth - 2, -1, -1):\n",
        "        up_convolution = get_up_convolution(pool_size=pool_size,\n",
        "                                            deconvolution=deconvolution,\n",
        "                                            n_filters=\n",
        "                                            current_layer.shape[1])(\n",
        "            current_layer)\n",
        "        concat = concatenate([up_convolution, levels[layer_depth][1]], axis=1)\n",
        "        current_layer = create_convolution_block(\n",
        "            n_filters=levels[layer_depth][1].shape[1],\n",
        "            input_layer=concat, batch_normalization=batch_normalization)\n",
        "        current_layer = create_convolution_block(\n",
        "            n_filters=levels[layer_depth][1].shape[1],\n",
        "            input_layer=current_layer,\n",
        "            batch_normalization=batch_normalization)\n",
        "\n",
        "    final_convolution = Conv3D(n_labels, (1, 1, 1))(current_layer)\n",
        "    act = Activation(activation_name)(final_convolution)\n",
        "    model = Model(inputs=inputs, outputs=act)\n",
        "\n",
        "    if not isinstance(metrics, list):\n",
        "        metrics = [metrics]\n",
        "\n",
        "    model.compile(optimizer=Adam(lr=initial_learning_rate), loss=loss_function,\n",
        "                  metrics=metrics)\n",
        "    return model\n",
        "\n",
        "\n",
        "def visualize_patch(X, y):\n",
        "    fig, ax = plt.subplots(1, 2, figsize=[10, 5], squeeze=False)\n",
        "\n",
        "    ax[0][0].imshow(X[:, :, 0], cmap='Greys_r')\n",
        "    ax[0][0].set_yticks([])\n",
        "    ax[0][0].set_xticks([])\n",
        "    ax[0][1].imshow(y[:, :, 0], cmap='Greys_r')\n",
        "    ax[0][1].set_xticks([])\n",
        "    ax[0][1].set_yticks([])\n",
        "\n",
        "    fig.subplots_adjust(wspace=0, hspace=0)\n",
        "\n",
        "\n",
        "class VolumeDataGenerator(keras.utils.Sequence):\n",
        "    def __init__(self,\n",
        "                 sample_list,\n",
        "                 base_dir,\n",
        "                 batch_size=1,\n",
        "                 shuffle=True,\n",
        "                 dim=(160, 160, 16),\n",
        "                 num_channels=4,\n",
        "                 num_classes=3,\n",
        "                 verbose=1):\n",
        "        self.batch_size = batch_size\n",
        "        self.shuffle = shuffle\n",
        "        self.base_dir = base_dir\n",
        "        self.dim = dim\n",
        "        self.num_channels = num_channels\n",
        "        self.num_classes = num_classes\n",
        "        self.verbose = verbose\n",
        "        self.sample_list = sample_list\n",
        "        self.on_epoch_end()\n",
        "\n",
        "    def on_epoch_end(self):\n",
        "        'Updates indexes after each epoch'\n",
        "        self.indexes = np.arange(len(self.sample_list))\n",
        "        if self.shuffle == True:\n",
        "            np.random.shuffle(self.indexes)\n",
        "\n",
        "    def __len__(self):\n",
        "        'Denotes the number of batches per epoch'\n",
        "        return int(np.floor(len(self.sample_list) / self.batch_size))\n",
        "\n",
        "    def __data_generation(self, list_IDs_temp):\n",
        "        'Generates data containing batch_size samples'\n",
        "\n",
        "        # Initialization\n",
        "        X = np.zeros((self.batch_size, self.num_channels, *self.dim),\n",
        "                     dtype=np.float64)\n",
        "        y = np.zeros((self.batch_size, self.num_classes, *self.dim),\n",
        "                     dtype=np.float64)\n",
        "\n",
        "        # Generate data\n",
        "        for i, ID in enumerate(list_IDs_temp):\n",
        "            # Store sample\n",
        "            if self.verbose == 1:\n",
        "                print(\"Training on: %s\" % self.base_dir + ID)\n",
        "            with h5py.File(self.base_dir + ID, 'r') as f:\n",
        "                X[i] = np.array(f.get(\"x\"))\n",
        "                # remove the background class\n",
        "                y[i] = np.moveaxis(np.array(f.get(\"y\")), 3, 0)[1:]\n",
        "        return X, y\n",
        "\n",
        "    def __getitem__(self, index):\n",
        "        'Generate one batch of data'\n",
        "        # Generate indexes of the batch\n",
        "        indexes = self.indexes[\n",
        "                  index * self.batch_size: (index + 1) * self.batch_size]\n",
        "        # Find list of IDs\n",
        "        sample_list_temp = [self.sample_list[k] for k in indexes]\n",
        "        # Generate data\n",
        "        X, y = self.__data_generation(sample_list_temp)\n",
        "\n",
        "        return X, y\n",
        "\n",
        "\n",
        "def get_labeled_image(image, label, is_categorical=False):\n",
        "    if not is_categorical:\n",
        "        label = to_categorical(label, num_classes=4).astype(np.uint8)\n",
        "\n",
        "    image = cv2.normalize(image[:, :, :, 0], None, alpha=0, beta=255,\n",
        "                          norm_type=cv2.NORM_MINMAX, dtype=cv2.CV_32F).astype(\n",
        "        np.uint8)\n",
        "\n",
        "    labeled_image = np.zeros_like(label[:, :, :, 1:])\n",
        "\n",
        "    # remove tumor part from image\n",
        "    labeled_image[:, :, :, 0] = image * (label[:, :, :, 0])\n",
        "    labeled_image[:, :, :, 1] = image * (label[:, :, :, 0])\n",
        "    labeled_image[:, :, :, 2] = image * (label[:, :, :, 0])\n",
        "\n",
        "    # color labels\n",
        "    labeled_image += label[:, :, :, 1:] * 255\n",
        "    return labeled_image\n",
        "\n",
        "\n",
        "def predict_and_viz(image, label, model, threshold, loc=(100, 100, 50)):\n",
        "    image_labeled = get_labeled_image(image.copy(), label.copy())\n",
        "\n",
        "    model_label = np.zeros([3, 320, 320, 160])\n",
        "\n",
        "    for x in range(0, image.shape[0], 160):\n",
        "        for y in range(0, image.shape[1], 160):\n",
        "            for z in range(0, image.shape[2], 16):\n",
        "                patch = np.zeros([4, 160, 160, 16])\n",
        "                p = np.moveaxis(image[x: x + 160, y: y + 160, z:z + 16], 3, 0)\n",
        "                patch[:, 0:p.shape[1], 0:p.shape[2], 0:p.shape[3]] = p\n",
        "                pred = model.predict(np.expand_dims(patch, 0))\n",
        "                model_label[:, x:x + p.shape[1],\n",
        "                y:y + p.shape[2],\n",
        "                z: z + p.shape[3]] += pred[0][:, :p.shape[1], :p.shape[2],\n",
        "                                      :p.shape[3]]\n",
        "\n",
        "    model_label = np.moveaxis(model_label[:, 0:240, 0:240, 0:155], 0, 3)\n",
        "    model_label_reformatted = np.zeros((240, 240, 155, 4))\n",
        "\n",
        "    model_label_reformatted = to_categorical(label, num_classes=4).astype(\n",
        "        np.uint8)\n",
        "\n",
        "    model_label_reformatted[:, :, :, 1:4] = model_label\n",
        "\n",
        "    model_labeled_image = get_labeled_image(image, model_label_reformatted,\n",
        "                                            is_categorical=True)\n",
        "\n",
        "    fig, ax = plt.subplots(2, 3, figsize=[10, 7])\n",
        "\n",
        "    # plane values\n",
        "    x, y, z = loc\n",
        "\n",
        "    ax[0][0].imshow(np.rot90(image_labeled[x, :, :, :]))\n",
        "    ax[0][0].set_ylabel('Ground Truth', fontsize=15)\n",
        "    ax[0][0].set_xlabel('Sagital', fontsize=15)\n",
        "\n",
        "    ax[0][1].imshow(np.rot90(image_labeled[:, y, :, :]))\n",
        "    ax[0][1].set_xlabel('Coronal', fontsize=15)\n",
        "\n",
        "    ax[0][2].imshow(np.squeeze(image_labeled[:, :, z, :]))\n",
        "    ax[0][2].set_xlabel('Transversal', fontsize=15)\n",
        "\n",
        "    ax[1][0].imshow(np.rot90(model_labeled_image[x, :, :, :]))\n",
        "    ax[1][0].set_ylabel('Prediction', fontsize=15)\n",
        "\n",
        "    ax[1][1].imshow(np.rot90(model_labeled_image[:, y, :, :]))\n",
        "    ax[1][2].imshow(model_labeled_image[:, :, z, :])\n",
        "\n",
        "    fig.subplots_adjust(wspace=0, hspace=.12)\n",
        "\n",
        "    for i in range(2):\n",
        "        for j in range(3):\n",
        "            ax[i][j].set_xticks([])\n",
        "            ax[i][j].set_yticks([])\n",
        "\n",
        "    return model_label_reformatted\n"
      ],
      "execution_count": null,
      "outputs": []
    },
    {
      "cell_type": "markdown",
      "metadata": {
        "id": "lCOIPCbOXZu-"
      },
      "source": [
        "# Create and Train the model"
      ]
    },
    {
      "cell_type": "code",
      "metadata": {
        "id": "kdLQW23WXdUI"
      },
      "source": [
        "model = unet_model_3d(loss_function=soft_dice_loss, metrics=[dice_coefficient])"
      ],
      "execution_count": null,
      "outputs": []
    },
    {
      "cell_type": "code",
      "metadata": {
        "colab": {
          "base_uri": "https://localhost:8080/",
          "height": 286
        },
        "id": "exNSBRdiaqUW",
        "outputId": "be0695ec-cce2-4041-827d-c3d05f1e4f6f"
      },
      "source": [
        "HOME_DIR = '/content/drive/MyDrive/ThesisProject/'\n",
        "base_dir = HOME_DIR + \"processed/\"\n",
        "training_img = np.load('/content/drive/MyDrive/ThesisProject/dataset/leg_nii/train_set/npz/crop_test_equal_uint.npz')['img_crop']\n",
        "training_seg = np.load('/content/drive/MyDrive/ThesisProject/dataset/leg_nii/train_set/npz/crop_test_equal_uint.npz')['seg_crop']\n",
        "\n",
        "# with open(base_dir + \"config.json\") as json_file:\n",
        "#     config = json.load(json_file)\n",
        "\n",
        "# Get generators for training and validation sets\n",
        "train_generator = VolumeDataGenerator(config[\"train\"], training_img, batch_size=3, dim=(160, 160, 16), verbose=0)\n",
        "valid_generator = VolumeDataGenerator(config[\"valid\"], training_seg, batch_size=3, dim=(160, 160, 16), verbose=0)\n",
        "\n",
        "steps_per_epoch = 20\n",
        "n_epochs=10\n",
        "validation_steps = 20\n",
        "\n",
        "model.fit_generator(generator=train_generator,\n",
        "        steps_per_epoch=steps_per_epoch,\n",
        "        epochs=n_epochs,\n",
        "        use_multiprocessing=True,\n",
        "        validation_data=valid_generator,\n",
        "        validation_steps=validation_steps)\n",
        "\n",
        "# run this cell if you to save the weights of your trained model in cell section 4.1\n",
        "model.save_weights(base_dir + 'my_model_pretrained.hdf5')"
      ],
      "execution_count": null,
      "outputs": [
        {
          "output_type": "error",
          "ename": "NameError",
          "evalue": "ignored",
          "traceback": [
            "\u001b[0;31m---------------------------------------------------------------------------\u001b[0m",
            "\u001b[0;31mNameError\u001b[0m                                 Traceback (most recent call last)",
            "\u001b[0;32m<ipython-input-40-f331aed50aba>\u001b[0m in \u001b[0;36m<module>\u001b[0;34m()\u001b[0m\n\u001b[1;32m      8\u001b[0m \u001b[0;34m\u001b[0m\u001b[0m\n\u001b[1;32m      9\u001b[0m \u001b[0;31m# Get generators for training and validation sets\u001b[0m\u001b[0;34m\u001b[0m\u001b[0;34m\u001b[0m\u001b[0;34m\u001b[0m\u001b[0m\n\u001b[0;32m---> 10\u001b[0;31m \u001b[0mtrain_generator\u001b[0m \u001b[0;34m=\u001b[0m \u001b[0mVolumeDataGenerator\u001b[0m\u001b[0;34m(\u001b[0m\u001b[0mconfig\u001b[0m\u001b[0;34m[\u001b[0m\u001b[0;34m\"train\"\u001b[0m\u001b[0;34m]\u001b[0m\u001b[0;34m,\u001b[0m \u001b[0mtraining_img\u001b[0m\u001b[0;34m,\u001b[0m \u001b[0mbatch_size\u001b[0m\u001b[0;34m=\u001b[0m\u001b[0;36m3\u001b[0m\u001b[0;34m,\u001b[0m \u001b[0mdim\u001b[0m\u001b[0;34m=\u001b[0m\u001b[0;34m(\u001b[0m\u001b[0;36m160\u001b[0m\u001b[0;34m,\u001b[0m \u001b[0;36m160\u001b[0m\u001b[0;34m,\u001b[0m \u001b[0;36m16\u001b[0m\u001b[0;34m)\u001b[0m\u001b[0;34m,\u001b[0m \u001b[0mverbose\u001b[0m\u001b[0;34m=\u001b[0m\u001b[0;36m0\u001b[0m\u001b[0;34m)\u001b[0m\u001b[0;34m\u001b[0m\u001b[0;34m\u001b[0m\u001b[0m\n\u001b[0m\u001b[1;32m     11\u001b[0m \u001b[0mvalid_generator\u001b[0m \u001b[0;34m=\u001b[0m \u001b[0mVolumeDataGenerator\u001b[0m\u001b[0;34m(\u001b[0m\u001b[0mconfig\u001b[0m\u001b[0;34m[\u001b[0m\u001b[0;34m\"valid\"\u001b[0m\u001b[0;34m]\u001b[0m\u001b[0;34m,\u001b[0m \u001b[0mtraining_seg\u001b[0m\u001b[0;34m,\u001b[0m \u001b[0mbatch_size\u001b[0m\u001b[0;34m=\u001b[0m\u001b[0;36m3\u001b[0m\u001b[0;34m,\u001b[0m \u001b[0mdim\u001b[0m\u001b[0;34m=\u001b[0m\u001b[0;34m(\u001b[0m\u001b[0;36m160\u001b[0m\u001b[0;34m,\u001b[0m \u001b[0;36m160\u001b[0m\u001b[0;34m,\u001b[0m \u001b[0;36m16\u001b[0m\u001b[0;34m)\u001b[0m\u001b[0;34m,\u001b[0m \u001b[0mverbose\u001b[0m\u001b[0;34m=\u001b[0m\u001b[0;36m0\u001b[0m\u001b[0;34m)\u001b[0m\u001b[0;34m\u001b[0m\u001b[0;34m\u001b[0m\u001b[0m\n\u001b[1;32m     12\u001b[0m \u001b[0;34m\u001b[0m\u001b[0m\n",
            "\u001b[0;31mNameError\u001b[0m: name 'config' is not defined"
          ]
        }
      ]
    }
  ]
}